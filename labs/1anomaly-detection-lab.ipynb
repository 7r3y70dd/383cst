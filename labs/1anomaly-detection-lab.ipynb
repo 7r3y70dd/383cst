{
 "cells": [
  {
   "cell_type": "markdown",
   "metadata": {
    "id": "nXIb_Dhnoxa9"
   },
   "source": [
    "# Anomaly detection with college data\n",
    "\n",
    "Dr. Bruns, CST 383, CSUMB"
   ]
  },
  {
   "cell_type": "code",
   "execution_count": 49,
   "metadata": {
    "id": "jkWt2GV1oxbD"
   },
   "outputs": [],
   "source": [
    "import numpy as np\n",
    "import pandas as pd\n",
    "import matplotlib.pyplot as plt\n",
    "import seaborn as sns\n",
    "from sklearn.preprocessing import StandardScaler\n",
    "from sklearn.neighbors import LocalOutlierFactor, KNeighborsClassifier\n",
    "from sklearn.ensemble import IsolationForest\n",
    "from sklearn.model_selection import train_test_split\n",
    "from scipy.stats import zscore"
   ]
  },
  {
   "cell_type": "code",
   "execution_count": 50,
   "metadata": {
    "id": "_KzDKZ5coxbE"
   },
   "outputs": [],
   "source": [
    "# plotting\n",
    "sns.set()\n",
    "sns.set_context('talk')\n",
    "sns.set_style('whitegrid')"
   ]
  },
  {
   "cell_type": "markdown",
   "metadata": {
    "id": "vNpLUrINoxbF"
   },
   "source": [
    "#### Load and preprocess the college data"
   ]
  },
  {
   "cell_type": "code",
   "execution_count": 52,
   "metadata": {
    "id": "7AkUCoy7oxbG"
   },
   "outputs": [],
   "source": [
    "df = pd.read_csv('https://raw.githubusercontent.com/grbruns/cst383/master/College.csv', index_col=0)\n",
    "df.drop(['Private'], axis=1, inplace=True)\n",
    "\n",
    "# scale the data using Z-score normalization\n",
    "df = df.apply(zscore)\n",
    "X = df.values"
   ]
  },
  {
   "cell_type": "markdown",
   "metadata": {
    "id": "lNJQ1Fj4oxbG"
   },
   "source": [
    "#### 1. How many features are there?"
   ]
  },
  {
   "cell_type": "code",
   "execution_count": 54,
   "metadata": {
    "id": "HbwcmeCfoxbG"
   },
   "outputs": [
    {
     "name": "stdout",
     "output_type": "stream",
     "text": [
      "<class 'pandas.core.frame.DataFrame'>\n",
      "Index: 777 entries, Abilene Christian University to York College of Pennsylvania\n",
      "Data columns (total 17 columns):\n",
      " #   Column       Non-Null Count  Dtype  \n",
      "---  ------       --------------  -----  \n",
      " 0   Apps         777 non-null    float64\n",
      " 1   Accept       777 non-null    float64\n",
      " 2   Enroll       777 non-null    float64\n",
      " 3   Top10perc    777 non-null    float64\n",
      " 4   Top25perc    777 non-null    float64\n",
      " 5   F.Undergrad  777 non-null    float64\n",
      " 6   P.Undergrad  777 non-null    float64\n",
      " 7   Outstate     777 non-null    float64\n",
      " 8   Room.Board   777 non-null    float64\n",
      " 9   Books        777 non-null    float64\n",
      " 10  Personal     777 non-null    float64\n",
      " 11  PhD          777 non-null    float64\n",
      " 12  Terminal     777 non-null    float64\n",
      " 13  S.F.Ratio    777 non-null    float64\n",
      " 14  perc.alumni  777 non-null    float64\n",
      " 15  Expend       777 non-null    float64\n",
      " 16  Grad.Rate    777 non-null    float64\n",
      "dtypes: float64(17)\n",
      "memory usage: 125.4+ KB\n"
     ]
    }
   ],
   "source": [
    "df.info()"
   ]
  },
  {
   "cell_type": "markdown",
   "metadata": {
    "id": "iDrD6UMAoxbG"
   },
   "source": [
    "#### 2. What is the mean value of every feature?"
   ]
  },
  {
   "cell_type": "code",
   "execution_count": 62,
   "metadata": {
    "id": "R9G-Q39ioxbG"
   },
   "outputs": [
    {
     "data": {
      "text/plain": [
       "Apps           3.657878e-17\n",
       "Accept         5.486816e-17\n",
       "Enroll        -5.486816e-17\n",
       "Top10perc     -4.115112e-17\n",
       "Top25perc     -1.554598e-16\n",
       "F.Undergrad    1.828939e-17\n",
       "P.Undergrad    0.000000e+00\n",
       "Outstate       1.554598e-16\n",
       "Room.Board     3.474984e-16\n",
       "Books         -1.760354e-16\n",
       "Personal       4.572347e-17\n",
       "PhD            4.572347e-17\n",
       "Terminal      -4.115112e-16\n",
       "S.F.Ratio     -6.401286e-17\n",
       "perc.alumni    9.144694e-18\n",
       "Expend         1.325981e-16\n",
       "Grad.Rate      3.612154e-16\n",
       "dtype: float64"
      ]
     },
     "execution_count": 62,
     "metadata": {},
     "output_type": "execute_result"
    }
   ],
   "source": [
    "df.mean()"
   ]
  },
  {
   "cell_type": "markdown",
   "metadata": {},
   "source": [
    "## Part 1 - finding weird colleges"
   ]
  },
  {
   "cell_type": "markdown",
   "metadata": {
    "id": "5YM5h30BoxbH"
   },
   "source": [
    "#### 3. Using IsolationForest, create a dataframe containing only the outlier colleges\n",
    "\n",
    "First, create the IsolationForest.\n",
    "Second, fit and predict on X.  Save the result to 'outliers'.\n",
    "Third, create a dataframe 'df_out' of outliers."
   ]
  },
  {
   "cell_type": "code",
   "execution_count": 12,
   "metadata": {
    "id": "2tIirqNCoxbH"
   },
   "outputs": [],
   "source": [
    "clf ="
   ]
  },
  {
   "cell_type": "markdown",
   "metadata": {
    "id": "vJ51tHA1oxbH"
   },
   "source": [
    "#### 4. How many outlier colleges are there?\n",
    "\n",
    "Don't set a contamination value -- let IsolationForest decide what an anomaly is."
   ]
  },
  {
   "cell_type": "code",
   "execution_count": 14,
   "metadata": {
    "id": "KUl94WemoxbH"
   },
   "outputs": [],
   "source": [
    "# YOUR CODE HERE"
   ]
  },
  {
   "cell_type": "markdown",
   "metadata": {
    "id": "LgCqHxaAoxbH"
   },
   "source": [
    "#### 5. Get the score for each college\n",
    "\n",
    "Save the scores to 'scores'.\n",
    "\n",
    "hint: use .decision_function()"
   ]
  },
  {
   "cell_type": "code",
   "execution_count": 16,
   "metadata": {
    "id": "KUl94WemoxbH"
   },
   "outputs": [],
   "source": [
    "# YOUR CODE HERE"
   ]
  },
  {
   "cell_type": "markdown",
   "metadata": {
    "id": "LgCqHxaAoxbH"
   },
   "source": [
    "#### 6. Print the first 20 values of 'outliers' and 'scores'"
   ]
  },
  {
   "cell_type": "code",
   "execution_count": 18,
   "metadata": {
    "id": "KUl94WemoxbH"
   },
   "outputs": [],
   "source": [
    "# YOUR CODE HERE"
   ]
  },
  {
   "cell_type": "markdown",
   "metadata": {
    "id": "LgCqHxaAoxbH"
   },
   "source": [
    "#### 7. Create a dataframe of the 3 weirdest colleges, and print it"
   ]
  },
  {
   "cell_type": "code",
   "execution_count": 20,
   "metadata": {
    "id": "KUl94WemoxbH"
   },
   "outputs": [],
   "source": [
    "# YOUR CODE HERE"
   ]
  },
  {
   "cell_type": "markdown",
   "metadata": {
    "id": "LgCqHxaAoxbH"
   },
   "source": [
    "#### 8. What makes these colleges weird?\n",
    "\n",
    "Look at the 3 weirdest colleges and see if you can figure out why they are outliers."
   ]
  },
  {
   "cell_type": "markdown",
   "metadata": {},
   "source": [
    "## Part 2 - Cleaning data for machine learning"
   ]
  },
  {
   "cell_type": "code",
   "execution_count": 23,
   "metadata": {},
   "outputs": [],
   "source": [
    "# prepare data for machine learning\n",
    "\n",
    "df = pd.read_csv('https://raw.githubusercontent.com/grbruns/cst383/master/College.csv', index_col=0)\n",
    "\n",
    "# select features, scale the data, and convert to NumPy\n",
    "predictors = df.columns[df.columns != 'Private']\n",
    "target = 'Private'\n",
    "X = df[predictors].values\n",
    "y = df[target].values\n",
    "\n",
    "X_train, X_test, y_train, y_test = train_test_split(X, y, test_size=0.33, random_state=42)\n",
    "\n",
    "scaler = StandardScaler()\n",
    "X_train = scaler.fit_transform(X_train)\n",
    "X_test = scaler.transform(X_test)"
   ]
  },
  {
   "cell_type": "markdown",
   "metadata": {},
   "source": [
    "#### 9. Compute test accuracy using a KNN classifier, with k=11"
   ]
  },
  {
   "cell_type": "code",
   "execution_count": 25,
   "metadata": {
    "id": "KUl94WemoxbH"
   },
   "outputs": [],
   "source": [
    "# YOUR CODE HERE"
   ]
  },
  {
   "cell_type": "markdown",
   "metadata": {},
   "source": [
    "#### 10. Using IsolationForest, clean the training data.\n",
    "\n",
    "Compute the outliers using fit_predict(X_train), then compute X_train_clean and y_train_clean."
   ]
  },
  {
   "cell_type": "code",
   "execution_count": 27,
   "metadata": {
    "id": "KUl94WemoxbH"
   },
   "outputs": [],
   "source": [
    "# YOUR CODE HERE"
   ]
  },
  {
   "cell_type": "markdown",
   "metadata": {},
   "source": [
    "#### 11. Using KNN with k=11 again, train on the clean data and compute the test accuracy"
   ]
  },
  {
   "cell_type": "code",
   "execution_count": 29,
   "metadata": {
    "id": "KUl94WemoxbH"
   },
   "outputs": [],
   "source": [
    "# YOUR CODE HERE"
   ]
  }
 ],
 "metadata": {
  "colab": {
   "name": "3knn-anomaly-detection-lab.ipynb",
   "provenance": []
  },
  "kernelspec": {
   "display_name": "Python 3 (ipykernel)",
   "language": "python",
   "name": "python3"
  },
  "language_info": {
   "codemirror_mode": {
    "name": "ipython",
    "version": 3
   },
   "file_extension": ".py",
   "mimetype": "text/x-python",
   "name": "python",
   "nbconvert_exporter": "python",
   "pygments_lexer": "ipython3",
   "version": "3.12.4"
  }
 },
 "nbformat": 4,
 "nbformat_minor": 4
}
