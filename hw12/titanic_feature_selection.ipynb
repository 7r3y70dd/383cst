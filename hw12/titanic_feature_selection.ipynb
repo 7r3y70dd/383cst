{
 "cells": [
  {
   "cell_type": "markdown",
   "metadata": {
    "id": "qSwX6DCnjwYp"
   },
   "source": [
    "# Predict whether passengers would survive the sinking of the Titanic\n",
    "\n",
    "#### Glenn Bruns, CST 383"
   ]
  },
  {
   "cell_type": "markdown",
   "metadata": {
    "id": "Xl6Pgq9Y3amg"
   },
   "source": [
    "Approximately 1,500 died when the Titanic sunk in the North Atlantic ocean in 1912.  There is data on the passengers on the Titanic, showing their sex, age, number of children, and other information, including whether or not they survived.\n",
    "\n",
    "The purpose of this notebook is to see how well we can predict whether a passenger would survive the sinking of the Titanic using a tree classifier.  A key part of the study will be to compare the importance of predictor variables according to two different methods: the importance given by the tree classifier itself, and the importance found through forward feature selection.   \n",
    "\n",
    "v2.3"
   ]
  },
  {
   "cell_type": "markdown",
   "metadata": {
    "id": "RjaWnk5A3amh"
   },
   "source": [
    "#### Instructions:\n",
    "- Please read the entire notebook carefully.\n",
    "- Problems are shown in code cells below; each problem begins with #@.\n",
    "- Do not make changes outside the problem cells.\n",
    "- You will need to install Graphviz for this assignment.  See instructions just below.\n",
    "- I provide output for some problem cells.  When I do, you should try to recreate my output, including titles, etc.\n",
    "- Run your code from top to bottom before submitting.\n",
    "- Do not modify the file name.\n",
    "\n",
    "Remember to observe our course honor policy.  Do not share code with others, do not look at others' code, do not look for solutions to the problems on the web, and don't use an LLM like ChatGPT for answers to problems.  \n",
    "\n",
    "You are of course allowed to look on the web for how to use NumPy, Pandas, etc.\n",
    "\n",
    "#### Installing Graphviz:\n",
    "Open the Anaconda Prompt (or your terminal if you're using a MacBook) and run the following command to install both the Graphviz binaries and the Python bindings:\n",
    "\n",
    "conda install python-graphviz graphviz\n",
    "\n",
    "This needs to be done in the same Conda environment that you use for this notebook.  Most of you will only have one environment, so this won't be an issue."
   ]
  },
  {
   "cell_type": "code",
   "execution_count": null,
   "metadata": {
    "id": "Og0hX8LijwYs"
   },
   "outputs": [],
   "source": [
    "import numpy as np\n",
    "import pandas as pd\n",
    "import matplotlib.pyplot as plt\n",
    "import seaborn as sns\n",
    "from sklearn.model_selection import train_test_split\n",
    "from sklearn.metrics import confusion_matrix\n",
    "from sklearn.tree import DecisionTreeClassifier, export_graphviz, plot_tree\n",
    "from sklearn.model_selection import learning_curve, GridSearchCV\n",
    "from sklearn.model_selection import cross_val_score\n",
    "from sklearn import tree\n",
    "from IPython.display import display, HTML\n",
    "\n",
    "# suppress futurewarnings only\n",
    "import warnings\n",
    "warnings.simplefilter(action='ignore', category=FutureWarning)"
   ]
  },
  {
   "cell_type": "markdown",
   "metadata": {},
   "source": [
    "If you cannot install Graphviz, comment out the import below.  Then, later in the notebook, use plot_tree_custom_basic() instead of plot_tree_custom()."
   ]
  },
  {
   "cell_type": "code",
   "execution_count": null,
   "metadata": {
    "id": "3EUu6pPe5K_n"
   },
   "outputs": [],
   "source": [
    "import graphviz"
   ]
  },
  {
   "cell_type": "markdown",
   "metadata": {
    "id": "2k7L8W0N3amk"
   },
   "source": [
    "Plotting settings"
   ]
  },
  {
   "cell_type": "code",
   "execution_count": null,
   "metadata": {
    "id": "Q5sNeT-A2n6F"
   },
   "outputs": [],
   "source": [
    "sns.set_theme(context='notebook', style='whitegrid')\n",
    "\n",
    "# set default plot size\n",
    "plt.rcParams['figure.figsize'] = 6,4"
   ]
  },
  {
   "cell_type": "code",
   "execution_count": null,
   "metadata": {},
   "outputs": [],
   "source": [
    "# make the notebook width equal to 90% of the browser window width\n",
    "display(HTML(\"<style>.container { width:90% !important; }</style>\"))"
   ]
  },
  {
   "cell_type": "markdown",
   "metadata": {
    "id": "AICURVPFqi2j"
   },
   "source": [
    "### Read the data"
   ]
  },
  {
   "cell_type": "code",
   "execution_count": null,
   "metadata": {
    "id": "PXOMMeC8qbnd"
   },
   "outputs": [],
   "source": [
    "input_file = \"https://raw.githubusercontent.com/grbruns/cst383/master/titanic-new.csv\"\n",
    "df = pd.read_csv(input_file)"
   ]
  },
  {
   "cell_type": "code",
   "execution_count": null,
   "metadata": {
    "id": "8wBZl0sxqK8E"
   },
   "outputs": [],
   "source": [
    "df.info()"
   ]
  },
  {
   "cell_type": "markdown",
   "metadata": {
    "id": "8lPnQkBNqK8E"
   },
   "source": [
    "For preliminary preprocessing, drop some variables that will not be used, and replace value '?' with np.nan wherever it appears."
   ]
  },
  {
   "cell_type": "code",
   "execution_count": null,
   "metadata": {
    "id": "ZhJkGu_JqK8E"
   },
   "outputs": [],
   "source": [
    "df.drop(['Boat', 'Body', 'HomeDest'], axis=1, inplace=True)\n",
    "df.replace('?', np.nan, inplace=True)"
   ]
  },
  {
   "cell_type": "markdown",
   "metadata": {
    "id": "_AWUTBuZ5K_o"
   },
   "source": [
    "The following summary of the data shows the column names, types, and number of non-null values."
   ]
  },
  {
   "cell_type": "markdown",
   "metadata": {
    "id": "yD6noVXQqK8E"
   },
   "source": [
    "### Initial data exploration"
   ]
  },
  {
   "cell_type": "code",
   "execution_count": null,
   "metadata": {
    "id": "GMaEgcuKqeM9"
   },
   "outputs": [],
   "source": [
    "df.info()"
   ]
  },
  {
   "cell_type": "markdown",
   "metadata": {
    "id": "soL9ocjdn4kl"
   },
   "source": [
    "There is information about missing data in the df.info() output, but it is somewhat hidden.  It is helpful to visualize the missing data information."
   ]
  },
  {
   "cell_type": "code",
   "execution_count": null,
   "metadata": {
    "id": "tMSj10dtqtzc"
   },
   "outputs": [],
   "source": [
    "df.isna().mean().sort_values().plot.barh()\n",
    "plt.title('Fraction NA by variable')\n",
    "plt.xlabel('Fraction of values that are NA')\n",
    "plt.ylabel('Variable');"
   ]
  },
  {
   "cell_type": "markdown",
   "metadata": {
    "id": "NMcoWbTbshJ9"
   },
   "source": [
    "Although it is not obvious from the plot above, variable 'Embarked' contains 2 missing values, and 'Fare' contains 1 missing value."
   ]
  },
  {
   "cell_type": "markdown",
   "metadata": {
    "id": "0EU5SLWm5K_o"
   },
   "source": [
    "The 'Cabin' variable has lots of missing values.  What are the most common values of this variable?"
   ]
  },
  {
   "cell_type": "code",
   "execution_count": null,
   "metadata": {
    "id": "BfSgC2GSrSoG"
   },
   "outputs": [],
   "source": [
    "df['Cabin'].value_counts(dropna=False)[:5]"
   ]
  },
  {
   "cell_type": "markdown",
   "metadata": {
    "id": "PoQ2o5wdosLk"
   },
   "source": [
    "This variable may not be very useful.  It is mostly NA, and each of the non-NA values appears only a small number of times.  Letters like 'B' and 'C' may indicate the class of the cabin.  Some of the Cabin values seem to include multiple cabin numbers.  Do some passengers get multiple cabins?  Would it be useful to convert this variable into one that just gives the number of cabins (with 0 for Nan)?"
   ]
  },
  {
   "cell_type": "markdown",
   "metadata": {
    "id": "WXDXv5kkk4s0"
   },
   "source": [
    "To help in confirming data types, look at the type, the number of unique values, and some of the values, for each variable."
   ]
  },
  {
   "cell_type": "code",
   "execution_count": null,
   "metadata": {
    "id": "awb9GeT1k-zG"
   },
   "outputs": [],
   "source": [
    "df.apply([np.dtype, pd.Series.nunique, pd.Series.unique]).transpose()"
   ]
  },
  {
   "cell_type": "markdown",
   "metadata": {
    "id": "3yozhgfwmwlN"
   },
   "source": [
    "Strangely, some of the 'Age' values are non-integer.  \n",
    "\n",
    "The 'Name' values could potentially be interesting, even if only the title is useful.\n",
    "\n",
    "The 'Ticket' values do not appear to be very interesting, although some ticket numbers are shared between passengers.  \n",
    "\n",
    "Some of the variables which seem to be numeric have 'object' type.  In the case of 'Age', this could be because of NA values.  But why does 'Fare' have object type?"
   ]
  },
  {
   "cell_type": "markdown",
   "metadata": {
    "id": "GAo458NoqK8F"
   },
   "source": [
    "How many tickets are shared by passengers?  How many passengers share the most-shared ticket?"
   ]
  },
  {
   "cell_type": "code",
   "execution_count": null,
   "metadata": {
    "id": "y7apPXurqK8F"
   },
   "outputs": [],
   "source": [
    "df['Ticket'].value_counts().describe()"
   ]
  },
  {
   "cell_type": "markdown",
   "metadata": {
    "id": "QBTOmJjKqK8F"
   },
   "source": [
    "Most tickets aren't shared, but the most-shared ticket is shared by 11 passengers, but most tickets are not shared.  Are the passengers that share the most-shared ticket related?  Also, is the same fare shown for all passengers that share a ticket?"
   ]
  },
  {
   "cell_type": "code",
   "execution_count": 1,
   "metadata": {
    "id": "H8-DWKj5qK8F",
    "scrolled": true
   },
   "outputs": [],
   "source": [
    "#@ 1  Show the Name and Fare values for the passengers that share the most-shared ticket.\n",
    "\n",
    "# Hint: look at the code cell above for an idea of how to find the most-shared ticket.\n",
    "\n",
    "# YOUR CODE HERE"
   ]
  },
  {
   "cell_type": "markdown",
   "metadata": {
    "id": "VY-PZ-yEqK8F"
   },
   "source": [
    "This looks like a large family, so families may all share a single ticket.  It appears that the ticket fare is the fare paid for the single shared ticket.  In other words, it appears that \\\\$60.55 was the cost for the entire family to travel"
   ]
  },
  {
   "cell_type": "markdown",
   "metadata": {
    "id": "A9tFeKBWqZdQ"
   },
   "source": [
    "Does the 'Fare' variable contain any non-numeric values besides the single NA value?"
   ]
  },
  {
   "cell_type": "code",
   "execution_count": null,
   "metadata": {
    "id": "bB0yxUKOq7Ld"
   },
   "outputs": [],
   "source": [
    "non_numeric = pd.to_numeric(df['Fare'], errors='coerce').isna()\n",
    "df['Fare'][non_numeric]"
   ]
  },
  {
   "cell_type": "markdown",
   "metadata": {
    "id": "JXQxl8-KjwYu"
   },
   "source": [
    "### Data preprocessing"
   ]
  },
  {
   "cell_type": "markdown",
   "metadata": {
    "id": "t7S5FRM93amo"
   },
   "source": [
    "Convert variable 'Fare' to a numeric variable."
   ]
  },
  {
   "cell_type": "code",
   "execution_count": null,
   "metadata": {
    "id": "j-TbGcTijwYu"
   },
   "outputs": [],
   "source": [
    "df['Fare'] = pd.to_numeric(df['Fare'], errors='coerce')"
   ]
  },
  {
   "cell_type": "markdown",
   "metadata": {
    "id": "Hj6psYwx3amo"
   },
   "source": [
    "Column 'Cabin' has many unique values, but the first letter is most important, so we retain only that.  For missing values, we use a new letter 'U', for \"unknown\"."
   ]
  },
  {
   "cell_type": "code",
   "execution_count": null,
   "metadata": {
    "id": "jpcOl6ae3amo"
   },
   "outputs": [],
   "source": [
    "df['Cabin'] = df['Cabin'].str.slice(stop=1)\n",
    "df['Cabin'].fillna('U', inplace=True)"
   ]
  },
  {
   "cell_type": "markdown",
   "metadata": {
    "id": "JcUv8UMW3amp"
   },
   "source": [
    "Column 'Ticket' also has many unique values.  We simplify the variable by reducing the values to only True and False, representing whether the ticket value contains letters."
   ]
  },
  {
   "cell_type": "code",
   "execution_count": null,
   "metadata": {
    "id": "Z5W8cJDJ3amp"
   },
   "outputs": [],
   "source": [
    "df['Ticket'] = df['Ticket'].str.contains('[a-zA-Z]')"
   ]
  },
  {
   "cell_type": "markdown",
   "metadata": {
    "id": "lGFJFo6H3amp"
   },
   "source": [
    "Column 'Embarked' has hardly any NA values, so we drop rows of the data set with NA values for 'Embarked'."
   ]
  },
  {
   "cell_type": "code",
   "execution_count": null,
   "metadata": {
    "id": "-f7mGJd63amp"
   },
   "outputs": [],
   "source": [
    "df.dropna(subset=['Embarked'], inplace=True)"
   ]
  },
  {
   "cell_type": "markdown",
   "metadata": {
    "id": "UUtP8G3u3amp"
   },
   "source": [
    "For column 'Name', the most important part is the title, if present.  We therefore extract the title part and create a new variable for it.  The original 'Name' column is dropped."
   ]
  },
  {
   "cell_type": "code",
   "execution_count": null,
   "metadata": {
    "id": "pkEBsfjz3amq"
   },
   "outputs": [],
   "source": [
    "# this could be done more efficiently using Pandas.str.replace\n",
    "def extract_title(s):\n",
    "    titles = ['Mr.', 'Mrs.', 'Miss.', 'Master.', 'Dr.']\n",
    "    for title in titles:\n",
    "        if title in s:\n",
    "            return title\n",
    "    return 'NoTitle'\n",
    "\n",
    "df['Title'] = df['Name'].apply(extract_title)\n",
    "df.drop(columns='Name', inplace=True)"
   ]
  },
  {
   "cell_type": "markdown",
   "metadata": {
    "id": "DwUhtqh06qB6"
   },
   "source": [
    "For column age, it might be helpful to impute missing values, but this might also greatly disort the age distribution of passengers.  Instead, we will first convert the age values to age range values, and then convert any missing age values to a new 'NA' age range."
   ]
  },
  {
   "cell_type": "code",
   "execution_count": null,
   "metadata": {
    "id": "SsJB8UBRbibF"
   },
   "outputs": [],
   "source": [
    "# convert age to a float (NA's will still exist)\n",
    "df['Age'] = pd.to_numeric(df['Age'])\n",
    "\n",
    "# create an age_range Series\n",
    "age_bins = [0, 10, 20, 30, 40, 50, 100]\n",
    "age_labels = [ f\"({age_bins[i]},{age_bins[i+1]}]\" for i in range(len(age_bins)-1)]\n",
    "age_range = pd.cut(df['Age'], bins=age_bins, labels=age_labels)\n",
    "\n",
    "# add a new 'NA' category, and convert all NA values to this category\n",
    "age_range = age_range.cat.add_categories(['NA'])\n",
    "age_range.fillna('NA', inplace=True)\n",
    "\n",
    "df['Age Range'] = age_range\n",
    "\n",
    "# drop the original Age variable\n",
    "df.drop(columns='Age', inplace=True)"
   ]
  },
  {
   "cell_type": "markdown",
   "metadata": {
    "id": "_53KFzmM3amq"
   },
   "source": [
    "Remove any remaining NA values."
   ]
  },
  {
   "cell_type": "code",
   "execution_count": null,
   "metadata": {
    "id": "XGvTVs6l3amq",
    "scrolled": true
   },
   "outputs": [],
   "source": [
    "df.dropna(inplace=True)"
   ]
  },
  {
   "cell_type": "markdown",
   "metadata": {
    "id": "nkwYNifJ3amq"
   },
   "source": [
    "The first rows of the preprocessed data set are shown below."
   ]
  },
  {
   "cell_type": "code",
   "execution_count": null,
   "metadata": {
    "id": "aBUy3HbrjwYv"
   },
   "outputs": [],
   "source": [
    "df.head(10)"
   ]
  },
  {
   "cell_type": "markdown",
   "metadata": {
    "id": "HQtvFqm-jwYw"
   },
   "source": [
    "## Data exploration"
   ]
  },
  {
   "cell_type": "markdown",
   "metadata": {
    "id": "28ZJ9g7UP6pH"
   },
   "source": [
    "What fraction of the passengers survived?"
   ]
  },
  {
   "cell_type": "code",
   "execution_count": null,
   "metadata": {
    "id": "nsktdbZZsTyN"
   },
   "outputs": [],
   "source": [
    "print('Titanic survival rate: {:.1f} %'.format((df['Survived'] == 1).mean()*100))"
   ]
  },
  {
   "cell_type": "markdown",
   "metadata": {
    "id": "MeWVg__ZQADf"
   },
   "source": [
    "What were the fares of the passengers?"
   ]
  },
  {
   "cell_type": "code",
   "execution_count": null,
   "metadata": {
    "id": "nLT03kd0jwYx"
   },
   "outputs": [],
   "source": [
    "df['Fare'].plot.density(figsize=(7,3))\n",
    "plt.xlim(-50, df['Fare'].max())\n",
    "plt.title('Distribution of passenger fares');"
   ]
  },
  {
   "cell_type": "markdown",
   "metadata": {
    "id": "0CQHWeUJUvHg"
   },
   "source": [
    "What titles were used for passengers?  "
   ]
  },
  {
   "cell_type": "code",
   "execution_count": null,
   "metadata": {
    "id": "_9izAYWCUz0I"
   },
   "outputs": [],
   "source": [
    "#@ 2  Recreate the plot of counts by passenger title.\n",
    "\n",
    "# YOUR CODE HERE"
   ]
  },
  {
   "cell_type": "markdown",
   "metadata": {
    "id": "sEfn9a0gVOs4"
   },
   "source": [
    "About 90\\% of men have title \"Mr.\", while women are roughly equally split between \"Miss\" and \"Mrs\".  I believe that \"Master\" indicates a male child."
   ]
  },
  {
   "cell_type": "markdown",
   "metadata": {
    "id": "gth91WBpvN87"
   },
   "source": [
    "Examine the distribution of 'Age Range' values."
   ]
  },
  {
   "cell_type": "code",
   "execution_count": null,
   "metadata": {
    "id": "Z5TbtrkUjbbK"
   },
   "outputs": [],
   "source": [
    "df['Age Range'].value_counts(normalize=True).sort_index().plot.bar(rot=0)\n",
    "plt.ylabel(\"fraction of passengers\")\n",
    "plt.title(\"Distribution of passenger ages\");"
   ]
  },
  {
   "cell_type": "markdown",
   "metadata": {
    "id": "_MXbxCSeQIgw"
   },
   "source": [
    "How does age relate to whether a passenger survived?"
   ]
  },
  {
   "cell_type": "code",
   "execution_count": null,
   "metadata": {
    "id": "l8ZZZ7oN5K_s"
   },
   "outputs": [],
   "source": [
    "#@ 3  Recreate the plot of survival by age range.\n",
    "\n",
    "# YOUR CODE HERE"
   ]
  },
  {
   "cell_type": "markdown",
   "metadata": {
    "id": "CdoGHkbmqK8J"
   },
   "source": [
    "The survival rate was highest for children.  Among other age groups, the survival rate was about the same.\n",
    "\n",
    "This plot shows the value of having a value that represents unknown ages.  The passengers of unknown age had a lower survival rate than any of the age groups."
   ]
  },
  {
   "cell_type": "markdown",
   "metadata": {
    "id": "4--cg2StQOKA"
   },
   "source": [
    "How does gender relate to whether a passenger survived?"
   ]
  },
  {
   "cell_type": "code",
   "execution_count": null,
   "metadata": {
    "id": "VdZkmnVWjwYz"
   },
   "outputs": [],
   "source": [
    "df.groupby('Sex')['Survived'].mean().plot.bar(rot=0)\n",
    "plt.ylabel('survival rate')\n",
    "plt.title('Survival by sex');"
   ]
  },
  {
   "cell_type": "markdown",
   "metadata": {
    "id": "Ocm-qPd9QXQo"
   },
   "source": [
    "We can see that female passengers were much more likely to survive than male ones."
   ]
  },
  {
   "cell_type": "markdown",
   "metadata": {
    "id": "Dr2yg0tI5K_s"
   },
   "source": [
    "Do differences in the ages of female and male passengers explain why passengers in some age ranges are more likely to survive than others?"
   ]
  },
  {
   "cell_type": "code",
   "execution_count": null,
   "metadata": {
    "id": "ZRGIK21b5K_t"
   },
   "outputs": [],
   "source": [
    "#@ 4  Recreate the plot of passenger age distribution by sex\n",
    "\n",
    "# Use pd.crosstab(), as in class.\n",
    "\n",
    "# YOUR CODE HERE"
   ]
  },
  {
   "cell_type": "markdown",
   "metadata": {
    "id": "QhqMp4_K5K_t"
   },
   "source": [
    "This plot is very surprising, but helps to explain why certain ages survived.  Women passengers strongly fell into the 18-25 and 32-38 age ranges, while male passengers strongly fell into the 26-32 age range.  Very few passengers were above age 40."
   ]
  },
  {
   "cell_type": "markdown",
   "metadata": {
    "id": "X-kRIm2wWUQA"
   },
   "source": [
    "Did richer passengers survive more often?  If we think of high-paying passengers as rich passengers, then looking at survival by fare may be interesting."
   ]
  },
  {
   "cell_type": "code",
   "execution_count": null,
   "metadata": {
    "id": "3EC2sDK_qK8K"
   },
   "outputs": [],
   "source": [
    "df.groupby(pd.qcut(df['Fare'], 6, precision=1), observed=True)['Survived'].mean().plot.bar(rot=0, figsize=(7,4))\n",
    "plt.title('Survival rate by fare range')\n",
    "plt.ylabel('survival rate')\n",
    "plt.xlabel('fare range ($)');"
   ]
  },
  {
   "cell_type": "markdown",
   "metadata": {
    "id": "okWYofzCTY3A"
   },
   "source": [
    "In this plot, about the same number of passengers are represented in each bar.  We see that low-fare passengers had a very low survival rate, possibly because of the location of their cabins.  The wide range of fares is interesting.  About half of the passengers paid less than \\\\$15, but some passengers paid over \\\\$500."
   ]
  },
  {
   "cell_type": "markdown",
   "metadata": {
    "id": "VnRqWav03amu"
   },
   "source": [
    "## Machine learning"
   ]
  },
  {
   "cell_type": "markdown",
   "metadata": {
    "id": "LpflvaOkoZ0s"
   },
   "source": [
    "### Data preparation for machine learning"
   ]
  },
  {
   "cell_type": "code",
   "execution_count": null,
   "metadata": {
    "id": "OO5Z54hToZYk"
   },
   "outputs": [],
   "source": [
    "np.random.seed(123)"
   ]
  },
  {
   "cell_type": "markdown",
   "metadata": {
    "id": "EZ6BSFTFQf9I"
   },
   "source": [
    "Encode categorical variables as numbers using the dummy variables method."
   ]
  },
  {
   "cell_type": "code",
   "execution_count": null,
   "metadata": {
    "id": "ATBiJdXajwY0"
   },
   "outputs": [],
   "source": [
    "df = pd.get_dummies(df, drop_first=True)"
   ]
  },
  {
   "cell_type": "markdown",
   "metadata": {
    "id": "9oXf37mVQnyg"
   },
   "source": [
    "Look at a summary of the data after the encoding."
   ]
  },
  {
   "cell_type": "code",
   "execution_count": null,
   "metadata": {
    "id": "fHAP252BnAL9"
   },
   "outputs": [],
   "source": [
    "df.info()"
   ]
  },
  {
   "cell_type": "markdown",
   "metadata": {
    "id": "PEdkW3uqQtQo"
   },
   "source": [
    "Convert the Pandas data frame to NumPy arrays, and perform a train/test split.  All variables except for the target variable will be used as predictors."
   ]
  },
  {
   "cell_type": "code",
   "execution_count": null,
   "metadata": {
    "id": "Go8jhHWdjwY1"
   },
   "outputs": [],
   "source": [
    "target = 'Survived'\n",
    "predictors = list(df.columns)\n",
    "predictors.remove(target)\n",
    "\n",
    "X = df[predictors].values\n",
    "y = df[target].values\n",
    "X_train, X_test, y_train, y_test = train_test_split(X, y, test_size=0.30, random_state=0)"
   ]
  },
  {
   "cell_type": "markdown",
   "metadata": {
    "id": "zqVjEJnbsMbb"
   },
   "source": [
    "Perform a sanity check on the training data."
   ]
  },
  {
   "cell_type": "code",
   "execution_count": null,
   "metadata": {
    "id": "v1NaYd6qoyos"
   },
   "outputs": [],
   "source": [
    "print(X_train.shape)\n",
    "print(y_train.shape)"
   ]
  },
  {
   "cell_type": "markdown",
   "metadata": {
    "id": "L0Z3lgp9o6zy"
   },
   "source": [
    "### Compute baseline accuracy"
   ]
  },
  {
   "cell_type": "markdown",
   "metadata": {
    "id": "7yRw_O6vQ9ZB"
   },
   "source": [
    "The baseline accuracy in a classification problem tells us the accuracy we could achieve if we simply guessed the majority class.  In this case, since most passengers didn't survive, we would guess 'did not survive' in the absence of any additional information."
   ]
  },
  {
   "cell_type": "code",
   "execution_count": null,
   "metadata": {
    "id": "tlAsraIx3amx"
   },
   "outputs": [],
   "source": [
    "#@ 5 Compute the baseline accuracy from the target values in the training data.\n",
    "\n",
    "# The baseline accuracy is the fraction of the training set target values that\n",
    "# equal the value of the target value that appears the most in the training data.\n",
    "\n",
    "# YOUR CODE HERE"
   ]
  },
  {
   "cell_type": "markdown",
   "metadata": {
    "id": "_pFihw_hjwY0"
   },
   "source": [
    "### Building a classification tree"
   ]
  },
  {
   "cell_type": "markdown",
   "metadata": {
    "id": "gf_9A-HGRTqm"
   },
   "source": [
    "As usual, we will start with a flexible model in an attempt to achieve overfitting.  Afterward, we will reduce the overfitting.  I expect that with a max depth of 7 we will achieve overfitting."
   ]
  },
  {
   "cell_type": "code",
   "execution_count": null,
   "metadata": {
    "id": "F67iIFjOjwY2"
   },
   "outputs": [],
   "source": [
    "#@ 6 Create a classification tree.\n",
    "\n",
    "# Use the max depth that was discussed.\n",
    "\n",
    "# YOUR CODE HERE"
   ]
  },
  {
   "cell_type": "code",
   "execution_count": null,
   "metadata": {
    "id": "QVQen6mqjwY3"
   },
   "outputs": [],
   "source": [
    "def plot_tree_custom(clf, feature_names, class_names):\n",
    "    \"\"\" Plot a Titanic classification tree using Graphviz. \"\"\"\n",
    "\n",
    "    dot_data = export_graphviz(clf, precision=2,\n",
    "                         feature_names=feature_names,\n",
    "                         proportion=True,\n",
    "                         class_names=class_names,\n",
    "                         filled=True, rounded=True,\n",
    "                         special_characters=True)\n",
    "\n",
    "    # plot it\n",
    "    graph = graphviz.Source(dot_data)\n",
    "    return graph"
   ]
  },
  {
   "cell_type": "code",
   "execution_count": null,
   "metadata": {},
   "outputs": [],
   "source": [
    "def plot_tree_custom_basic(clf, feature_names, class_names, max_depth=3):\n",
    "    \"\"\" Plot a classification tree using scikit-learn's plot_tree(). \"\"\"\n",
    "\n",
    "    fig, ax = plt.subplots(figsize=(20, 10), dpi=150) \n",
    "    plot_tree(\n",
    "        clf,\n",
    "        feature_names=feature_names,\n",
    "        class_names=class_names,\n",
    "        filled=True,\n",
    "        rounded=True,\n",
    "        proportion=True,\n",
    "        fontsize=10, \n",
    "        max_depth=max_depth,\n",
    "        ax=ax,\n",
    "    )\n",
    "    plt.show()"
   ]
  },
  {
   "cell_type": "markdown",
   "metadata": {
    "id": "cEorYDAojwY3"
   },
   "source": [
    "### Making predictions and assessing the model"
   ]
  },
  {
   "cell_type": "markdown",
   "metadata": {
    "id": "mZlipc3vRp_w"
   },
   "source": [
    "With our first classification we achieve a cross-validation accuracy of about 78%."
   ]
  },
  {
   "cell_type": "code",
   "execution_count": null,
   "metadata": {
    "id": "qFO7-kecjwY3",
    "scrolled": true
   },
   "outputs": [],
   "source": [
    "#@ 7 Compute and print the cross-validation accuracy of the tree.\n",
    "\n",
    "# YOUR CODE HERE"
   ]
  },
  {
   "cell_type": "markdown",
   "metadata": {
    "id": "kmrQN5W1jwY4"
   },
   "source": [
    "A learning curve will show whether we are in a high bias or high variance situation.  We expect to find that we are in a high variance situation, which indicate overfitting."
   ]
  },
  {
   "cell_type": "code",
   "execution_count": null,
   "metadata": {
    "id": "PdEMMLLSjwY4",
    "scrolled": true
   },
   "outputs": [],
   "source": [
    "def plot_learning_curve(clf, X_train, y_train):\n",
    "    # generate the data; average the values\n",
    "    train_sizes, train_scores, test_scores = \\\n",
    "    learning_curve(clf, X_train, y_train, cv=10, scoring='accuracy')\n",
    "    train_scores_mean = np.mean(train_scores, axis=1)\n",
    "    test_scores_mean = np.mean(test_scores, axis=1)\n",
    "\n",
    "    # plot the learning curve\n",
    "    plt.plot(train_sizes, train_scores_mean, label='train')\n",
    "    plt.plot(train_sizes, test_scores_mean, label='test')\n",
    "    plt.xlabel('Training Set Size')\n",
    "    plt.ylabel('Accuracy')\n",
    "    plt.title('Learning curve, classification tree')\n",
    "    plt.legend();"
   ]
  },
  {
   "cell_type": "code",
   "execution_count": null,
   "metadata": {
    "id": "MTlh-IqHjwY4"
   },
   "outputs": [],
   "source": [
    "plot_learning_curve(clf, X_train, y_train)"
   ]
  },
  {
   "cell_type": "markdown",
   "metadata": {
    "id": "Kdrc2-QyjwY4"
   },
   "source": [
    "This is definitely a high variance situation."
   ]
  },
  {
   "cell_type": "markdown",
   "metadata": {
    "id": "X3WFh1CIuZr9"
   },
   "source": [
    "### Hyperparameter tuning"
   ]
  },
  {
   "cell_type": "markdown",
   "metadata": {
    "id": "yiC2fBuJNmp3"
   },
   "source": [
    "There are many hyperparameters that can be adjusted with a classification tree.  The hyperparameters min_samples_leaf and max_depth are both ways to control the depth of the tree.  max_features is an interesting hyperparameter that is used when a subset of all predictor variables are randomly selected at each node."
   ]
  },
  {
   "cell_type": "code",
   "execution_count": null,
   "metadata": {
    "id": "4Dgen7xWudW8"
   },
   "outputs": [],
   "source": [
    "#@ 8 Perform a grid search with cross validation to perform hyperparameter tuning.\n",
    "\n",
    "# YOUR CODE HERE\n",
    "# Explore these specific parameter values:\n",
    "# max_depth: values 2 through 7\n",
    "# min_samples_leaf: values 10, 20, 30, 40\n",
    "# max_features: values 'sqrt' and None\n",
    "# Use ten folds in the cross valudation.\n",
    "# Assign the grid search object you create to variable 'tree_cv'."
   ]
  },
  {
   "cell_type": "markdown",
   "metadata": {
    "id": "CuydK7TQSbg3"
   },
   "source": [
    "From the grid search we learn that depth 5 is good, and that we don't want leaf nodes with less than 20 training examples."
   ]
  },
  {
   "cell_type": "code",
   "execution_count": null,
   "metadata": {
    "id": "Pj77wmJVyUnb"
   },
   "outputs": [],
   "source": [
    "print(tree_cv.best_params_)"
   ]
  },
  {
   "cell_type": "markdown",
   "metadata": {
    "id": "SKjtKn_dSpVx"
   },
   "source": [
    "The cross-validation accuracy for the best tree is about 80%, which is a couple of percentage points higher than the un-tuned tree."
   ]
  },
  {
   "cell_type": "code",
   "execution_count": null,
   "metadata": {
    "id": "wL7QYfI2ytGU"
   },
   "outputs": [],
   "source": [
    "#@ 9 Print the best cross-validation accuracy found in your grid search.\n",
    "\n",
    "# In this and the some of the following problems, it is important to remember\n",
    "# that, by default, a grid search CV object will end the grid search by training\n",
    "# the classifier with the best hyperparameters.  (This is controlled by the\n",
    "# 'refit' parameter of GridSearchCV.  Please see the cross validation lecture\n",
    "# slides for details.)\n",
    "\n",
    "# YOUR CODE HERE\n",
    "# hint: You can get the value as an attribute of tree_cv"
   ]
  },
  {
   "cell_type": "markdown",
   "metadata": {
    "id": "mLFiGIJZ66lw"
   },
   "source": [
    "The learning curve for the tuned tree."
   ]
  },
  {
   "cell_type": "code",
   "execution_count": null,
   "metadata": {
    "id": "IcaD8Gxf65O_"
   },
   "outputs": [],
   "source": [
    "#@ 10 Plot the learning curve of the best tree found in grid search.\n",
    "\n",
    "# YOUR CODE HERE\n",
    "# hint: pay attention to earlier code cells\n",
    "# hint: also pay attention to the next code cell"
   ]
  },
  {
   "cell_type": "markdown",
   "metadata": {
    "id": "81UWx0HF7W0W"
   },
   "source": [
    "The learning curve is a little strange looking.  First, training accuracy is increasing with training set size, while usually it decreases.  Second, the lines meet at a training size of about 300, but then separate again, showing a situation with moderate variance with the full training set.  \n",
    "\n",
    "I would interpret this as neither a high bias nor a high variance situation.\n",
    "Most importantly, we have tuned the tree to achieve highest cross-validation accuracy."
   ]
  },
  {
   "cell_type": "markdown",
   "metadata": {
    "id": "b55X2LVAOf-A"
   },
   "source": [
    "A plot of the tuned tree.  (Replace 'plot_tree_custom' with 'plot_tree_custom_basic' if you are unable to install graphviz.)"
   ]
  },
  {
   "cell_type": "code",
   "execution_count": null,
   "metadata": {
    "id": "XP7BELcf9RhP"
   },
   "outputs": [],
   "source": [
    "plot_tree_custom(tree_cv.best_estimator_, feature_names=predictors, class_names=['perished', 'survived'])"
   ]
  },
  {
   "cell_type": "markdown",
   "metadata": {
    "id": "Dg6kdvGDsVm6"
   },
   "source": [
    "Looking at some of the leaf nodes, it looks like women with expensive tickets almost all survived, while men with cheap tickets almost all perished."
   ]
  },
  {
   "cell_type": "markdown",
   "metadata": {
    "id": "JVjlE07T3Vz2"
   },
   "source": [
    "### Feature importance using the tree classifier"
   ]
  },
  {
   "cell_type": "markdown",
   "metadata": {
    "id": "EThqwETXUTJY"
   },
   "source": [
    "Feature importance values can be obtained from the trained classification tree.  Roughly, a feature is important in a tree if it is responsible for a lot of Gini reduction."
   ]
  },
  {
   "cell_type": "code",
   "execution_count": null,
   "metadata": {
    "id": "mCD3VqRPy0MM"
   },
   "outputs": [],
   "source": [
    "#@ 11 Plot the feature importance values from the best classification tree.\n",
    "\n",
    "# YOUR CODE HERE\n",
    "# Plot the importance of the ten most important features.  The bars should\n",
    "# be sorted by importance and feature names must be shown.\n",
    "#\n",
    "# The feature importance values are an attribute of a trained classification tree.\n",
    "# Hint: consider creating a Pandas series, and setting the index of the series."
   ]
  },
  {
   "cell_type": "markdown",
   "metadata": {
    "id": "ZIUC9ETUUk1n"
   },
   "source": [
    "From this point of view, the title of \"Mr.\" is by far the most important feature.  "
   ]
  },
  {
   "cell_type": "markdown",
   "metadata": {
    "id": "95XwgbtX3Zg1"
   },
   "source": [
    "### Feature importance using forward feature selection"
   ]
  },
  {
   "cell_type": "code",
   "execution_count": null,
   "metadata": {
    "id": "wb0FLdgc3eXd"
   },
   "outputs": [],
   "source": [
    "#@ 12  Fill in the body of the loop\n",
    "\n",
    "def forward_selection_classif(clf, X, y, threshold=None, num_folds=5):\n",
    "    \"\"\" Perform forward feature selection with the given classifier.\n",
    "    Threshold is the improvement in accuracy for the selection\n",
    "    process to stop.\n",
    "    threshold = None causes all features to be selected.\n",
    "    \"\"\"\n",
    "\n",
    "    remaining = list(range(X.shape[1]))\n",
    "    selected = []\n",
    "    accuracies = []\n",
    "    previous_best = 0.0\n",
    "    while len(remaining) > 0:\n",
    "        # YOUR CODE HERE\n",
    "        # Use cross validation accuracy in computing the accuracy.\n",
    "        # Use cross_val_score() to perform cross validation.\n",
    "        # Use parameter num_folds to control the number of folds in cross validation.\n",
    "        # Don't forget that ross_val_score() returns multiple values.\n",
    "        # To test if the value of threshold is not None, you can write 'threshold is not None'\n",
    "\n",
    "    return np.array(selected), accuracies"
   ]
  },
  {
   "cell_type": "code",
   "execution_count": null,
   "metadata": {
    "id": "kZV1WoHS30Lt"
   },
   "outputs": [],
   "source": [
    "def plot_selected(selected, accuracies, predictors):\n",
    "    pd.Series(accuracies, index=predictors[selected]).plot.barh()\n",
    "    plt.xlim(0.5, 1.0)\n",
    "    plt.xlabel('Cross-validation accuracy')\n",
    "    plt.title('Result of forward feature selection')"
   ]
  },
  {
   "cell_type": "code",
   "execution_count": null,
   "metadata": {
    "id": "V2r-wICh325U"
   },
   "outputs": [],
   "source": [
    "selected, accuracies = forward_selection_classif(tree_cv.best_estimator_, X_train, y_train, num_folds=10)\n",
    "plot_selected(selected[:10], accuracies[:10], np.array(predictors))"
   ]
  },
  {
   "cell_type": "markdown",
   "metadata": {
    "id": "66MFUcv675pe"
   },
   "source": [
    "It is hard to see the precise accuracy values from the bar plot, so print them out."
   ]
  },
  {
   "cell_type": "code",
   "execution_count": null,
   "metadata": {
    "id": "GyI1q1rN4Gj1"
   },
   "outputs": [],
   "source": [
    "print(np.array(accuracies[:10]).round(4))"
   ]
  },
  {
   "cell_type": "markdown",
   "metadata": {
    "id": "X4SFGFmr7_xW"
   },
   "source": [
    "### Test accuracy"
   ]
  },
  {
   "cell_type": "code",
   "execution_count": null,
   "metadata": {
    "id": "IRNwMzKO5K_v"
   },
   "outputs": [],
   "source": [
    "#@ 13  Compute and print the test accuracy of your best tree from grid search.\n",
    "# (test accuracy means accuracy on the test set)\n",
    "# Hint: Don't forget that final test accuracy must be computed on a classifier.\n",
    "\n",
    "# YOUR CODE HERE\n",
    "# Print the test accuracy with 3 digits after the decimal point"
   ]
  },
  {
   "cell_type": "markdown",
   "metadata": {
    "id": "-y-7vzNE8ab-"
   },
   "source": [
    "### Conclusions"
   ]
  },
  {
   "cell_type": "markdown",
   "metadata": {
    "id": "3U-JoL_u8q7e"
   },
   "source": [
    "*Write your conclusions here.*"
   ]
  }
 ],
 "metadata": {
  "colab": {
   "provenance": []
  },
  "kernelspec": {
   "display_name": "Python 3 (ipykernel)",
   "language": "python",
   "name": "python3"
  },
  "language_info": {
   "codemirror_mode": {
    "name": "ipython",
    "version": 3
   },
   "file_extension": ".py",
   "mimetype": "text/x-python",
   "name": "python",
   "nbconvert_exporter": "python",
   "pygments_lexer": "ipython3",
   "version": "3.11.5"
  }
 },
 "nbformat": 4,
 "nbformat_minor": 1
}
