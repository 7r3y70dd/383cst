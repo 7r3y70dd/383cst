{
 "cells": [
  {
   "cell_type": "markdown",
   "metadata": {
    "id": "nXIb_Dhnoxa9"
   },
   "source": [
    "# Anomaly detection with college data\n",
    "\n",
    "Dr. Bruns, CST 383, CSUMB"
   ]
  },
  {
   "cell_type": "code",
   "execution_count": 11,
   "metadata": {
    "id": "jkWt2GV1oxbD"
   },
   "outputs": [],
   "source": [
    "import numpy as np\n",
    "import pandas as pd\n",
    "import matplotlib.pyplot as plt\n",
    "import seaborn as sns\n",
    "from sklearn.preprocessing import StandardScaler\n",
    "from sklearn.neighbors import LocalOutlierFactor, KNeighborsClassifier\n",
    "from sklearn.ensemble import IsolationForest\n",
    "from sklearn.model_selection import train_test_split\n",
    "from scipy.stats import zscore"
   ]
  },
  {
   "cell_type": "code",
   "execution_count": 12,
   "metadata": {
    "id": "_KzDKZ5coxbE"
   },
   "outputs": [],
   "source": [
    "# plotting\n",
    "sns.set()\n",
    "sns.set_context('talk')\n",
    "sns.set_style('whitegrid')"
   ]
  },
  {
   "cell_type": "markdown",
   "metadata": {
    "id": "vNpLUrINoxbF"
   },
   "source": [
    "#### Load and preprocess the college data"
   ]
  },
  {
   "cell_type": "code",
   "execution_count": 14,
   "metadata": {
    "id": "7AkUCoy7oxbG"
   },
   "outputs": [],
   "source": [
    "df = pd.read_csv('https://raw.githubusercontent.com/grbruns/cst383/master/College.csv', index_col=0)\n",
    "df.drop(['Private'], axis=1, inplace=True)\n",
    "\n",
    "# scale the data using Z-score normalization\n",
    "df = df.apply(zscore)\n",
    "X = df.values"
   ]
  },
  {
   "cell_type": "markdown",
   "metadata": {
    "id": "lNJQ1Fj4oxbG"
   },
   "source": [
    "#### 1. How many features are there?"
   ]
  },
  {
   "cell_type": "code",
   "execution_count": null,
   "metadata": {
    "id": "HbwcmeCfoxbG"
   },
   "outputs": [],
   "source": [
    "# YOUR CODE HERE"
   ]
  },
  {
   "cell_type": "markdown",
   "metadata": {
    "id": "iDrD6UMAoxbG"
   },
   "source": [
    "#### 2. What is the mean value of every feature?"
   ]
  },
  {
   "cell_type": "code",
   "execution_count": null,
   "metadata": {
    "id": "R9G-Q39ioxbG"
   },
   "outputs": [],
   "source": [
    "# YOUR CODE HERE"
   ]
  },
  {
   "cell_type": "markdown",
   "metadata": {},
   "source": [
    "## Part 1 - finding weird colleges"
   ]
  },
  {
   "cell_type": "markdown",
   "metadata": {
    "id": "5YM5h30BoxbH"
   },
   "source": [
    "#### 3. Using IsolationForest, create a dataframe containing only the outlier colleges\n",
    "\n",
    "First, create the IsolationForest.\n",
    "Second, fit and predict on X.  Save the result to 'outliers'.\n",
    "Third, create a dataframe 'df_out' of outliers."
   ]
  },
  {
   "cell_type": "code",
   "execution_count": null,
   "metadata": {
    "id": "2tIirqNCoxbH"
   },
   "outputs": [],
   "source": [
    "# YOUR CODE HERE"
   ]
  },
  {
   "cell_type": "markdown",
   "metadata": {
    "id": "vJ51tHA1oxbH"
   },
   "source": [
    "#### 4. How many outlier colleges are there?\n",
    "\n",
    "Don't set a contamination value -- let IsolationForest decide what an anomaly is."
   ]
  },
  {
   "cell_type": "code",
   "execution_count": null,
   "metadata": {
    "id": "KUl94WemoxbH"
   },
   "outputs": [],
   "source": [
    "# YOUR CODE HERE"
   ]
  },
  {
   "cell_type": "markdown",
   "metadata": {
    "id": "LgCqHxaAoxbH"
   },
   "source": [
    "#### 5. Get the score for each college\n",
    "\n",
    "Save the scores to 'scores'.\n",
    "\n",
    "hint: use .decision_function()"
   ]
  },
  {
   "cell_type": "code",
   "execution_count": null,
   "metadata": {
    "id": "KUl94WemoxbH"
   },
   "outputs": [],
   "source": [
    "# YOUR CODE HERE"
   ]
  },
  {
   "cell_type": "markdown",
   "metadata": {
    "id": "LgCqHxaAoxbH"
   },
   "source": [
    "#### 6. Print the first 20 values of 'outliers' and 'scores'"
   ]
  },
  {
   "cell_type": "code",
   "execution_count": null,
   "metadata": {
    "id": "KUl94WemoxbH"
   },
   "outputs": [],
   "source": [
    "# YOUR CODE HERE"
   ]
  },
  {
   "cell_type": "markdown",
   "metadata": {
    "id": "LgCqHxaAoxbH"
   },
   "source": [
    "#### 7. Create a dataframe of the 3 weirdest colleges, and print it"
   ]
  },
  {
   "cell_type": "code",
   "execution_count": null,
   "metadata": {
    "id": "KUl94WemoxbH"
   },
   "outputs": [],
   "source": [
    "# YOUR CODE HERE"
   ]
  },
  {
   "cell_type": "markdown",
   "metadata": {
    "id": "LgCqHxaAoxbH"
   },
   "source": [
    "#### 8. What makes these colleges weird?\n",
    "\n",
    "Look at the 3 weirdest colleges and see if you can figure out why they are outliers."
   ]
  },
  {
   "cell_type": "markdown",
   "metadata": {},
   "source": [
    "## Part 2 - Cleaning data for machine learning"
   ]
  },
  {
   "cell_type": "code",
   "execution_count": 8,
   "metadata": {},
   "outputs": [],
   "source": [
    "# prepare data for machine learning\n",
    "\n",
    "df = pd.read_csv('https://raw.githubusercontent.com/grbruns/cst383/master/College.csv', index_col=0)\n",
    "\n",
    "# select features, scale the data, and convert to NumPy\n",
    "predictors = df.columns[df.columns != 'Private']\n",
    "target = 'Private'\n",
    "X = df[predictors].values\n",
    "y = df[target].values\n",
    "\n",
    "X_train, X_test, y_train, y_test = train_test_split(X, y, test_size=0.33, random_state=42)\n",
    "\n",
    "scaler = StandardScaler()\n",
    "X_train = scaler.fit_transform(X_train)\n",
    "X_test = scaler.transform(X_test)"
   ]
  },
  {
   "cell_type": "markdown",
   "metadata": {},
   "source": [
    "#### 9. Compute test accuracy using a KNN classifier, with k=11"
   ]
  },
  {
   "cell_type": "code",
   "execution_count": null,
   "metadata": {
    "id": "KUl94WemoxbH"
   },
   "outputs": [],
   "source": [
    "# YOUR CODE HERE"
   ]
  },
  {
   "cell_type": "markdown",
   "metadata": {},
   "source": [
    "#### 10. Using IsolationForest, clean the training data.\n",
    "\n",
    "Compute the outliers using fit_predict(X_train), then compute X_train_clean and y_train_clean."
   ]
  },
  {
   "cell_type": "code",
   "execution_count": null,
   "metadata": {
    "id": "KUl94WemoxbH"
   },
   "outputs": [],
   "source": [
    "# YOUR CODE HERE"
   ]
  },
  {
   "cell_type": "markdown",
   "metadata": {},
   "source": [
    "#### 11. Using KNN with k=11 again, train on the clean data and compute the test accuracy"
   ]
  },
  {
   "cell_type": "code",
   "execution_count": null,
   "metadata": {
    "id": "KUl94WemoxbH"
   },
   "outputs": [],
   "source": [
    "# YOUR CODE HERE"
   ]
  }
 ],
 "metadata": {
  "colab": {
   "name": "3knn-anomaly-detection-lab.ipynb",
   "provenance": []
  },
  "kernelspec": {
   "display_name": "Python 3",
   "language": "python",
   "name": "python3"
  },
  "language_info": {
   "codemirror_mode": {
    "name": "ipython",
    "version": 3
   },
   "file_extension": ".py",
   "mimetype": "text/x-python",
   "name": "python",
   "nbconvert_exporter": "python",
   "pygments_lexer": "ipython3",
   "version": "3.8.8"
  }
 },
 "nbformat": 4,
 "nbformat_minor": 1
}
