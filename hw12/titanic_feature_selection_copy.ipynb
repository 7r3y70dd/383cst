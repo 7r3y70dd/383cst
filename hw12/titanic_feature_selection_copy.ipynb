{
 "cells": [
  {
   "cell_type": "markdown",
   "metadata": {
    "id": "qSwX6DCnjwYp"
   },
   "source": [
    "# Predict whether passengers would survive the sinking of the Titanic\n",
    "\n",
    "#### Glenn Bruns, CST 383"
   ]
  },
  {
   "cell_type": "markdown",
   "metadata": {
    "id": "Xl6Pgq9Y3amg"
   },
   "source": [
    "Approximately 1,500 died when the Titanic sunk in the North Atlantic ocean in 1912.  There is data on the passengers on the Titanic, showing their sex, age, number of children, and other information, including whether or not they survived.\n",
    "\n",
    "The purpose of this notebook is to see how well we can predict whether a passenger would survive the sinking of the Titanic using a tree classifier.  A key part of the study will be to compare the importance of predictor variables according to two different methods: the importance given by the tree classifier itself, and the importance found through forward feature selection.   \n",
    "\n",
    "v2.3"
   ]
  },
  {
   "cell_type": "markdown",
   "metadata": {
    "id": "RjaWnk5A3amh"
   },
   "source": [
    "#### Instructions:\n",
    "- Please read the entire notebook carefully.\n",
    "- Problems are shown in code cells below; each problem begins with #@.\n",
    "- Do not make changes outside the problem cells.\n",
    "- You will need to install Graphviz for this assignment.  See instructions just below.\n",
    "- I provide output for some problem cells.  When I do, you should try to recreate my output, including titles, etc.\n",
    "- Run your code from top to bottom before submitting.\n",
    "- Do not modify the file name.\n",
    "\n",
    "Remember to observe our course honor policy.  Do not share code with others, do not look at others' code, do not look for solutions to the problems on the web, and don't use an LLM like ChatGPT for answers to problems.  \n",
    "\n",
    "You are of course allowed to look on the web for how to use NumPy, Pandas, etc.\n",
    "\n",
    "#### Installing Graphviz:\n",
    "Open the Anaconda Prompt (or your terminal if you're using a MacBook) and run the following command to install both the Graphviz binaries and the Python bindings:\n",
    "\n",
    "conda install python-graphviz graphviz\n",
    "\n",
    "This needs to be done in the same Conda environment that you use for this notebook.  Most of you will only have one environment, so this won't be an issue."
   ]
  },
  {
   "cell_type": "code",
   "execution_count": 1,
   "metadata": {
    "id": "Og0hX8LijwYs"
   },
   "outputs": [],
   "source": [
    "import numpy as np\n",
    "import pandas as pd\n",
    "import matplotlib.pyplot as plt\n",
    "import seaborn as sns\n",
    "from sklearn.model_selection import train_test_split\n",
    "from sklearn.metrics import confusion_matrix\n",
    "from sklearn.tree import DecisionTreeClassifier, export_graphviz, plot_tree\n",
    "from sklearn.model_selection import learning_curve, GridSearchCV\n",
    "from sklearn.model_selection import cross_val_score\n",
    "from sklearn import tree\n",
    "from IPython.display import display, HTML\n",
    "\n",
    "# suppress futurewarnings only\n",
    "import warnings\n",
    "warnings.simplefilter(action='ignore', category=FutureWarning)"
   ]
  },
  {
   "cell_type": "code",
   "execution_count": 2,
   "metadata": {},
   "outputs": [
    {
     "name": "stdout",
     "output_type": "stream",
     "text": [
      "Requirement already satisfied: graphviz in /Users/treytodd/anaconda3/lib/python3.12/site-packages (0.20.3)\n"
     ]
    }
   ],
   "source": [
    "!pip install graphviz"
   ]
  },
  {
   "cell_type": "code",
   "execution_count": 3,
   "metadata": {},
   "outputs": [
    {
     "data": {
      "text/plain": [
       "'/Users/treytodd/anaconda3/bin/python'"
      ]
     },
     "execution_count": 3,
     "metadata": {},
     "output_type": "execute_result"
    }
   ],
   "source": [
    "import sys\n",
    "sys.executable"
   ]
  },
  {
   "cell_type": "markdown",
   "metadata": {},
   "source": [
    "If you cannot install Graphviz, comment out the import below.  Then, later in the notebook, use plot_tree_custom_basic() instead of plot_tree_custom()."
   ]
  },
  {
   "cell_type": "code",
   "execution_count": 4,
   "metadata": {
    "id": "3EUu6pPe5K_n"
   },
   "outputs": [],
   "source": [
    "import graphviz"
   ]
  },
  {
   "cell_type": "markdown",
   "metadata": {
    "id": "2k7L8W0N3amk"
   },
   "source": [
    "Plotting settings"
   ]
  },
  {
   "cell_type": "code",
   "execution_count": 5,
   "metadata": {
    "id": "Q5sNeT-A2n6F"
   },
   "outputs": [],
   "source": [
    "sns.set_theme(context='notebook', style='whitegrid')\n",
    "\n",
    "# set default plot size\n",
    "plt.rcParams['figure.figsize'] = 6,4"
   ]
  },
  {
   "cell_type": "code",
   "execution_count": 6,
   "metadata": {},
   "outputs": [
    {
     "data": {
      "text/html": [
       "<style>.container { width:90% !important; }</style>"
      ],
      "text/plain": [
       "<IPython.core.display.HTML object>"
      ]
     },
     "metadata": {},
     "output_type": "display_data"
    }
   ],
   "source": [
    "# make the notebook width equal to 90% of the browser window width\n",
    "display(HTML(\"<style>.container { width:90% !important; }</style>\"))"
   ]
  },
  {
   "cell_type": "markdown",
   "metadata": {
    "id": "AICURVPFqi2j"
   },
   "source": [
    "### Read the data"
   ]
  },
  {
   "cell_type": "code",
   "execution_count": 7,
   "metadata": {
    "id": "PXOMMeC8qbnd"
   },
   "outputs": [],
   "source": [
    "input_file = \"https://raw.githubusercontent.com/grbruns/cst383/master/titanic-new.csv\"\n",
    "df = pd.read_csv(input_file)"
   ]
  },
  {
   "cell_type": "code",
   "execution_count": 8,
   "metadata": {
    "id": "8wBZl0sxqK8E"
   },
   "outputs": [
    {
     "name": "stdout",
     "output_type": "stream",
     "text": [
      "<class 'pandas.core.frame.DataFrame'>\n",
      "RangeIndex: 1309 entries, 0 to 1308\n",
      "Data columns (total 14 columns):\n",
      " #   Column    Non-Null Count  Dtype \n",
      "---  ------    --------------  ----- \n",
      " 0   Pclass    1309 non-null   int64 \n",
      " 1   Survived  1309 non-null   int64 \n",
      " 2   Name      1309 non-null   object\n",
      " 3   Sex       1309 non-null   object\n",
      " 4   Age       1309 non-null   object\n",
      " 5   SibSp     1309 non-null   int64 \n",
      " 6   Parch     1309 non-null   int64 \n",
      " 7   Ticket    1309 non-null   object\n",
      " 8   Fare      1309 non-null   object\n",
      " 9   Cabin     1309 non-null   object\n",
      " 10  Embarked  1309 non-null   object\n",
      " 11  Boat      1309 non-null   object\n",
      " 12  Body      1309 non-null   object\n",
      " 13  HomeDest  1309 non-null   object\n",
      "dtypes: int64(4), object(10)\n",
      "memory usage: 143.3+ KB\n"
     ]
    }
   ],
   "source": [
    "df.info()"
   ]
  },
  {
   "cell_type": "markdown",
   "metadata": {
    "id": "8lPnQkBNqK8E"
   },
   "source": [
    "For preliminary preprocessing, drop some variables that will not be used, and replace value '?' with np.nan wherever it appears."
   ]
  },
  {
   "cell_type": "code",
   "execution_count": 9,
   "metadata": {
    "id": "ZhJkGu_JqK8E"
   },
   "outputs": [],
   "source": [
    "df.drop(['Boat', 'Body', 'HomeDest'], axis=1, inplace=True)\n",
    "df.replace('?', np.nan, inplace=True)"
   ]
  },
  {
   "cell_type": "markdown",
   "metadata": {
    "id": "_AWUTBuZ5K_o"
   },
   "source": [
    "The following summary of the data shows the column names, types, and number of non-null values."
   ]
  },
  {
   "cell_type": "markdown",
   "metadata": {
    "id": "yD6noVXQqK8E"
   },
   "source": [
    "### Initial data exploration"
   ]
  },
  {
   "cell_type": "code",
   "execution_count": 10,
   "metadata": {
    "id": "GMaEgcuKqeM9"
   },
   "outputs": [
    {
     "name": "stdout",
     "output_type": "stream",
     "text": [
      "<class 'pandas.core.frame.DataFrame'>\n",
      "RangeIndex: 1309 entries, 0 to 1308\n",
      "Data columns (total 11 columns):\n",
      " #   Column    Non-Null Count  Dtype \n",
      "---  ------    --------------  ----- \n",
      " 0   Pclass    1309 non-null   int64 \n",
      " 1   Survived  1309 non-null   int64 \n",
      " 2   Name      1309 non-null   object\n",
      " 3   Sex       1309 non-null   object\n",
      " 4   Age       1046 non-null   object\n",
      " 5   SibSp     1309 non-null   int64 \n",
      " 6   Parch     1309 non-null   int64 \n",
      " 7   Ticket    1309 non-null   object\n",
      " 8   Fare      1308 non-null   object\n",
      " 9   Cabin     295 non-null    object\n",
      " 10  Embarked  1307 non-null   object\n",
      "dtypes: int64(4), object(7)\n",
      "memory usage: 112.6+ KB\n"
     ]
    }
   ],
   "source": [
    "df.info()"
   ]
  },
  {
   "cell_type": "markdown",
   "metadata": {
    "id": "soL9ocjdn4kl"
   },
   "source": [
    "There is information about missing data in the df.info() output, but it is somewhat hidden.  It is helpful to visualize the missing data information."
   ]
  },
  {
   "cell_type": "code",
   "execution_count": 11,
   "metadata": {
    "id": "tMSj10dtqtzc"
   },
   "outputs": [
    {
     "data": {
      "image/png": "[encoded data removed]",
      "text/plain": [
       "<Figure size 600x400 with 1 Axes>"
      ]
     },
     "metadata": {},
     "output_type": "display_data"
    }
   ],
   "source": [
    "df.isna().mean().sort_values().plot.barh()\n",
    "plt.title('Fraction NA by variable')\n",
    "plt.xlabel('Fraction of values that are NA')\n",
    "plt.ylabel('Variable');"
   ]
  },
  {
   "cell_type": "markdown",
   "metadata": {
    "id": "NMcoWbTbshJ9"
   },
   "source": [
    "Although it is not obvious from the plot above, variable 'Embarked' contains 2 missing values, and 'Fare' contains 1 missing value."
   ]
  },
  {
   "cell_type": "markdown",
   "metadata": {
    "id": "0EU5SLWm5K_o"
   },
   "source": [
    "The 'Cabin' variable has lots of missing values.  What are the most common values of this variable?"
   ]
  },
  {
   "cell_type": "code",
   "execution_count": 12,
   "metadata": {
    "id": "BfSgC2GSrSoG"
   },
   "outputs": [
    {
     "data": {
      "text/plain": [
       "Cabin\n",
       "NaN                1014\n",
       "C23 C25 C27           6\n",
       "G6                    5\n",
       "B57 B59 B63 B66       5\n",
       "C22 C26               4\n",
       "Name: count, dtype: int64"
      ]
     },
     "execution_count": 12,
     "metadata": {},
     "output_type": "execute_result"
    }
   ],
   "source": [
    "df['Cabin'].value_counts(dropna=False)[:5]"
   ]
  },
  {
   "cell_type": "markdown",
   "metadata": {
    "id": "PoQ2o5wdosLk"
   },
   "source": [
    "This variable may not be very useful.  It is mostly NA, and each of the non-NA values appears only a small number of times.  Letters like 'B' and 'C' may indicate the class of the cabin.  Some of the Cabin values seem to include multiple cabin numbers.  Do some passengers get multiple cabins?  Would it be useful to convert this variable into one that just gives the number of cabins (with 0 for Nan)?"
   ]
  },
  {
   "cell_type": "markdown",
   "metadata": {
    "id": "WXDXv5kkk4s0"
   },
   "source": [
    "To help in confirming data types, look at the type, the number of unique values, and some of the values, for each variable."
   ]
  },
  {
   "cell_type": "code",
   "execution_count": 13,
   "metadata": {
    "id": "awb9GeT1k-zG"
   },
   "outputs": [
    {
     "data": {
      "text/html": [
       "<div>\n",
       "<style scoped>\n",
       "    .dataframe tbody tr th:only-of-type {\n",
       "        vertical-align: middle;\n",
       "    }\n",
       "\n",
       "    .dataframe tbody tr th {\n",
       "        vertical-align: top;\n",
       "    }\n",
       "\n",
       "    .dataframe thead th {\n",
       "        text-align: right;\n",
       "    }\n",
       "</style>\n",
       "<table border=\"1\" class=\"dataframe\">\n",
       "  <thead>\n",
       "    <tr style=\"text-align: right;\">\n",
       "      <th></th>\n",
       "      <th>dtype</th>\n",
       "      <th>nunique</th>\n",
       "      <th>unique</th>\n",
       "    </tr>\n",
       "  </thead>\n",
       "  <tbody>\n",
       "    <tr>\n",
       "      <th>Pclass</th>\n",
       "      <td>int64</td>\n",
       "      <td>3</td>\n",
       "      <td>[1, 2, 3]</td>\n",
       "    </tr>\n",
       "    <tr>\n",
       "      <th>Survived</th>\n",
       "      <td>int64</td>\n",
       "      <td>2</td>\n",
       "      <td>[1, 0]</td>\n",
       "    </tr>\n",
       "    <tr>\n",
       "      <th>Name</th>\n",
       "      <td>object</td>\n",
       "      <td>1307</td>\n",
       "      <td>[Allen, Miss. Elisabeth Walton, Allison, Maste...</td>\n",
       "    </tr>\n",
       "    <tr>\n",
       "      <th>Sex</th>\n",
       "      <td>object</td>\n",
       "      <td>2</td>\n",
       "      <td>[female, male]</td>\n",
       "    </tr>\n",
       "    <tr>\n",
       "      <th>Age</th>\n",
       "      <td>object</td>\n",
       "      <td>98</td>\n",
       "      <td>[29, 0.9167, 2, 30, 25, 48, 63, 39, 53, 71, 47...</td>\n",
       "    </tr>\n",
       "    <tr>\n",
       "      <th>SibSp</th>\n",
       "      <td>int64</td>\n",
       "      <td>7</td>\n",
       "      <td>[0, 1, 2, 3, 4, 5, 8]</td>\n",
       "    </tr>\n",
       "    <tr>\n",
       "      <th>Parch</th>\n",
       "      <td>int64</td>\n",
       "      <td>8</td>\n",
       "      <td>[0, 2, 1, 4, 3, 5, 6, 9]</td>\n",
       "    </tr>\n",
       "    <tr>\n",
       "      <th>Ticket</th>\n",
       "      <td>object</td>\n",
       "      <td>929</td>\n",
       "      <td>[24160, 113781, 19952, 13502, 112050, 11769, P...</td>\n",
       "    </tr>\n",
       "    <tr>\n",
       "      <th>Fare</th>\n",
       "      <td>object</td>\n",
       "      <td>281</td>\n",
       "      <td>[211.3375, 151.55, 26.55, 77.9583, 0, 51.4792,...</td>\n",
       "    </tr>\n",
       "    <tr>\n",
       "      <th>Cabin</th>\n",
       "      <td>object</td>\n",
       "      <td>186</td>\n",
       "      <td>[B5, C22 C26, E12, D7, A36, C101, nan, C62 C64...</td>\n",
       "    </tr>\n",
       "    <tr>\n",
       "      <th>Embarked</th>\n",
       "      <td>object</td>\n",
       "      <td>3</td>\n",
       "      <td>[S, C, nan, Q]</td>\n",
       "    </tr>\n",
       "  </tbody>\n",
       "</table>\n",
       "</div>"
      ],
      "text/plain": [
       "           dtype nunique                                             unique\n",
       "Pclass     int64       3                                          [1, 2, 3]\n",
       "Survived   int64       2                                             [1, 0]\n",
       "Name      object    1307  [Allen, Miss. Elisabeth Walton, Allison, Maste...\n",
       "Sex       object       2                                     [female, male]\n",
       "Age       object      98  [29, 0.9167, 2, 30, 25, 48, 63, 39, 53, 71, 47...\n",
       "SibSp      int64       7                              [0, 1, 2, 3, 4, 5, 8]\n",
       "Parch      int64       8                           [0, 2, 1, 4, 3, 5, 6, 9]\n",
       "Ticket    object     929  [24160, 113781, 19952, 13502, 112050, 11769, P...\n",
       "Fare      object     281  [211.3375, 151.55, 26.55, 77.9583, 0, 51.4792,...\n",
       "Cabin     object     186  [B5, C22 C26, E12, D7, A36, C101, nan, C62 C64...\n",
       "Embarked  object       3                                     [S, C, nan, Q]"
      ]
     },
     "execution_count": 13,
     "metadata": {},
     "output_type": "execute_result"
    }
   ],
   "source": [
    "df.apply([np.dtype, pd.Series.nunique, pd.Series.unique]).transpose()"
   ]
  },
  {
   "cell_type": "markdown",
   "metadata": {
    "id": "3yozhgfwmwlN"
   },
   "source": [
    "Strangely, some of the 'Age' values are non-integer.  \n",
    "\n",
    "The 'Name' values could potentially be interesting, even if only the title is useful.\n",
    "\n",
    "The 'Ticket' values do not appear to be very interesting, although some ticket numbers are shared between passengers.  \n",
    "\n",
    "Some of the variables which seem to be numeric have 'object' type.  In the case of 'Age', this could be because of NA values.  But why does 'Fare' have object type?"
   ]
  },
  {
   "cell_type": "markdown",
   "metadata": {
    "id": "GAo458NoqK8F"
   },
   "source": [
    "How many tickets are shared by passengers?  How many passengers share the most-shared ticket?"
   ]
  },
  {
   "cell_type": "code",
   "execution_count": 14,
   "metadata": {
    "id": "y7apPXurqK8F"
   },
   "outputs": [
    {
     "data": {
      "text/plain": [
       "count    929.000000\n",
       "mean       1.409042\n",
       "std        0.988383\n",
       "min        1.000000\n",
       "25%        1.000000\n",
       "50%        1.000000\n",
       "75%        1.000000\n",
       "max       11.000000\n",
       "Name: count, dtype: float64"
      ]
     },
     "execution_count": 14,
     "metadata": {},
     "output_type": "execute_result"
    }
   ],
   "source": [
    "df['Ticket'].value_counts().describe()"
   ]
  },
  {
   "cell_type": "markdown",
   "metadata": {
    "id": "QBTOmJjKqK8F"
   },
   "source": [
    "Most tickets aren't shared, but the most-shared ticket is shared by 11 passengers, but most tickets are not shared.  Are the passengers that share the most-shared ticket related?  Also, is the same fare shown for all passengers that share a ticket?"
   ]
  },
  {
   "cell_type": "code",
   "execution_count": 15,
   "metadata": {
    "id": "H8-DWKj5qK8F",
    "scrolled": true
   },
   "outputs": [
    {
     "name": "stdout",
     "output_type": "stream",
     "text": [
      "                                   Name   Fare\n",
      "1170         Sage, Master. Thomas Henry  69.55\n",
      "1171        Sage, Master. William Henry  69.55\n",
      "1172                    Sage, Miss. Ada  69.55\n",
      "1173       Sage, Miss. Constance Gladys  69.55\n",
      "1174  Sage, Miss. Dorothy Edith 'Dolly'  69.55\n",
      "1175            Sage, Miss. Stella Anna  69.55\n",
      "1176           Sage, Mr. Douglas Bullen  69.55\n",
      "1177                Sage, Mr. Frederick  69.55\n",
      "1178           Sage, Mr. George John Jr  69.55\n",
      "1179              Sage, Mr. John George  69.55\n",
      "1180     Sage, Mrs. John (Annie Bullen)  69.55\n"
     ]
    }
   ],
   "source": [
    "#@ 1  Show the Name and Fare values for the passengers that share the most-shared ticket.\n",
    "\n",
    "# Hint: look at the code cell above for an idea of how to find the most-shared ticket.\n",
    "\n",
    "most_shared = df['Ticket'].value_counts().index[0]\n",
    "\n",
    "print(df[df['Ticket'] == most_shared][['Name', 'Fare']])"
   ]
  },
  {
   "cell_type": "markdown",
   "metadata": {
    "id": "VY-PZ-yEqK8F"
   },
   "source": [
    "This looks like a large family, so families may all share a single ticket.  It appears that the ticket fare is the fare paid for the single shared ticket.  In other words, it appears that \\\\$60.55 was the cost for the entire family to travel"
   ]
  },
  {
   "cell_type": "markdown",
   "metadata": {
    "id": "A9tFeKBWqZdQ"
   },
   "source": [
    "Does the 'Fare' variable contain any non-numeric values besides the single NA value?"
   ]
  },
  {
   "cell_type": "code",
   "execution_count": 16,
   "metadata": {
    "id": "bB0yxUKOq7Ld"
   },
   "outputs": [
    {
     "data": {
      "text/plain": [
       "1225    NaN\n",
       "Name: Fare, dtype: object"
      ]
     },
     "execution_count": 16,
     "metadata": {},
     "output_type": "execute_result"
    }
   ],
   "source": [
    "non_numeric = pd.to_numeric(df['Fare'], errors='coerce').isna()\n",
    "df['Fare'][non_numeric]"
   ]
  },
  {
   "cell_type": "markdown",
   "metadata": {
    "id": "JXQxl8-KjwYu"
   },
   "source": [
    "### Data preprocessing"
   ]
  },
  {
   "cell_type": "markdown",
   "metadata": {
    "id": "t7S5FRM93amo"
   },
   "source": [
    "Convert variable 'Fare' to a numeric variable."
   ]
  },
  {
   "cell_type": "code",
   "execution_count": 17,
   "metadata": {
    "id": "j-TbGcTijwYu"
   },
   "outputs": [],
   "source": [
    "df['Fare'] = pd.to_numeric(df['Fare'], errors='coerce')"
   ]
  },
  {
   "cell_type": "markdown",
   "metadata": {
    "id": "Hj6psYwx3amo"
   },
   "source": [
    "Column 'Cabin' has many unique values, but the first letter is most important, so we retain only that.  For missing values, we use a new letter 'U', for \"unknown\"."
   ]
  },
  {
   "cell_type": "code",
   "execution_count": 18,
   "metadata": {
    "id": "jpcOl6ae3amo"
   },
   "outputs": [],
   "source": [
    "df['Cabin'] = df['Cabin'].str.slice(stop=1)\n",
    "df['Cabin'].fillna('U', inplace=True)"
   ]
  },
  {
   "cell_type": "markdown",
   "metadata": {
    "id": "JcUv8UMW3amp"
   },
   "source": [
    "Column 'Ticket' also has many unique values.  We simplify the variable by reducing the values to only True and False, representing whether the ticket value contains letters."
   ]
  },
  {
   "cell_type": "code",
   "execution_count": 19,
   "metadata": {
    "id": "Z5W8cJDJ3amp"
   },
   "outputs": [],
   "source": [
    "df['Ticket'] = df['Ticket'].str.contains('[a-zA-Z]')"
   ]
  },
  {
   "cell_type": "markdown",
   "metadata": {
    "id": "lGFJFo6H3amp"
   },
   "source": [
    "Column 'Embarked' has hardly any NA values, so we drop rows of the data set with NA values for 'Embarked'."
   ]
  },
  {
   "cell_type": "code",
   "execution_count": 20,
   "metadata": {
    "id": "-f7mGJd63amp"
   },
   "outputs": [],
   "source": [
    "df.dropna(subset=['Embarked'], inplace=True)"
   ]
  },
  {
   "cell_type": "markdown",
   "metadata": {
    "id": "UUtP8G3u3amp"
   },
   "source": [
    "For column 'Name', the most important part is the title, if present.  We therefore extract the title part and create a new variable for it.  The original 'Name' column is dropped."
   ]
  },
  {
   "cell_type": "code",
   "execution_count": 21,
   "metadata": {
    "id": "pkEBsfjz3amq"
   },
   "outputs": [],
   "source": [
    "# this could be done more efficiently using Pandas.str.replace\n",
    "def extract_title(s):\n",
    "    titles = ['Mr.', 'Mrs.', 'Miss.', 'Master.', 'Dr.']\n",
    "    for title in titles:\n",
    "        if title in s:\n",
    "            return title\n",
    "    return 'NoTitle'\n",
    "\n",
    "df['Title'] = df['Name'].apply(extract_title)\n",
    "df.drop(columns='Name', inplace=True)"
   ]
  },
  {
   "cell_type": "markdown",
   "metadata": {
    "id": "DwUhtqh06qB6"
   },
   "source": [
    "For column age, it might be helpful to impute missing values, but this might also greatly disort the age distribution of passengers.  Instead, we will first convert the age values to age range values, and then convert any missing age values to a new 'NA' age range."
   ]
  },
  {
   "cell_type": "code",
   "execution_count": 22,
   "metadata": {
    "id": "SsJB8UBRbibF"
   },
   "outputs": [],
   "source": [
    "# convert age to a float (NA's will still exist)\n",
    "df['Age'] = pd.to_numeric(df['Age'])\n",
    "\n",
    "# create an age_range Series\n",
    "age_bins = [0, 10, 20, 30, 40, 50, 100]\n",
    "age_labels = [ f\"({age_bins[i]},{age_bins[i+1]}]\" for i in range(len(age_bins)-1)]\n",
    "age_range = pd.cut(df['Age'], bins=age_bins, labels=age_labels)\n",
    "\n",
    "# add a new 'NA' category, and convert all NA values to this category\n",
    "age_range = age_range.cat.add_categories(['NA'])\n",
    "age_range.fillna('NA', inplace=True)\n",
    "\n",
    "df['Age Range'] = age_range\n",
    "\n",
    "# drop the original Age variable\n",
    "df.drop(columns='Age', inplace=True)"
   ]
  },
  {
   "cell_type": "markdown",
   "metadata": {
    "id": "_53KFzmM3amq"
   },
   "source": [
    "Remove any remaining NA values."
   ]
  },
  {
   "cell_type": "code",
   "execution_count": 23,
   "metadata": {
    "id": "XGvTVs6l3amq",
    "scrolled": true
   },
   "outputs": [],
   "source": [
    "df.dropna(inplace=True)"
   ]
  },
  {
   "cell_type": "markdown",
   "metadata": {
    "id": "nkwYNifJ3amq"
   },
   "source": [
    "The first rows of the preprocessed data set are shown below."
   ]
  },
  {
   "cell_type": "code",
   "execution_count": 24,
   "metadata": {
    "id": "aBUy3HbrjwYv"
   },
   "outputs": [
    {
     "data": {
      "text/html": [
       "<div>\n",
       "<style scoped>\n",
       "    .dataframe tbody tr th:only-of-type {\n",
       "        vertical-align: middle;\n",
       "    }\n",
       "\n",
       "    .dataframe tbody tr th {\n",
       "        vertical-align: top;\n",
       "    }\n",
       "\n",
       "    .dataframe thead th {\n",
       "        text-align: right;\n",
       "    }\n",
       "</style>\n",
       "<table border=\"1\" class=\"dataframe\">\n",
       "  <thead>\n",
       "    <tr style=\"text-align: right;\">\n",
       "      <th></th>\n",
       "      <th>Pclass</th>\n",
       "      <th>Survived</th>\n",
       "      <th>Sex</th>\n",
       "      <th>SibSp</th>\n",
       "      <th>Parch</th>\n",
       "      <th>Ticket</th>\n",
       "      <th>Fare</th>\n",
       "      <th>Cabin</th>\n",
       "      <th>Embarked</th>\n",
       "      <th>Title</th>\n",
       "      <th>Age Range</th>\n",
       "    </tr>\n",
       "  </thead>\n",
       "  <tbody>\n",
       "    <tr>\n",
       "      <th>0</th>\n",
       "      <td>1</td>\n",
       "      <td>1</td>\n",
       "      <td>female</td>\n",
       "      <td>0</td>\n",
       "      <td>0</td>\n",
       "      <td>False</td>\n",
       "      <td>211.3375</td>\n",
       "      <td>B</td>\n",
       "      <td>S</td>\n",
       "      <td>Miss.</td>\n",
       "      <td>(20,30]</td>\n",
       "    </tr>\n",
       "    <tr>\n",
       "      <th>1</th>\n",
       "      <td>1</td>\n",
       "      <td>1</td>\n",
       "      <td>male</td>\n",
       "      <td>1</td>\n",
       "      <td>2</td>\n",
       "      <td>False</td>\n",
       "      <td>151.5500</td>\n",
       "      <td>C</td>\n",
       "      <td>S</td>\n",
       "      <td>Master.</td>\n",
       "      <td>(0,10]</td>\n",
       "    </tr>\n",
       "    <tr>\n",
       "      <th>2</th>\n",
       "      <td>1</td>\n",
       "      <td>0</td>\n",
       "      <td>female</td>\n",
       "      <td>1</td>\n",
       "      <td>2</td>\n",
       "      <td>False</td>\n",
       "      <td>151.5500</td>\n",
       "      <td>C</td>\n",
       "      <td>S</td>\n",
       "      <td>Miss.</td>\n",
       "      <td>(0,10]</td>\n",
       "    </tr>\n",
       "    <tr>\n",
       "      <th>3</th>\n",
       "      <td>1</td>\n",
       "      <td>0</td>\n",
       "      <td>male</td>\n",
       "      <td>1</td>\n",
       "      <td>2</td>\n",
       "      <td>False</td>\n",
       "      <td>151.5500</td>\n",
       "      <td>C</td>\n",
       "      <td>S</td>\n",
       "      <td>Mr.</td>\n",
       "      <td>(20,30]</td>\n",
       "    </tr>\n",
       "    <tr>\n",
       "      <th>4</th>\n",
       "      <td>1</td>\n",
       "      <td>0</td>\n",
       "      <td>female</td>\n",
       "      <td>1</td>\n",
       "      <td>2</td>\n",
       "      <td>False</td>\n",
       "      <td>151.5500</td>\n",
       "      <td>C</td>\n",
       "      <td>S</td>\n",
       "      <td>Mrs.</td>\n",
       "      <td>(20,30]</td>\n",
       "    </tr>\n",
       "    <tr>\n",
       "      <th>5</th>\n",
       "      <td>1</td>\n",
       "      <td>1</td>\n",
       "      <td>male</td>\n",
       "      <td>0</td>\n",
       "      <td>0</td>\n",
       "      <td>False</td>\n",
       "      <td>26.5500</td>\n",
       "      <td>E</td>\n",
       "      <td>S</td>\n",
       "      <td>Mr.</td>\n",
       "      <td>(40,50]</td>\n",
       "    </tr>\n",
       "    <tr>\n",
       "      <th>6</th>\n",
       "      <td>1</td>\n",
       "      <td>1</td>\n",
       "      <td>female</td>\n",
       "      <td>1</td>\n",
       "      <td>0</td>\n",
       "      <td>False</td>\n",
       "      <td>77.9583</td>\n",
       "      <td>D</td>\n",
       "      <td>S</td>\n",
       "      <td>Miss.</td>\n",
       "      <td>(50,100]</td>\n",
       "    </tr>\n",
       "    <tr>\n",
       "      <th>7</th>\n",
       "      <td>1</td>\n",
       "      <td>0</td>\n",
       "      <td>male</td>\n",
       "      <td>0</td>\n",
       "      <td>0</td>\n",
       "      <td>False</td>\n",
       "      <td>0.0000</td>\n",
       "      <td>A</td>\n",
       "      <td>S</td>\n",
       "      <td>Mr.</td>\n",
       "      <td>(30,40]</td>\n",
       "    </tr>\n",
       "    <tr>\n",
       "      <th>8</th>\n",
       "      <td>1</td>\n",
       "      <td>1</td>\n",
       "      <td>female</td>\n",
       "      <td>2</td>\n",
       "      <td>0</td>\n",
       "      <td>False</td>\n",
       "      <td>51.4792</td>\n",
       "      <td>C</td>\n",
       "      <td>S</td>\n",
       "      <td>Mrs.</td>\n",
       "      <td>(50,100]</td>\n",
       "    </tr>\n",
       "    <tr>\n",
       "      <th>9</th>\n",
       "      <td>1</td>\n",
       "      <td>0</td>\n",
       "      <td>male</td>\n",
       "      <td>0</td>\n",
       "      <td>0</td>\n",
       "      <td>True</td>\n",
       "      <td>49.5042</td>\n",
       "      <td>U</td>\n",
       "      <td>C</td>\n",
       "      <td>Mr.</td>\n",
       "      <td>(50,100]</td>\n",
       "    </tr>\n",
       "  </tbody>\n",
       "</table>\n",
       "</div>"
      ],
      "text/plain": [
       "   Pclass  Survived     Sex  SibSp  Parch  Ticket      Fare Cabin Embarked  \\\n",
       "0       1         1  female      0      0   False  211.3375     B        S   \n",
       "1       1         1    male      1      2   False  151.5500     C        S   \n",
       "2       1         0  female      1      2   False  151.5500     C        S   \n",
       "3       1         0    male      1      2   False  151.5500     C        S   \n",
       "4       1         0  female      1      2   False  151.5500     C        S   \n",
       "5       1         1    male      0      0   False   26.5500     E        S   \n",
       "6       1         1  female      1      0   False   77.9583     D        S   \n",
       "7       1         0    male      0      0   False    0.0000     A        S   \n",
       "8       1         1  female      2      0   False   51.4792     C        S   \n",
       "9       1         0    male      0      0    True   49.5042     U        C   \n",
       "\n",
       "     Title Age Range  \n",
       "0    Miss.   (20,30]  \n",
       "1  Master.    (0,10]  \n",
       "2    Miss.    (0,10]  \n",
       "3      Mr.   (20,30]  \n",
       "4     Mrs.   (20,30]  \n",
       "5      Mr.   (40,50]  \n",
       "6    Miss.  (50,100]  \n",
       "7      Mr.   (30,40]  \n",
       "8     Mrs.  (50,100]  \n",
       "9      Mr.  (50,100]  "
      ]
     },
     "execution_count": 24,
     "metadata": {},
     "output_type": "execute_result"
    }
   ],
   "source": [
    "df.head(10)"
   ]
  },
  {
   "cell_type": "markdown",
   "metadata": {
    "id": "HQtvFqm-jwYw"
   },
   "source": [
    "## Data exploration"
   ]
  },
  {
   "cell_type": "markdown",
   "metadata": {
    "id": "28ZJ9g7UP6pH"
   },
   "source": [
    "What fraction of the passengers survived?"
   ]
  },
  {
   "cell_type": "code",
   "execution_count": 25,
   "metadata": {
    "id": "nsktdbZZsTyN"
   },
   "outputs": [
    {
     "name": "stdout",
     "output_type": "stream",
     "text": [
      "Titanic survival rate: 38.1 %\n"
     ]
    }
   ],
   "source": [
    "print('Titanic survival rate: {:.1f} %'.format((df['Survived'] == 1).mean()*100))"
   ]
  },
  {
   "cell_type": "markdown",
   "metadata": {
    "id": "MeWVg__ZQADf"
   },
   "source": [
    "What were the fares of the passengers?"
   ]
  },
  {
   "cell_type": "code",
   "execution_count": 26,
   "metadata": {
    "id": "nLT03kd0jwYx"
   },
   "outputs": [
    {
     "data": {
      "image/png": "[encoded data removed]",
      "text/plain": [
       "<Figure size 700x300 with 1 Axes>"
      ]
     },
     "metadata": {},
     "output_type": "display_data"
    }
   ],
   "source": [
    "df['Fare'].plot.density(figsize=(7,3))\n",
    "plt.xlim(-50, df['Fare'].max())\n",
    "plt.title('Distribution of passenger fares');"
   ]
  },
  {
   "cell_type": "markdown",
   "metadata": {
    "id": "0CQHWeUJUvHg"
   },
   "source": [
    "What titles were used for passengers?  "
   ]
  },
  {
   "cell_type": "code",
   "execution_count": 27,
   "metadata": {
    "id": "_9izAYWCUz0I"
   },
   "outputs": [
    {
     "data": {
      "image/png": "[encoded data removed]",
      "text/plain": [
       "<Figure size 600x400 with 1 Axes>"
      ]
     },
     "metadata": {},
     "output_type": "display_data"
    }
   ],
   "source": [
    "#@ 2  Recreate the plot of counts by passenger title.\n",
    "value_counts = df['Title'].value_counts()\n",
    "\n",
    "value_counts.plot.bar(rot=0)\n",
    "plt.title('Counnts by passenger title')\n",
    "plt.ylabel('count')\n",
    "plt.show()"
   ]
  },
  {
   "cell_type": "markdown",
   "metadata": {
    "id": "sEfn9a0gVOs4"
   },
   "source": [
    "About 90\\% of men have title \"Mr.\", while women are roughly equally split between \"Miss\" and \"Mrs\".  I believe that \"Master\" indicates a male child."
   ]
  },
  {
   "cell_type": "markdown",
   "metadata": {
    "id": "gth91WBpvN87"
   },
   "source": [
    "Examine the distribution of 'Age Range' values."
   ]
  },
  {
   "cell_type": "code",
   "execution_count": 28,
   "metadata": {
    "id": "Z5TbtrkUjbbK"
   },
   "outputs": [
    {
     "data": {
      "image/png": "[encoded data removed]",
      "text/plain": [
       "<Figure size 600x400 with 1 Axes>"
      ]
     },
     "metadata": {},
     "output_type": "display_data"
    }
   ],
   "source": [
    "df['Age Range'].value_counts(normalize=True).sort_index().plot.bar(rot=0)\n",
    "plt.ylabel(\"fraction of passengers\")\n",
    "plt.title(\"Distribution of passenger ages\");"
   ]
  },
  {
   "cell_type": "markdown",
   "metadata": {
    "id": "_MXbxCSeQIgw"
   },
   "source": [
    "How does age relate to whether a passenger survived?"
   ]
  },
  {
   "cell_type": "code",
   "execution_count": 29,
   "metadata": {
    "id": "l8ZZZ7oN5K_s"
   },
   "outputs": [
    {
     "data": {
      "image/png": "[encoded data removed]",
      "text/plain": [
       "<Figure size 600x400 with 1 Axes>"
      ]
     },
     "metadata": {},
     "output_type": "display_data"
    }
   ],
   "source": [
    "#@ 3  Recreate the plot of survival by age range.\n",
    "\n",
    "survival_by_age = df.groupby('Age Range')['Survived'].sum()\n",
    "\n",
    "totals = df.groupby('Age Range')['Survived'].count()\n",
    "\n",
    "plotting = (survival_by_age / totals)\n",
    "\n",
    "plotting.plot.bar(rot=0)\n",
    "plt.show()"
   ]
  },
  {
   "cell_type": "markdown",
   "metadata": {
    "id": "CdoGHkbmqK8J"
   },
   "source": [
    "The survival rate was highest for children.  Among other age groups, the survival rate was about the same.\n",
    "\n",
    "This plot shows the value of having a value that represents unknown ages.  The passengers of unknown age had a lower survival rate than any of the age groups."
   ]
  },
  {
   "cell_type": "markdown",
   "metadata": {
    "id": "4--cg2StQOKA"
   },
   "source": [
    "How does gender relate to whether a passenger survived?"
   ]
  },
  {
   "cell_type": "code",
   "execution_count": 30,
   "metadata": {
    "id": "VdZkmnVWjwYz"
   },
   "outputs": [
    {
     "data": {
      "image/png": "[encoded data removed]",
      "text/plain": [
       "<Figure size 600x400 with 1 Axes>"
      ]
     },
     "metadata": {},
     "output_type": "display_data"
    }
   ],
   "source": [
    "df.groupby('Sex')['Survived'].mean().plot.bar(rot=0)\n",
    "plt.ylabel('survival rate')\n",
    "plt.title('Survival by sex');"
   ]
  },
  {
   "cell_type": "markdown",
   "metadata": {
    "id": "Ocm-qPd9QXQo"
   },
   "source": [
    "We can see that female passengers were much more likely to survive than male ones."
   ]
  },
  {
   "cell_type": "markdown",
   "metadata": {
    "id": "Dr2yg0tI5K_s"
   },
   "source": [
    "Do differences in the ages of female and male passengers explain why passengers in some age ranges are more likely to survive than others?"
   ]
  },
  {
   "cell_type": "code",
   "execution_count": 31,
   "metadata": {
    "id": "ZRGIK21b5K_t"
   },
   "outputs": [
    {
     "data": {
      "image/png": "[encoded data removed]",
      "text/plain": [
       "<Figure size 600x400 with 1 Axes>"
      ]
     },
     "metadata": {},
     "output_type": "display_data"
    }
   ],
   "source": [
    "#@ 4  Recreate the plot of passenger age distribution by sex\n",
    "\n",
    "# Use pd.crosstab(), as in class.\n",
    "\n",
    "cross = pd.crosstab(df['Sex'], df['Age Range'], normalize='index')\n",
    "cross.plot.bar(rot=0)\n",
    "plt.title('Passenger age distribution by sex')\n",
    "plt.ylabel('fraction of passengers (by group)')\n",
    "plt.show()"
   ]
  },
  {
   "cell_type": "markdown",
   "metadata": {
    "id": "QhqMp4_K5K_t"
   },
   "source": [
    "This plot is very surprising, but helps to explain why certain ages survived.  Women passengers strongly fell into the 18-25 and 32-38 age ranges, while male passengers strongly fell into the 26-32 age range.  Very few passengers were above age 40."
   ]
  },
  {
   "cell_type": "markdown",
   "metadata": {
    "id": "X-kRIm2wWUQA"
   },
   "source": [
    "Did richer passengers survive more often?  If we think of high-paying passengers as rich passengers, then looking at survival by fare may be interesting."
   ]
  },
  {
   "cell_type": "code",
   "execution_count": 32,
   "metadata": {
    "id": "3EC2sDK_qK8K"
   },
   "outputs": [
    {
     "data": {
      "image/png": "[encoded data removed]",
      "text/plain": [
       "<Figure size 700x400 with 1 Axes>"
      ]
     },
     "metadata": {},
     "output_type": "display_data"
    }
   ],
   "source": [
    "df.groupby(pd.qcut(df['Fare'], 6, precision=1), observed=True)['Survived'].mean().plot.bar(rot=0, figsize=(7,4))\n",
    "plt.title('Survival rate by fare range')\n",
    "plt.ylabel('survival rate')\n",
    "plt.xlabel('fare range ($)');"
   ]
  },
  {
   "cell_type": "markdown",
   "metadata": {
    "id": "okWYofzCTY3A"
   },
   "source": [
    "In this plot, about the same number of passengers are represented in each bar.  We see that low-fare passengers had a very low survival rate, possibly because of the location of their cabins.  The wide range of fares is interesting.  About half of the passengers paid less than \\\\$15, but some passengers paid over \\\\$500."
   ]
  },
  {
   "cell_type": "markdown",
   "metadata": {
    "id": "VnRqWav03amu"
   },
   "source": [
    "## Machine learning"
   ]
  },
  {
   "cell_type": "markdown",
   "metadata": {
    "id": "LpflvaOkoZ0s"
   },
   "source": [
    "### Data preparation for machine learning"
   ]
  },
  {
   "cell_type": "code",
   "execution_count": 33,
   "metadata": {
    "id": "OO5Z54hToZYk"
   },
   "outputs": [],
   "source": [
    "np.random.seed(123)"
   ]
  },
  {
   "cell_type": "markdown",
   "metadata": {
    "id": "EZ6BSFTFQf9I"
   },
   "source": [
    "Encode categorical variables as numbers using the dummy variables method."
   ]
  },
  {
   "cell_type": "code",
   "execution_count": 34,
   "metadata": {
    "id": "ATBiJdXajwY0"
   },
   "outputs": [],
   "source": [
    "df = pd.get_dummies(df, drop_first=True)"
   ]
  },
  {
   "cell_type": "markdown",
   "metadata": {
    "id": "9oXf37mVQnyg"
   },
   "source": [
    "Look at a summary of the data after the encoding."
   ]
  },
  {
   "cell_type": "code",
   "execution_count": 35,
   "metadata": {
    "id": "fHAP252BnAL9"
   },
   "outputs": [
    {
     "name": "stdout",
     "output_type": "stream",
     "text": [
      "<class 'pandas.core.frame.DataFrame'>\n",
      "Index: 1306 entries, 0 to 1308\n",
      "Data columns (total 28 columns):\n",
      " #   Column              Non-Null Count  Dtype  \n",
      "---  ------              --------------  -----  \n",
      " 0   Pclass              1306 non-null   int64  \n",
      " 1   Survived            1306 non-null   int64  \n",
      " 2   SibSp               1306 non-null   int64  \n",
      " 3   Parch               1306 non-null   int64  \n",
      " 4   Ticket              1306 non-null   bool   \n",
      " 5   Fare                1306 non-null   float64\n",
      " 6   Sex_male            1306 non-null   bool   \n",
      " 7   Cabin_B             1306 non-null   bool   \n",
      " 8   Cabin_C             1306 non-null   bool   \n",
      " 9   Cabin_D             1306 non-null   bool   \n",
      " 10  Cabin_E             1306 non-null   bool   \n",
      " 11  Cabin_F             1306 non-null   bool   \n",
      " 12  Cabin_G             1306 non-null   bool   \n",
      " 13  Cabin_T             1306 non-null   bool   \n",
      " 14  Cabin_U             1306 non-null   bool   \n",
      " 15  Embarked_Q          1306 non-null   bool   \n",
      " 16  Embarked_S          1306 non-null   bool   \n",
      " 17  Title_Master.       1306 non-null   bool   \n",
      " 18  Title_Miss.         1306 non-null   bool   \n",
      " 19  Title_Mr.           1306 non-null   bool   \n",
      " 20  Title_Mrs.          1306 non-null   bool   \n",
      " 21  Title_NoTitle       1306 non-null   bool   \n",
      " 22  Age Range_(10,20]   1306 non-null   bool   \n",
      " 23  Age Range_(20,30]   1306 non-null   bool   \n",
      " 24  Age Range_(30,40]   1306 non-null   bool   \n",
      " 25  Age Range_(40,50]   1306 non-null   bool   \n",
      " 26  Age Range_(50,100]  1306 non-null   bool   \n",
      " 27  Age Range_NA        1306 non-null   bool   \n",
      "dtypes: bool(23), float64(1), int64(4)\n",
      "memory usage: 90.6 KB\n"
     ]
    }
   ],
   "source": [
    "df.info()"
   ]
  },
  {
   "cell_type": "markdown",
   "metadata": {
    "id": "PEdkW3uqQtQo"
   },
   "source": [
    "Convert the Pandas data frame to NumPy arrays, and perform a train/test split.  All variables except for the target variable will be used as predictors."
   ]
  },
  {
   "cell_type": "code",
   "execution_count": 36,
   "metadata": {
    "id": "Go8jhHWdjwY1"
   },
   "outputs": [],
   "source": [
    "target = 'Survived'\n",
    "predictors = list(df.columns)\n",
    "predictors.remove(target)\n",
    "\n",
    "X = df[predictors].values\n",
    "y = df[target].values\n",
    "X_train, X_test, y_train, y_test = train_test_split(X, y, test_size=0.30, random_state=0)"
   ]
  },
  {
   "cell_type": "markdown",
   "metadata": {
    "id": "zqVjEJnbsMbb"
   },
   "source": [
    "Perform a sanity check on the training data."
   ]
  },
  {
   "cell_type": "code",
   "execution_count": 37,
   "metadata": {
    "id": "v1NaYd6qoyos"
   },
   "outputs": [
    {
     "name": "stdout",
     "output_type": "stream",
     "text": [
      "(914, 27)\n",
      "(914,)\n"
     ]
    }
   ],
   "source": [
    "print(X_train.shape)\n",
    "print(y_train.shape)"
   ]
  },
  {
   "cell_type": "markdown",
   "metadata": {
    "id": "L0Z3lgp9o6zy"
   },
   "source": [
    "### Compute baseline accuracy"
   ]
  },
  {
   "cell_type": "markdown",
   "metadata": {
    "id": "7yRw_O6vQ9ZB"
   },
   "source": [
    "The baseline accuracy in a classification problem tells us the accuracy we could achieve if we simply guessed the majority class.  In this case, since most passengers didn't survive, we would guess 'did not survive' in the absence of any additional information."
   ]
  },
  {
   "cell_type": "code",
   "execution_count": 38,
   "metadata": {
    "id": "tlAsraIx3amx"
   },
   "outputs": [
    {
     "name": "stdout",
     "output_type": "stream",
     "text": [
      "Baseline Accuracy: 0.619\n"
     ]
    }
   ],
   "source": [
    "#@ 5 Compute the baseline accuracy from the target values in the training data.\n",
    "\n",
    "# The baseline accuracy is the fraction of the training set target values that\n",
    "# equal the value of the target value that appears the most in the training data.\n",
    "\n",
    "base_value = df[target].value_counts().idxmax()\n",
    "base_count = df[target].value_counts().max()\n",
    "\n",
    "total = len(df[target])\n",
    "\n",
    "baseline_accuracy = base_count / total\n",
    "\n",
    "print(f\"Baseline Accuracy: {baseline_accuracy:.3f}\")"
   ]
  },
  {
   "cell_type": "markdown",
   "metadata": {
    "id": "_pFihw_hjwY0"
   },
   "source": [
    "### Building a classification tree"
   ]
  },
  {
   "cell_type": "markdown",
   "metadata": {
    "id": "gf_9A-HGRTqm"
   },
   "source": [
    "As usual, we will start with a flexible model in an attempt to achieve overfitting.  Afterward, we will reduce the overfitting.  I expect that with a max depth of 7 we will achieve overfitting."
   ]
  },
  {
   "cell_type": "code",
   "execution_count": 39,
   "metadata": {
    "id": "F67iIFjOjwY2"
   },
   "outputs": [
    {
     "data": {
      "text/html": [
       "<style>#sk-container-id-1 {\n",
       "  /* Definition of color scheme common for light and dark mode */\n",
       "  --sklearn-color-text: black;\n",
       "  --sklearn-color-line: gray;\n",
       "  /* Definition of color scheme for unfitted estimators */\n",
       "  --sklearn-color-unfitted-level-0: #fff5e6;\n",
       "  --sklearn-color-unfitted-level-1: #f6e4d2;\n",
       "  --sklearn-color-unfitted-level-2: #ffe0b3;\n",
       "  --sklearn-color-unfitted-level-3: chocolate;\n",
       "  /* Definition of color scheme for fitted estimators */\n",
       "  --sklearn-color-fitted-level-0: #f0f8ff;\n",
       "  --sklearn-color-fitted-level-1: #d4ebff;\n",
       "  --sklearn-color-fitted-level-2: #b3dbfd;\n",
       "  --sklearn-color-fitted-level-3: cornflowerblue;\n",
       "\n",
       "  /* Specific color for light theme */\n",
       "  --sklearn-color-text-on-default-background: var(--sg-text-color, var(--theme-code-foreground, var(--jp-content-font-color1, black)));\n",
       "  --sklearn-color-background: var(--sg-background-color, var(--theme-background, var(--jp-layout-color0, white)));\n",
       "  --sklearn-color-border-box: var(--sg-text-color, var(--theme-code-foreground, var(--jp-content-font-color1, black)));\n",
       "  --sklearn-color-icon: #696969;\n",
       "\n",
       "  @media (prefers-color-scheme: dark) {\n",
       "    /* Redefinition of color scheme for dark theme */\n",
       "    --sklearn-color-text-on-default-background: var(--sg-text-color, var(--theme-code-foreground, var(--jp-content-font-color1, white)));\n",
       "    --sklearn-color-background: var(--sg-background-color, var(--theme-background, var(--jp-layout-color0, #111)));\n",
       "    --sklearn-color-border-box: var(--sg-text-color, var(--theme-code-foreground, var(--jp-content-font-color1, white)));\n",
       "    --sklearn-color-icon: #878787;\n",
       "  }\n",
       "}\n",
       "\n",
       "#sk-container-id-1 {\n",
       "  color: var(--sklearn-color-text);\n",
       "}\n",
       "\n",
       "#sk-container-id-1 pre {\n",
       "  padding: 0;\n",
       "}\n",
       "\n",
       "#sk-container-id-1 input.sk-hidden--visually {\n",
       "  border: 0;\n",
       "  clip: rect(1px 1px 1px 1px);\n",
       "  clip: rect(1px, 1px, 1px, 1px);\n",
       "  height: 1px;\n",
       "  margin: -1px;\n",
       "  overflow: hidden;\n",
       "  padding: 0;\n",
       "  position: absolute;\n",
       "  width: 1px;\n",
       "}\n",
       "\n",
       "#sk-container-id-1 div.sk-dashed-wrapped {\n",
       "  border: 1px dashed var(--sklearn-color-line);\n",
       "  margin: 0 0.4em 0.5em 0.4em;\n",
       "  box-sizing: border-box;\n",
       "  padding-bottom: 0.4em;\n",
       "  background-color: var(--sklearn-color-background);\n",
       "}\n",
       "\n",
       "#sk-container-id-1 div.sk-container {\n",
       "  /* jupyter's `normalize.less` sets `[hidden] { display: none; }`\n",
       "     but bootstrap.min.css set `[hidden] { display: none !important; }`\n",
       "     so we also need the `!important` here to be able to override the\n",
       "     default hidden behavior on the sphinx rendered scikit-learn.org.\n",
       "     See: https://github.com/scikit-learn/scikit-learn/issues/21755 */\n",
       "  display: inline-block !important;\n",
       "  position: relative;\n",
       "}\n",
       "\n",
       "#sk-container-id-1 div.sk-text-repr-fallback {\n",
       "  display: none;\n",
       "}\n",
       "\n",
       "div.sk-parallel-item,\n",
       "div.sk-serial,\n",
       "div.sk-item {\n",
       "  /* draw centered vertical line to link estimators */\n",
       "  background-image: linear-gradient(var(--sklearn-color-text-on-default-background), var(--sklearn-color-text-on-default-background));\n",
       "  background-size: 2px 100%;\n",
       "  background-repeat: no-repeat;\n",
       "  background-position: center center;\n",
       "}\n",
       "\n",
       "/* Parallel-specific style estimator block */\n",
       "\n",
       "#sk-container-id-1 div.sk-parallel-item::after {\n",
       "  content: \"\";\n",
       "  width: 100%;\n",
       "  border-bottom: 2px solid var(--sklearn-color-text-on-default-background);\n",
       "  flex-grow: 1;\n",
       "}\n",
       "\n",
       "#sk-container-id-1 div.sk-parallel {\n",
       "  display: flex;\n",
       "  align-items: stretch;\n",
       "  justify-content: center;\n",
       "  background-color: var(--sklearn-color-background);\n",
       "  position: relative;\n",
       "}\n",
       "\n",
       "#sk-container-id-1 div.sk-parallel-item {\n",
       "  display: flex;\n",
       "  flex-direction: column;\n",
       "}\n",
       "\n",
       "#sk-container-id-1 div.sk-parallel-item:first-child::after {\n",
       "  align-self: flex-end;\n",
       "  width: 50%;\n",
       "}\n",
       "\n",
       "#sk-container-id-1 div.sk-parallel-item:last-child::after {\n",
       "  align-self: flex-start;\n",
       "  width: 50%;\n",
       "}\n",
       "\n",
       "#sk-container-id-1 div.sk-parallel-item:only-child::after {\n",
       "  width: 0;\n",
       "}\n",
       "\n",
       "/* Serial-specific style estimator block */\n",
       "\n",
       "#sk-container-id-1 div.sk-serial {\n",
       "  display: flex;\n",
       "  flex-direction: column;\n",
       "  align-items: center;\n",
       "  background-color: var(--sklearn-color-background);\n",
       "  padding-right: 1em;\n",
       "  padding-left: 1em;\n",
       "}\n",
       "\n",
       "\n",
       "/* Toggleable style: style used for estimator/Pipeline/ColumnTransformer box that is\n",
       "clickable and can be expanded/collapsed.\n",
       "- Pipeline and ColumnTransformer use this feature and define the default style\n",
       "- Estimators will overwrite some part of the style using the `sk-estimator` class\n",
       "*/\n",
       "\n",
       "/* Pipeline and ColumnTransformer style (default) */\n",
       "\n",
       "#sk-container-id-1 div.sk-toggleable {\n",
       "  /* Default theme specific background. It is overwritten whether we have a\n",
       "  specific estimator or a Pipeline/ColumnTransformer */\n",
       "  background-color: var(--sklearn-color-background);\n",
       "}\n",
       "\n",
       "/* Toggleable label */\n",
       "#sk-container-id-1 label.sk-toggleable__label {\n",
       "  cursor: pointer;\n",
       "  display: block;\n",
       "  width: 100%;\n",
       "  margin-bottom: 0;\n",
       "  padding: 0.5em;\n",
       "  box-sizing: border-box;\n",
       "  text-align: center;\n",
       "}\n",
       "\n",
       "#sk-container-id-1 label.sk-toggleable__label-arrow:before {\n",
       "  /* Arrow on the left of the label */\n",
       "  content: \"▸\";\n",
       "  float: left;\n",
       "  margin-right: 0.25em;\n",
       "  color: var(--sklearn-color-icon);\n",
       "}\n",
       "\n",
       "#sk-container-id-1 label.sk-toggleable__label-arrow:hover:before {\n",
       "  color: var(--sklearn-color-text);\n",
       "}\n",
       "\n",
       "/* Toggleable content - dropdown */\n",
       "\n",
       "#sk-container-id-1 div.sk-toggleable__content {\n",
       "  max-height: 0;\n",
       "  max-width: 0;\n",
       "  overflow: hidden;\n",
       "  text-align: left;\n",
       "  /* unfitted */\n",
       "  background-color: var(--sklearn-color-unfitted-level-0);\n",
       "}\n",
       "\n",
       "#sk-container-id-1 div.sk-toggleable__content.fitted {\n",
       "  /* fitted */\n",
       "  background-color: var(--sklearn-color-fitted-level-0);\n",
       "}\n",
       "\n",
       "#sk-container-id-1 div.sk-toggleable__content pre {\n",
       "  margin: 0.2em;\n",
       "  border-radius: 0.25em;\n",
       "  color: var(--sklearn-color-text);\n",
       "  /* unfitted */\n",
       "  background-color: var(--sklearn-color-unfitted-level-0);\n",
       "}\n",
       "\n",
       "#sk-container-id-1 div.sk-toggleable__content.fitted pre {\n",
       "  /* unfitted */\n",
       "  background-color: var(--sklearn-color-fitted-level-0);\n",
       "}\n",
       "\n",
       "#sk-container-id-1 input.sk-toggleable__control:checked~div.sk-toggleable__content {\n",
       "  /* Expand drop-down */\n",
       "  max-height: 200px;\n",
       "  max-width: 100%;\n",
       "  overflow: auto;\n",
       "}\n",
       "\n",
       "#sk-container-id-1 input.sk-toggleable__control:checked~label.sk-toggleable__label-arrow:before {\n",
       "  content: \"▾\";\n",
       "}\n",
       "\n",
       "/* Pipeline/ColumnTransformer-specific style */\n",
       "\n",
       "#sk-container-id-1 div.sk-label input.sk-toggleable__control:checked~label.sk-toggleable__label {\n",
       "  color: var(--sklearn-color-text);\n",
       "  background-color: var(--sklearn-color-unfitted-level-2);\n",
       "}\n",
       "\n",
       "#sk-container-id-1 div.sk-label.fitted input.sk-toggleable__control:checked~label.sk-toggleable__label {\n",
       "  background-color: var(--sklearn-color-fitted-level-2);\n",
       "}\n",
       "\n",
       "/* Estimator-specific style */\n",
       "\n",
       "/* Colorize estimator box */\n",
       "#sk-container-id-1 div.sk-estimator input.sk-toggleable__control:checked~label.sk-toggleable__label {\n",
       "  /* unfitted */\n",
       "  background-color: var(--sklearn-color-unfitted-level-2);\n",
       "}\n",
       "\n",
       "#sk-container-id-1 div.sk-estimator.fitted input.sk-toggleable__control:checked~label.sk-toggleable__label {\n",
       "  /* fitted */\n",
       "  background-color: var(--sklearn-color-fitted-level-2);\n",
       "}\n",
       "\n",
       "#sk-container-id-1 div.sk-label label.sk-toggleable__label,\n",
       "#sk-container-id-1 div.sk-label label {\n",
       "  /* The background is the default theme color */\n",
       "  color: var(--sklearn-color-text-on-default-background);\n",
       "}\n",
       "\n",
       "/* On hover, darken the color of the background */\n",
       "#sk-container-id-1 div.sk-label:hover label.sk-toggleable__label {\n",
       "  color: var(--sklearn-color-text);\n",
       "  background-color: var(--sklearn-color-unfitted-level-2);\n",
       "}\n",
       "\n",
       "/* Label box, darken color on hover, fitted */\n",
       "#sk-container-id-1 div.sk-label.fitted:hover label.sk-toggleable__label.fitted {\n",
       "  color: var(--sklearn-color-text);\n",
       "  background-color: var(--sklearn-color-fitted-level-2);\n",
       "}\n",
       "\n",
       "/* Estimator label */\n",
       "\n",
       "#sk-container-id-1 div.sk-label label {\n",
       "  font-family: monospace;\n",
       "  font-weight: bold;\n",
       "  display: inline-block;\n",
       "  line-height: 1.2em;\n",
       "}\n",
       "\n",
       "#sk-container-id-1 div.sk-label-container {\n",
       "  text-align: center;\n",
       "}\n",
       "\n",
       "/* Estimator-specific */\n",
       "#sk-container-id-1 div.sk-estimator {\n",
       "  font-family: monospace;\n",
       "  border: 1px dotted var(--sklearn-color-border-box);\n",
       "  border-radius: 0.25em;\n",
       "  box-sizing: border-box;\n",
       "  margin-bottom: 0.5em;\n",
       "  /* unfitted */\n",
       "  background-color: var(--sklearn-color-unfitted-level-0);\n",
       "}\n",
       "\n",
       "#sk-container-id-1 div.sk-estimator.fitted {\n",
       "  /* fitted */\n",
       "  background-color: var(--sklearn-color-fitted-level-0);\n",
       "}\n",
       "\n",
       "/* on hover */\n",
       "#sk-container-id-1 div.sk-estimator:hover {\n",
       "  /* unfitted */\n",
       "  background-color: var(--sklearn-color-unfitted-level-2);\n",
       "}\n",
       "\n",
       "#sk-container-id-1 div.sk-estimator.fitted:hover {\n",
       "  /* fitted */\n",
       "  background-color: var(--sklearn-color-fitted-level-2);\n",
       "}\n",
       "\n",
       "/* Specification for estimator info (e.g. \"i\" and \"?\") */\n",
       "\n",
       "/* Common style for \"i\" and \"?\" */\n",
       "\n",
       ".sk-estimator-doc-link,\n",
       "a:link.sk-estimator-doc-link,\n",
       "a:visited.sk-estimator-doc-link {\n",
       "  float: right;\n",
       "  font-size: smaller;\n",
       "  line-height: 1em;\n",
       "  font-family: monospace;\n",
       "  background-color: var(--sklearn-color-background);\n",
       "  border-radius: 1em;\n",
       "  height: 1em;\n",
       "  width: 1em;\n",
       "  text-decoration: none !important;\n",
       "  margin-left: 1ex;\n",
       "  /* unfitted */\n",
       "  border: var(--sklearn-color-unfitted-level-1) 1pt solid;\n",
       "  color: var(--sklearn-color-unfitted-level-1);\n",
       "}\n",
       "\n",
       ".sk-estimator-doc-link.fitted,\n",
       "a:link.sk-estimator-doc-link.fitted,\n",
       "a:visited.sk-estimator-doc-link.fitted {\n",
       "  /* fitted */\n",
       "  border: var(--sklearn-color-fitted-level-1) 1pt solid;\n",
       "  color: var(--sklearn-color-fitted-level-1);\n",
       "}\n",
       "\n",
       "/* On hover */\n",
       "div.sk-estimator:hover .sk-estimator-doc-link:hover,\n",
       ".sk-estimator-doc-link:hover,\n",
       "div.sk-label-container:hover .sk-estimator-doc-link:hover,\n",
       ".sk-estimator-doc-link:hover {\n",
       "  /* unfitted */\n",
       "  background-color: var(--sklearn-color-unfitted-level-3);\n",
       "  color: var(--sklearn-color-background);\n",
       "  text-decoration: none;\n",
       "}\n",
       "\n",
       "div.sk-estimator.fitted:hover .sk-estimator-doc-link.fitted:hover,\n",
       ".sk-estimator-doc-link.fitted:hover,\n",
       "div.sk-label-container:hover .sk-estimator-doc-link.fitted:hover,\n",
       ".sk-estimator-doc-link.fitted:hover {\n",
       "  /* fitted */\n",
       "  background-color: var(--sklearn-color-fitted-level-3);\n",
       "  color: var(--sklearn-color-background);\n",
       "  text-decoration: none;\n",
       "}\n",
       "\n",
       "/* Span, style for the box shown on hovering the info icon */\n",
       ".sk-estimator-doc-link span {\n",
       "  display: none;\n",
       "  z-index: 9999;\n",
       "  position: relative;\n",
       "  font-weight: normal;\n",
       "  right: .2ex;\n",
       "  padding: .5ex;\n",
       "  margin: .5ex;\n",
       "  width: min-content;\n",
       "  min-width: 20ex;\n",
       "  max-width: 50ex;\n",
       "  color: var(--sklearn-color-text);\n",
       "  box-shadow: 2pt 2pt 4pt #999;\n",
       "  /* unfitted */\n",
       "  background: var(--sklearn-color-unfitted-level-0);\n",
       "  border: .5pt solid var(--sklearn-color-unfitted-level-3);\n",
       "}\n",
       "\n",
       ".sk-estimator-doc-link.fitted span {\n",
       "  /* fitted */\n",
       "  background: var(--sklearn-color-fitted-level-0);\n",
       "  border: var(--sklearn-color-fitted-level-3);\n",
       "}\n",
       "\n",
       ".sk-estimator-doc-link:hover span {\n",
       "  display: block;\n",
       "}\n",
       "\n",
       "/* \"?\"-specific style due to the `<a>` HTML tag */\n",
       "\n",
       "#sk-container-id-1 a.estimator_doc_link {\n",
       "  float: right;\n",
       "  font-size: 1rem;\n",
       "  line-height: 1em;\n",
       "  font-family: monospace;\n",
       "  background-color: var(--sklearn-color-background);\n",
       "  border-radius: 1rem;\n",
       "  height: 1rem;\n",
       "  width: 1rem;\n",
       "  text-decoration: none;\n",
       "  /* unfitted */\n",
       "  color: var(--sklearn-color-unfitted-level-1);\n",
       "  border: var(--sklearn-color-unfitted-level-1) 1pt solid;\n",
       "}\n",
       "\n",
       "#sk-container-id-1 a.estimator_doc_link.fitted {\n",
       "  /* fitted */\n",
       "  border: var(--sklearn-color-fitted-level-1) 1pt solid;\n",
       "  color: var(--sklearn-color-fitted-level-1);\n",
       "}\n",
       "\n",
       "/* On hover */\n",
       "#sk-container-id-1 a.estimator_doc_link:hover {\n",
       "  /* unfitted */\n",
       "  background-color: var(--sklearn-color-unfitted-level-3);\n",
       "  color: var(--sklearn-color-background);\n",
       "  text-decoration: none;\n",
       "}\n",
       "\n",
       "#sk-container-id-1 a.estimator_doc_link.fitted:hover {\n",
       "  /* fitted */\n",
       "  background-color: var(--sklearn-color-fitted-level-3);\n",
       "}\n",
       "</style><div id=\"sk-container-id-1\" class=\"sk-top-container\"><div class=\"sk-text-repr-fallback\"><pre>DecisionTreeClassifier(max_depth=7, random_state=0)</pre><b>In a Jupyter environment, please rerun this cell to show the HTML representation or trust the notebook. <br />On GitHub, the HTML representation is unable to render, please try loading this page with nbviewer.org.</b></div><div class=\"sk-container\" hidden><div class=\"sk-item\"><div class=\"sk-estimator fitted sk-toggleable\"><input class=\"sk-toggleable__control sk-hidden--visually\" id=\"sk-estimator-id-1\" type=\"checkbox\" checked><label for=\"sk-estimator-id-1\" class=\"sk-toggleable__label fitted sk-toggleable__label-arrow fitted\">&nbsp;&nbsp;DecisionTreeClassifier<a class=\"sk-estimator-doc-link fitted\" rel=\"noreferrer\" target=\"_blank\" href=\"https://scikit-learn.org/1.4/modules/generated/sklearn.tree.DecisionTreeClassifier.html\">?<span>Documentation for DecisionTreeClassifier</span></a><span class=\"sk-estimator-doc-link fitted\">i<span>Fitted</span></span></label><div class=\"sk-toggleable__content fitted\"><pre>DecisionTreeClassifier(max_depth=7, random_state=0)</pre></div> </div></div></div></div>"
      ],
      "text/plain": [
       "DecisionTreeClassifier(max_depth=7, random_state=0)"
      ]
     },
     "execution_count": 39,
     "metadata": {},
     "output_type": "execute_result"
    }
   ],
   "source": [
    "#@ 6 Create a classification tree.\n",
    "\n",
    "# Use the max depth that was discussed.\n",
    "\n",
    "clf = DecisionTreeClassifier(max_depth=7, random_state=0)\n",
    "clf.fit(X_train, y_train)"
   ]
  },
  {
   "cell_type": "code",
   "execution_count": 40,
   "metadata": {
    "id": "QVQen6mqjwY3"
   },
   "outputs": [],
   "source": [
    "def plot_tree_custom(clf, feature_names, class_names):\n",
    "    \"\"\" Plot a Titanic classification tree using Graphviz. \"\"\"\n",
    "\n",
    "    dot_data = export_graphviz(clf, precision=2,\n",
    "                         feature_names=feature_names,\n",
    "                         proportion=True,\n",
    "                         class_names=class_names,\n",
    "                         filled=True, rounded=True,\n",
    "                         special_characters=True)\n",
    "\n",
    "    # plot it\n",
    "    graph = graphviz.Source(dot_data)\n",
    "    return graph"
   ]
  },
  {
   "cell_type": "code",
   "execution_count": 41,
   "metadata": {},
   "outputs": [],
   "source": [
    "def plot_tree_custom_basic(clf, feature_names, class_names, max_depth=3):\n",
    "    \"\"\" Plot a classification tree using scikit-learn's plot_tree(). \"\"\"\n",
    "\n",
    "    fig, ax = plt.subplots(figsize=(20, 10), dpi=150) \n",
    "    plot_tree(\n",
    "        clf,\n",
    "        feature_names=feature_names,\n",
    "        class_names=class_names,\n",
    "        filled=True,\n",
    "        rounded=True,\n",
    "        proportion=True,\n",
    "        fontsize=10, \n",
    "        max_depth=max_depth,\n",
    "        ax=ax,\n",
    "    )\n",
    "    plt.show()"
   ]
  },
  {
   "cell_type": "markdown",
   "metadata": {
    "id": "cEorYDAojwY3"
   },
   "source": [
    "### Making predictions and assessing the model"
   ]
  },
  {
   "cell_type": "markdown",
   "metadata": {
    "id": "mZlipc3vRp_w"
   },
   "source": [
    "With our first classification we achieve a cross-validation accuracy of about 78%."
   ]
  },
  {
   "cell_type": "code",
   "execution_count": 42,
   "metadata": {
    "id": "qFO7-kecjwY3",
    "scrolled": true
   },
   "outputs": [
    {
     "name": "stdout",
     "output_type": "stream",
     "text": [
      "Cross-validation accuracy: 0.786\n"
     ]
    }
   ],
   "source": [
    "#@ 7 Compute and print the cross-validation accuracy of the tree.\n",
    "\n",
    "cv_scores = cross_val_score(clf, X_train, y_train, cv=10, scoring='accuracy')\n",
    "\n",
    "print(f'Cross-validation accuracy: {cv_scores.mean().round(3)}')"
   ]
  },
  {
   "cell_type": "markdown",
   "metadata": {
    "id": "kmrQN5W1jwY4"
   },
   "source": [
    "A learning curve will show whether we are in a high bias or high variance situation.  We expect to find that we are in a high variance situation, which indicate overfitting."
   ]
  },
  {
   "cell_type": "code",
   "execution_count": 43,
   "metadata": {
    "id": "PdEMMLLSjwY4",
    "scrolled": true
   },
   "outputs": [],
   "source": [
    "def plot_learning_curve(clf, X_train, y_train):\n",
    "    # generate the data; average the values\n",
    "    train_sizes, train_scores, test_scores = \\\n",
    "    learning_curve(clf, X_train, y_train, cv=10, scoring='accuracy')\n",
    "    train_scores_mean = np.mean(train_scores, axis=1)\n",
    "    test_scores_mean = np.mean(test_scores, axis=1)\n",
    "\n",
    "    # plot the learning curve\n",
    "    plt.plot(train_sizes, train_scores_mean, label='train')\n",
    "    plt.plot(train_sizes, test_scores_mean, label='test')\n",
    "    plt.xlabel('Training Set Size')\n",
    "    plt.ylabel('Accuracy')\n",
    "    plt.title('Learning curve, classification tree')\n",
    "    plt.legend();"
   ]
  },
  {
   "cell_type": "code",
   "execution_count": 44,
   "metadata": {
    "id": "MTlh-IqHjwY4",
    "scrolled": true
   },
   "outputs": [
    {
     "data": {
      "image/png": "[encoded data removed]",
      "text/plain": [
       "<Figure size 600x400 with 1 Axes>"
      ]
     },
     "metadata": {},
     "output_type": "display_data"
    }
   ],
   "source": [
    "plot_learning_curve(clf, X_train, y_train)"
   ]
  },
  {
   "cell_type": "markdown",
   "metadata": {
    "id": "Kdrc2-QyjwY4"
   },
   "source": [
    "This is definitely a high variance situation."
   ]
  },
  {
   "cell_type": "markdown",
   "metadata": {
    "id": "X3WFh1CIuZr9"
   },
   "source": [
    "### Hyperparameter tuning"
   ]
  },
  {
   "cell_type": "markdown",
   "metadata": {
    "id": "yiC2fBuJNmp3"
   },
   "source": [
    "There are many hyperparameters that can be adjusted with a classification tree.  The hyperparameters min_samples_leaf and max_depth are both ways to control the depth of the tree.  max_features is an interesting hyperparameter that is used when a subset of all predictor variables are randomly selected at each node."
   ]
  },
  {
   "cell_type": "code",
   "execution_count": 45,
   "metadata": {
    "id": "4Dgen7xWudW8"
   },
   "outputs": [
    {
     "data": {
      "text/html": [
       "<style>#sk-container-id-2 {\n",
       "  /* Definition of color scheme common for light and dark mode */\n",
       "  --sklearn-color-text: black;\n",
       "  --sklearn-color-line: gray;\n",
       "  /* Definition of color scheme for unfitted estimators */\n",
       "  --sklearn-color-unfitted-level-0: #fff5e6;\n",
       "  --sklearn-color-unfitted-level-1: #f6e4d2;\n",
       "  --sklearn-color-unfitted-level-2: #ffe0b3;\n",
       "  --sklearn-color-unfitted-level-3: chocolate;\n",
       "  /* Definition of color scheme for fitted estimators */\n",
       "  --sklearn-color-fitted-level-0: #f0f8ff;\n",
       "  --sklearn-color-fitted-level-1: #d4ebff;\n",
       "  --sklearn-color-fitted-level-2: #b3dbfd;\n",
       "  --sklearn-color-fitted-level-3: cornflowerblue;\n",
       "\n",
       "  /* Specific color for light theme */\n",
       "  --sklearn-color-text-on-default-background: var(--sg-text-color, var(--theme-code-foreground, var(--jp-content-font-color1, black)));\n",
       "  --sklearn-color-background: var(--sg-background-color, var(--theme-background, var(--jp-layout-color0, white)));\n",
       "  --sklearn-color-border-box: var(--sg-text-color, var(--theme-code-foreground, var(--jp-content-font-color1, black)));\n",
       "  --sklearn-color-icon: #696969;\n",
       "\n",
       "  @media (prefers-color-scheme: dark) {\n",
       "    /* Redefinition of color scheme for dark theme */\n",
       "    --sklearn-color-text-on-default-background: var(--sg-text-color, var(--theme-code-foreground, var(--jp-content-font-color1, white)));\n",
       "    --sklearn-color-background: var(--sg-background-color, var(--theme-background, var(--jp-layout-color0, #111)));\n",
       "    --sklearn-color-border-box: var(--sg-text-color, var(--theme-code-foreground, var(--jp-content-font-color1, white)));\n",
       "    --sklearn-color-icon: #878787;\n",
       "  }\n",
       "}\n",
       "\n",
       "#sk-container-id-2 {\n",
       "  color: var(--sklearn-color-text);\n",
       "}\n",
       "\n",
       "#sk-container-id-2 pre {\n",
       "  padding: 0;\n",
       "}\n",
       "\n",
       "#sk-container-id-2 input.sk-hidden--visually {\n",
       "  border: 0;\n",
       "  clip: rect(1px 1px 1px 1px);\n",
       "  clip: rect(1px, 1px, 1px, 1px);\n",
       "  height: 1px;\n",
       "  margin: -1px;\n",
       "  overflow: hidden;\n",
       "  padding: 0;\n",
       "  position: absolute;\n",
       "  width: 1px;\n",
       "}\n",
       "\n",
       "#sk-container-id-2 div.sk-dashed-wrapped {\n",
       "  border: 1px dashed var(--sklearn-color-line);\n",
       "  margin: 0 0.4em 0.5em 0.4em;\n",
       "  box-sizing: border-box;\n",
       "  padding-bottom: 0.4em;\n",
       "  background-color: var(--sklearn-color-background);\n",
       "}\n",
       "\n",
       "#sk-container-id-2 div.sk-container {\n",
       "  /* jupyter's `normalize.less` sets `[hidden] { display: none; }`\n",
       "     but bootstrap.min.css set `[hidden] { display: none !important; }`\n",
       "     so we also need the `!important` here to be able to override the\n",
       "     default hidden behavior on the sphinx rendered scikit-learn.org.\n",
       "     See: https://github.com/scikit-learn/scikit-learn/issues/21755 */\n",
       "  display: inline-block !important;\n",
       "  position: relative;\n",
       "}\n",
       "\n",
       "#sk-container-id-2 div.sk-text-repr-fallback {\n",
       "  display: none;\n",
       "}\n",
       "\n",
       "div.sk-parallel-item,\n",
       "div.sk-serial,\n",
       "div.sk-item {\n",
       "  /* draw centered vertical line to link estimators */\n",
       "  background-image: linear-gradient(var(--sklearn-color-text-on-default-background), var(--sklearn-color-text-on-default-background));\n",
       "  background-size: 2px 100%;\n",
       "  background-repeat: no-repeat;\n",
       "  background-position: center center;\n",
       "}\n",
       "\n",
       "/* Parallel-specific style estimator block */\n",
       "\n",
       "#sk-container-id-2 div.sk-parallel-item::after {\n",
       "  content: \"\";\n",
       "  width: 100%;\n",
       "  border-bottom: 2px solid var(--sklearn-color-text-on-default-background);\n",
       "  flex-grow: 1;\n",
       "}\n",
       "\n",
       "#sk-container-id-2 div.sk-parallel {\n",
       "  display: flex;\n",
       "  align-items: stretch;\n",
       "  justify-content: center;\n",
       "  background-color: var(--sklearn-color-background);\n",
       "  position: relative;\n",
       "}\n",
       "\n",
       "#sk-container-id-2 div.sk-parallel-item {\n",
       "  display: flex;\n",
       "  flex-direction: column;\n",
       "}\n",
       "\n",
       "#sk-container-id-2 div.sk-parallel-item:first-child::after {\n",
       "  align-self: flex-end;\n",
       "  width: 50%;\n",
       "}\n",
       "\n",
       "#sk-container-id-2 div.sk-parallel-item:last-child::after {\n",
       "  align-self: flex-start;\n",
       "  width: 50%;\n",
       "}\n",
       "\n",
       "#sk-container-id-2 div.sk-parallel-item:only-child::after {\n",
       "  width: 0;\n",
       "}\n",
       "\n",
       "/* Serial-specific style estimator block */\n",
       "\n",
       "#sk-container-id-2 div.sk-serial {\n",
       "  display: flex;\n",
       "  flex-direction: column;\n",
       "  align-items: center;\n",
       "  background-color: var(--sklearn-color-background);\n",
       "  padding-right: 1em;\n",
       "  padding-left: 1em;\n",
       "}\n",
       "\n",
       "\n",
       "/* Toggleable style: style used for estimator/Pipeline/ColumnTransformer box that is\n",
       "clickable and can be expanded/collapsed.\n",
       "- Pipeline and ColumnTransformer use this feature and define the default style\n",
       "- Estimators will overwrite some part of the style using the `sk-estimator` class\n",
       "*/\n",
       "\n",
       "/* Pipeline and ColumnTransformer style (default) */\n",
       "\n",
       "#sk-container-id-2 div.sk-toggleable {\n",
       "  /* Default theme specific background. It is overwritten whether we have a\n",
       "  specific estimator or a Pipeline/ColumnTransformer */\n",
       "  background-color: var(--sklearn-color-background);\n",
       "}\n",
       "\n",
       "/* Toggleable label */\n",
       "#sk-container-id-2 label.sk-toggleable__label {\n",
       "  cursor: pointer;\n",
       "  display: block;\n",
       "  width: 100%;\n",
       "  margin-bottom: 0;\n",
       "  padding: 0.5em;\n",
       "  box-sizing: border-box;\n",
       "  text-align: center;\n",
       "}\n",
       "\n",
       "#sk-container-id-2 label.sk-toggleable__label-arrow:before {\n",
       "  /* Arrow on the left of the label */\n",
       "  content: \"▸\";\n",
       "  float: left;\n",
       "  margin-right: 0.25em;\n",
       "  color: var(--sklearn-color-icon);\n",
       "}\n",
       "\n",
       "#sk-container-id-2 label.sk-toggleable__label-arrow:hover:before {\n",
       "  color: var(--sklearn-color-text);\n",
       "}\n",
       "\n",
       "/* Toggleable content - dropdown */\n",
       "\n",
       "#sk-container-id-2 div.sk-toggleable__content {\n",
       "  max-height: 0;\n",
       "  max-width: 0;\n",
       "  overflow: hidden;\n",
       "  text-align: left;\n",
       "  /* unfitted */\n",
       "  background-color: var(--sklearn-color-unfitted-level-0);\n",
       "}\n",
       "\n",
       "#sk-container-id-2 div.sk-toggleable__content.fitted {\n",
       "  /* fitted */\n",
       "  background-color: var(--sklearn-color-fitted-level-0);\n",
       "}\n",
       "\n",
       "#sk-container-id-2 div.sk-toggleable__content pre {\n",
       "  margin: 0.2em;\n",
       "  border-radius: 0.25em;\n",
       "  color: var(--sklearn-color-text);\n",
       "  /* unfitted */\n",
       "  background-color: var(--sklearn-color-unfitted-level-0);\n",
       "}\n",
       "\n",
       "#sk-container-id-2 div.sk-toggleable__content.fitted pre {\n",
       "  /* unfitted */\n",
       "  background-color: var(--sklearn-color-fitted-level-0);\n",
       "}\n",
       "\n",
       "#sk-container-id-2 input.sk-toggleable__control:checked~div.sk-toggleable__content {\n",
       "  /* Expand drop-down */\n",
       "  max-height: 200px;\n",
       "  max-width: 100%;\n",
       "  overflow: auto;\n",
       "}\n",
       "\n",
       "#sk-container-id-2 input.sk-toggleable__control:checked~label.sk-toggleable__label-arrow:before {\n",
       "  content: \"▾\";\n",
       "}\n",
       "\n",
       "/* Pipeline/ColumnTransformer-specific style */\n",
       "\n",
       "#sk-container-id-2 div.sk-label input.sk-toggleable__control:checked~label.sk-toggleable__label {\n",
       "  color: var(--sklearn-color-text);\n",
       "  background-color: var(--sklearn-color-unfitted-level-2);\n",
       "}\n",
       "\n",
       "#sk-container-id-2 div.sk-label.fitted input.sk-toggleable__control:checked~label.sk-toggleable__label {\n",
       "  background-color: var(--sklearn-color-fitted-level-2);\n",
       "}\n",
       "\n",
       "/* Estimator-specific style */\n",
       "\n",
       "/* Colorize estimator box */\n",
       "#sk-container-id-2 div.sk-estimator input.sk-toggleable__control:checked~label.sk-toggleable__label {\n",
       "  /* unfitted */\n",
       "  background-color: var(--sklearn-color-unfitted-level-2);\n",
       "}\n",
       "\n",
       "#sk-container-id-2 div.sk-estimator.fitted input.sk-toggleable__control:checked~label.sk-toggleable__label {\n",
       "  /* fitted */\n",
       "  background-color: var(--sklearn-color-fitted-level-2);\n",
       "}\n",
       "\n",
       "#sk-container-id-2 div.sk-label label.sk-toggleable__label,\n",
       "#sk-container-id-2 div.sk-label label {\n",
       "  /* The background is the default theme color */\n",
       "  color: var(--sklearn-color-text-on-default-background);\n",
       "}\n",
       "\n",
       "/* On hover, darken the color of the background */\n",
       "#sk-container-id-2 div.sk-label:hover label.sk-toggleable__label {\n",
       "  color: var(--sklearn-color-text);\n",
       "  background-color: var(--sklearn-color-unfitted-level-2);\n",
       "}\n",
       "\n",
       "/* Label box, darken color on hover, fitted */\n",
       "#sk-container-id-2 div.sk-label.fitted:hover label.sk-toggleable__label.fitted {\n",
       "  color: var(--sklearn-color-text);\n",
       "  background-color: var(--sklearn-color-fitted-level-2);\n",
       "}\n",
       "\n",
       "/* Estimator label */\n",
       "\n",
       "#sk-container-id-2 div.sk-label label {\n",
       "  font-family: monospace;\n",
       "  font-weight: bold;\n",
       "  display: inline-block;\n",
       "  line-height: 1.2em;\n",
       "}\n",
       "\n",
       "#sk-container-id-2 div.sk-label-container {\n",
       "  text-align: center;\n",
       "}\n",
       "\n",
       "/* Estimator-specific */\n",
       "#sk-container-id-2 div.sk-estimator {\n",
       "  font-family: monospace;\n",
       "  border: 1px dotted var(--sklearn-color-border-box);\n",
       "  border-radius: 0.25em;\n",
       "  box-sizing: border-box;\n",
       "  margin-bottom: 0.5em;\n",
       "  /* unfitted */\n",
       "  background-color: var(--sklearn-color-unfitted-level-0);\n",
       "}\n",
       "\n",
       "#sk-container-id-2 div.sk-estimator.fitted {\n",
       "  /* fitted */\n",
       "  background-color: var(--sklearn-color-fitted-level-0);\n",
       "}\n",
       "\n",
       "/* on hover */\n",
       "#sk-container-id-2 div.sk-estimator:hover {\n",
       "  /* unfitted */\n",
       "  background-color: var(--sklearn-color-unfitted-level-2);\n",
       "}\n",
       "\n",
       "#sk-container-id-2 div.sk-estimator.fitted:hover {\n",
       "  /* fitted */\n",
       "  background-color: var(--sklearn-color-fitted-level-2);\n",
       "}\n",
       "\n",
       "/* Specification for estimator info (e.g. \"i\" and \"?\") */\n",
       "\n",
       "/* Common style for \"i\" and \"?\" */\n",
       "\n",
       ".sk-estimator-doc-link,\n",
       "a:link.sk-estimator-doc-link,\n",
       "a:visited.sk-estimator-doc-link {\n",
       "  float: right;\n",
       "  font-size: smaller;\n",
       "  line-height: 1em;\n",
       "  font-family: monospace;\n",
       "  background-color: var(--sklearn-color-background);\n",
       "  border-radius: 1em;\n",
       "  height: 1em;\n",
       "  width: 1em;\n",
       "  text-decoration: none !important;\n",
       "  margin-left: 1ex;\n",
       "  /* unfitted */\n",
       "  border: var(--sklearn-color-unfitted-level-1) 1pt solid;\n",
       "  color: var(--sklearn-color-unfitted-level-1);\n",
       "}\n",
       "\n",
       ".sk-estimator-doc-link.fitted,\n",
       "a:link.sk-estimator-doc-link.fitted,\n",
       "a:visited.sk-estimator-doc-link.fitted {\n",
       "  /* fitted */\n",
       "  border: var(--sklearn-color-fitted-level-1) 1pt solid;\n",
       "  color: var(--sklearn-color-fitted-level-1);\n",
       "}\n",
       "\n",
       "/* On hover */\n",
       "div.sk-estimator:hover .sk-estimator-doc-link:hover,\n",
       ".sk-estimator-doc-link:hover,\n",
       "div.sk-label-container:hover .sk-estimator-doc-link:hover,\n",
       ".sk-estimator-doc-link:hover {\n",
       "  /* unfitted */\n",
       "  background-color: var(--sklearn-color-unfitted-level-3);\n",
       "  color: var(--sklearn-color-background);\n",
       "  text-decoration: none;\n",
       "}\n",
       "\n",
       "div.sk-estimator.fitted:hover .sk-estimator-doc-link.fitted:hover,\n",
       ".sk-estimator-doc-link.fitted:hover,\n",
       "div.sk-label-container:hover .sk-estimator-doc-link.fitted:hover,\n",
       ".sk-estimator-doc-link.fitted:hover {\n",
       "  /* fitted */\n",
       "  background-color: var(--sklearn-color-fitted-level-3);\n",
       "  color: var(--sklearn-color-background);\n",
       "  text-decoration: none;\n",
       "}\n",
       "\n",
       "/* Span, style for the box shown on hovering the info icon */\n",
       ".sk-estimator-doc-link span {\n",
       "  display: none;\n",
       "  z-index: 9999;\n",
       "  position: relative;\n",
       "  font-weight: normal;\n",
       "  right: .2ex;\n",
       "  padding: .5ex;\n",
       "  margin: .5ex;\n",
       "  width: min-content;\n",
       "  min-width: 20ex;\n",
       "  max-width: 50ex;\n",
       "  color: var(--sklearn-color-text);\n",
       "  box-shadow: 2pt 2pt 4pt #999;\n",
       "  /* unfitted */\n",
       "  background: var(--sklearn-color-unfitted-level-0);\n",
       "  border: .5pt solid var(--sklearn-color-unfitted-level-3);\n",
       "}\n",
       "\n",
       ".sk-estimator-doc-link.fitted span {\n",
       "  /* fitted */\n",
       "  background: var(--sklearn-color-fitted-level-0);\n",
       "  border: var(--sklearn-color-fitted-level-3);\n",
       "}\n",
       "\n",
       ".sk-estimator-doc-link:hover span {\n",
       "  display: block;\n",
       "}\n",
       "\n",
       "/* \"?\"-specific style due to the `<a>` HTML tag */\n",
       "\n",
       "#sk-container-id-2 a.estimator_doc_link {\n",
       "  float: right;\n",
       "  font-size: 1rem;\n",
       "  line-height: 1em;\n",
       "  font-family: monospace;\n",
       "  background-color: var(--sklearn-color-background);\n",
       "  border-radius: 1rem;\n",
       "  height: 1rem;\n",
       "  width: 1rem;\n",
       "  text-decoration: none;\n",
       "  /* unfitted */\n",
       "  color: var(--sklearn-color-unfitted-level-1);\n",
       "  border: var(--sklearn-color-unfitted-level-1) 1pt solid;\n",
       "}\n",
       "\n",
       "#sk-container-id-2 a.estimator_doc_link.fitted {\n",
       "  /* fitted */\n",
       "  border: var(--sklearn-color-fitted-level-1) 1pt solid;\n",
       "  color: var(--sklearn-color-fitted-level-1);\n",
       "}\n",
       "\n",
       "/* On hover */\n",
       "#sk-container-id-2 a.estimator_doc_link:hover {\n",
       "  /* unfitted */\n",
       "  background-color: var(--sklearn-color-unfitted-level-3);\n",
       "  color: var(--sklearn-color-background);\n",
       "  text-decoration: none;\n",
       "}\n",
       "\n",
       "#sk-container-id-2 a.estimator_doc_link.fitted:hover {\n",
       "  /* fitted */\n",
       "  background-color: var(--sklearn-color-fitted-level-3);\n",
       "}\n",
       "</style><div id=\"sk-container-id-2\" class=\"sk-top-container\"><div class=\"sk-text-repr-fallback\"><pre>GridSearchCV(cv=10,\n",
       "             estimator=DecisionTreeClassifier(max_depth=7, random_state=0),\n",
       "             param_grid={&#x27;max_depth&#x27;: [2, 3, 4, 5, 6, 7],\n",
       "                         &#x27;max_features&#x27;: [&#x27;sqrt&#x27;, None],\n",
       "                         &#x27;min_samples_leaf&#x27;: [10, 20, 30, 40]},\n",
       "             scoring=&#x27;accuracy&#x27;)</pre><b>In a Jupyter environment, please rerun this cell to show the HTML representation or trust the notebook. <br />On GitHub, the HTML representation is unable to render, please try loading this page with nbviewer.org.</b></div><div class=\"sk-container\" hidden><div class=\"sk-item sk-dashed-wrapped\"><div class=\"sk-label-container\"><div class=\"sk-label fitted sk-toggleable\"><input class=\"sk-toggleable__control sk-hidden--visually\" id=\"sk-estimator-id-2\" type=\"checkbox\" ><label for=\"sk-estimator-id-2\" class=\"sk-toggleable__label fitted sk-toggleable__label-arrow fitted\">&nbsp;&nbsp;GridSearchCV<a class=\"sk-estimator-doc-link fitted\" rel=\"noreferrer\" target=\"_blank\" href=\"https://scikit-learn.org/1.4/modules/generated/sklearn.model_selection.GridSearchCV.html\">?<span>Documentation for GridSearchCV</span></a><span class=\"sk-estimator-doc-link fitted\">i<span>Fitted</span></span></label><div class=\"sk-toggleable__content fitted\"><pre>GridSearchCV(cv=10,\n",
       "             estimator=DecisionTreeClassifier(max_depth=7, random_state=0),\n",
       "             param_grid={&#x27;max_depth&#x27;: [2, 3, 4, 5, 6, 7],\n",
       "                         &#x27;max_features&#x27;: [&#x27;sqrt&#x27;, None],\n",
       "                         &#x27;min_samples_leaf&#x27;: [10, 20, 30, 40]},\n",
       "             scoring=&#x27;accuracy&#x27;)</pre></div> </div></div><div class=\"sk-parallel\"><div class=\"sk-parallel-item\"><div class=\"sk-item\"><div class=\"sk-label-container\"><div class=\"sk-label fitted sk-toggleable\"><input class=\"sk-toggleable__control sk-hidden--visually\" id=\"sk-estimator-id-3\" type=\"checkbox\" ><label for=\"sk-estimator-id-3\" class=\"sk-toggleable__label fitted sk-toggleable__label-arrow fitted\">estimator: DecisionTreeClassifier</label><div class=\"sk-toggleable__content fitted\"><pre>DecisionTreeClassifier(max_depth=7, random_state=0)</pre></div> </div></div><div class=\"sk-serial\"><div class=\"sk-item\"><div class=\"sk-estimator fitted sk-toggleable\"><input class=\"sk-toggleable__control sk-hidden--visually\" id=\"sk-estimator-id-4\" type=\"checkbox\" ><label for=\"sk-estimator-id-4\" class=\"sk-toggleable__label fitted sk-toggleable__label-arrow fitted\">&nbsp;DecisionTreeClassifier<a class=\"sk-estimator-doc-link fitted\" rel=\"noreferrer\" target=\"_blank\" href=\"https://scikit-learn.org/1.4/modules/generated/sklearn.tree.DecisionTreeClassifier.html\">?<span>Documentation for DecisionTreeClassifier</span></a></label><div class=\"sk-toggleable__content fitted\"><pre>DecisionTreeClassifier(max_depth=7, random_state=0)</pre></div> </div></div></div></div></div></div></div></div></div>"
      ],
      "text/plain": [
       "GridSearchCV(cv=10,\n",
       "             estimator=DecisionTreeClassifier(max_depth=7, random_state=0),\n",
       "             param_grid={'max_depth': [2, 3, 4, 5, 6, 7],\n",
       "                         'max_features': ['sqrt', None],\n",
       "                         'min_samples_leaf': [10, 20, 30, 40]},\n",
       "             scoring='accuracy')"
      ]
     },
     "execution_count": 45,
     "metadata": {},
     "output_type": "execute_result"
    }
   ],
   "source": [
    "#@ 8 Perform a grid search with cross validation to perform hyperparameter tuning.\n",
    "\n",
    "# YOUR CODE HERE\n",
    "# Explore these specific parameter values:\n",
    "# max_depth: values 2 through 7\n",
    "# min_samples_leaf: values 10, 20, 30, 40\n",
    "# max_features: values 'sqrt' and None\n",
    "# Use ten folds in the cross valudation.\n",
    "# Assign the grid search object you create to variable 'tree_cv'.\n",
    "\n",
    "grid = {\n",
    "    'max_depth': [2, 3, 4, 5, 6, 7],\n",
    "    'min_samples_leaf': [10, 20, 30, 40],\n",
    "    'max_features': ['sqrt', None]\n",
    "}\n",
    "\n",
    "tree_cv = GridSearchCV(estimator=clf, param_grid=grid, scoring='accuracy', cv=10)\n",
    "\n",
    "tree_cv.fit(X_train, y_train)"
   ]
  },
  {
   "cell_type": "markdown",
   "metadata": {
    "id": "CuydK7TQSbg3"
   },
   "source": [
    "From the grid search we learn that depth 5 is good, and that we don't want leaf nodes with less than 20 training examples."
   ]
  },
  {
   "cell_type": "code",
   "execution_count": 46,
   "metadata": {
    "id": "Pj77wmJVyUnb"
   },
   "outputs": [
    {
     "name": "stdout",
     "output_type": "stream",
     "text": [
      "{'max_depth': 5, 'max_features': None, 'min_samples_leaf': 20}\n"
     ]
    }
   ],
   "source": [
    "print(tree_cv.best_params_)"
   ]
  },
  {
   "cell_type": "markdown",
   "metadata": {
    "id": "SKjtKn_dSpVx"
   },
   "source": [
    "The cross-validation accuracy for the best tree is about 80%, which is a couple of percentage points higher than the un-tuned tree."
   ]
  },
  {
   "cell_type": "code",
   "execution_count": 47,
   "metadata": {
    "id": "wL7QYfI2ytGU"
   },
   "outputs": [
    {
     "name": "stdout",
     "output_type": "stream",
     "text": [
      "Best Cross-Validation Accuracy: 0.802\n"
     ]
    }
   ],
   "source": [
    "#@ 9 Print the best cross-validation accuracy found in your grid search.\n",
    "\n",
    "# In this and the some of the following problems, it is important to remember\n",
    "# that, by default, a grid search CV object will end the grid search by training\n",
    "# the classifier with the best hyperparameters.  (This is controlled by the\n",
    "# 'refit' parameter of GridSearchCV.  Please see the cross validation lecture\n",
    "# slides for details.)\n",
    "\n",
    "# YOUR CODE HERE\n",
    "# hint: You can get the value as an attribute of tree_cv\n",
    "print(f'Best Cross-Validation Accuracy: {tree_cv.best_score_:.3f}')"
   ]
  },
  {
   "cell_type": "markdown",
   "metadata": {
    "id": "mLFiGIJZ66lw"
   },
   "source": [
    "The learning curve for the tuned tree."
   ]
  },
  {
   "cell_type": "code",
   "execution_count": 48,
   "metadata": {
    "id": "IcaD8Gxf65O_"
   },
   "outputs": [
    {
     "data": {
      "image/png": "[encoded data removed]",
      "text/plain": [
       "<Figure size 600x400 with 1 Axes>"
      ]
     },
     "metadata": {},
     "output_type": "display_data"
    }
   ],
   "source": [
    "#@ 10 Plot the learning curve of the best tree found in grid search.\n",
    "\n",
    "# YOUR CODE HERE\n",
    "# hint: pay attention to earlier code cells\n",
    "# hint: also pay attention to the next code cell\n",
    "\n",
    "best_tree = DecisionTreeClassifier(max_depth=5, max_features=None, min_samples_leaf=20)\n",
    "\n",
    "plot_learning_curve(best_tree, X_train, y_train)"
   ]
  },
  {
   "cell_type": "markdown",
   "metadata": {
    "id": "81UWx0HF7W0W"
   },
   "source": [
    "The learning curve is a little strange looking.  First, training accuracy is increasing with training set size, while usually it decreases.  Second, the lines meet at a training size of about 300, but then separate again, showing a situation with moderate variance with the full training set.  \n",
    "\n",
    "I would interpret this as neither a high bias nor a high variance situation.\n",
    "Most importantly, we have tuned the tree to achieve highest cross-validation accuracy."
   ]
  },
  {
   "cell_type": "markdown",
   "metadata": {
    "id": "b55X2LVAOf-A"
   },
   "source": [
    "A plot of the tuned tree.  (Replace 'plot_tree_custom' with 'plot_tree_custom_basic' if you are unable to install graphviz.)"
   ]
  },
  {
   "cell_type": "code",
   "execution_count": 49,
   "metadata": {
    "id": "XP7BELcf9RhP"
   },
   "outputs": [
    {
     "data": {
      "image/svg+xml": [
       "<?xml version=\"1.0\" encoding=\"UTF-8\" standalone=\"no\"?>\n",
       "<!DOCTYPE svg PUBLIC \"-//W3C//DTD SVG 1.1//EN\"\n",
       " \"http://www.w3.org/Graphics/SVG/1.1/DTD/svg11.dtd\">\n",
       "<!-- Generated by graphviz version 2.50.0 (0)\n",
       " -->\n",
       "<!-- Title: Tree Pages: 1 -->\n",
       "<svg width=\"2047pt\" height=\"671pt\"\n",
       " viewBox=\"0.00 0.00 2047.00 671.00\" xmlns=\"http://www.w3.org/2000/svg\" xmlns:xlink=\"http://www.w3.org/1999/xlink\">\n",
       "<g id=\"graph0\" class=\"graph\" transform=\"scale(1 1) rotate(0) translate(4 667)\">\n",
       "<title>Tree</title>\n",
       "<polygon fill=\"white\" stroke=\"transparent\" points=\"-4,4 -4,-667 2043,-667 2043,4 -4,4\"/>\n",
       "<!-- 0 -->\n",
       "<g id=\"node1\" class=\"node\">\n",
       "<title>0</title>\n",
       "<path fill=\"#f5ceb2\" stroke=\"black\" d=\"M1035,-663C1035,-663 927,-663 927,-663 921,-663 915,-657 915,-651 915,-651 915,-592 915,-592 915,-586 921,-580 927,-580 927,-580 1035,-580 1035,-580 1041,-580 1047,-586 1047,-592 1047,-592 1047,-651 1047,-651 1047,-657 1041,-663 1035,-663\"/>\n",
       "<text text-anchor=\"start\" x=\"937\" y=\"-647.8\" font-family=\"Helvetica,sans-Serif\" font-size=\"14.00\">Title_Mr. ≤ 0.5</text>\n",
       "<text text-anchor=\"start\" x=\"949\" y=\"-632.8\" font-family=\"Helvetica,sans-Serif\" font-size=\"14.00\">gini = 0.47</text>\n",
       "<text text-anchor=\"start\" x=\"924\" y=\"-617.8\" font-family=\"Helvetica,sans-Serif\" font-size=\"14.00\">samples = 100.0%</text>\n",
       "<text text-anchor=\"start\" x=\"923\" y=\"-602.8\" font-family=\"Helvetica,sans-Serif\" font-size=\"14.00\">value = [0.62, 0.38]</text>\n",
       "<text text-anchor=\"start\" x=\"931.5\" y=\"-587.8\" font-family=\"Helvetica,sans-Serif\" font-size=\"14.00\">class = perished</text>\n",
       "</g>\n",
       "<!-- 1 -->\n",
       "<g id=\"node2\" class=\"node\">\n",
       "<title>1</title>\n",
       "<path fill=\"#95caf1\" stroke=\"black\" d=\"M949,-544C949,-544 841,-544 841,-544 835,-544 829,-538 829,-532 829,-532 829,-473 829,-473 829,-467 835,-461 841,-461 841,-461 949,-461 949,-461 955,-461 961,-467 961,-473 961,-473 961,-532 961,-532 961,-538 955,-544 949,-544\"/>\n",
       "<text text-anchor=\"start\" x=\"858\" y=\"-528.8\" font-family=\"Helvetica,sans-Serif\" font-size=\"14.00\">Pclass ≤ 2.5</text>\n",
       "<text text-anchor=\"start\" x=\"863\" y=\"-513.8\" font-family=\"Helvetica,sans-Serif\" font-size=\"14.00\">gini = 0.43</text>\n",
       "<text text-anchor=\"start\" x=\"842\" y=\"-498.8\" font-family=\"Helvetica,sans-Serif\" font-size=\"14.00\">samples = 40.4%</text>\n",
       "<text text-anchor=\"start\" x=\"837\" y=\"-483.8\" font-family=\"Helvetica,sans-Serif\" font-size=\"14.00\">value = [0.32, 0.68]</text>\n",
       "<text text-anchor=\"start\" x=\"846.5\" y=\"-468.8\" font-family=\"Helvetica,sans-Serif\" font-size=\"14.00\">class = survived</text>\n",
       "</g>\n",
       "<!-- 0&#45;&gt;1 -->\n",
       "<g id=\"edge1\" class=\"edge\">\n",
       "<title>0&#45;&gt;1</title>\n",
       "<path fill=\"none\" stroke=\"black\" d=\"M951.16,-579.91C944.63,-571.01 937.64,-561.51 930.89,-552.33\"/>\n",
       "<polygon fill=\"black\" stroke=\"black\" points=\"933.53,-550.01 924.78,-544.02 927.89,-554.15 933.53,-550.01\"/>\n",
       "<text text-anchor=\"middle\" x=\"921.01\" y=\"-565.03\" font-family=\"Helvetica,sans-Serif\" font-size=\"14.00\">True</text>\n",
       "</g>\n",
       "<!-- 18 -->\n",
       "<g id=\"node19\" class=\"node\">\n",
       "<title>18</title>\n",
       "<path fill=\"#ea9c63\" stroke=\"black\" d=\"M1182,-544C1182,-544 1074,-544 1074,-544 1068,-544 1062,-538 1062,-532 1062,-532 1062,-473 1062,-473 1062,-467 1068,-461 1074,-461 1074,-461 1182,-461 1182,-461 1188,-461 1194,-467 1194,-473 1194,-473 1194,-532 1194,-532 1194,-538 1188,-544 1182,-544\"/>\n",
       "<text text-anchor=\"start\" x=\"1091\" y=\"-528.8\" font-family=\"Helvetica,sans-Serif\" font-size=\"14.00\">Pclass ≤ 1.5</text>\n",
       "<text text-anchor=\"start\" x=\"1096\" y=\"-513.8\" font-family=\"Helvetica,sans-Serif\" font-size=\"14.00\">gini = 0.29</text>\n",
       "<text text-anchor=\"start\" x=\"1075\" y=\"-498.8\" font-family=\"Helvetica,sans-Serif\" font-size=\"14.00\">samples = 59.6%</text>\n",
       "<text text-anchor=\"start\" x=\"1070\" y=\"-483.8\" font-family=\"Helvetica,sans-Serif\" font-size=\"14.00\">value = [0.83, 0.17]</text>\n",
       "<text text-anchor=\"start\" x=\"1078.5\" y=\"-468.8\" font-family=\"Helvetica,sans-Serif\" font-size=\"14.00\">class = perished</text>\n",
       "</g>\n",
       "<!-- 0&#45;&gt;18 -->\n",
       "<g id=\"edge18\" class=\"edge\">\n",
       "<title>0&#45;&gt;18</title>\n",
       "<path fill=\"none\" stroke=\"black\" d=\"M1032,-579.91C1043.97,-570.38 1056.83,-560.15 1069.11,-550.37\"/>\n",
       "<polygon fill=\"black\" stroke=\"black\" points=\"1071.44,-552.99 1077.09,-544.02 1067.09,-547.51 1071.44,-552.99\"/>\n",
       "<text text-anchor=\"middle\" x=\"1074.27\" y=\"-565.16\" font-family=\"Helvetica,sans-Serif\" font-size=\"14.00\">False</text>\n",
       "</g>\n",
       "<!-- 2 -->\n",
       "<g id=\"node3\" class=\"node\">\n",
       "<title>2</title>\n",
       "<path fill=\"#52a9e8\" stroke=\"black\" d=\"M692,-425C692,-425 584,-425 584,-425 578,-425 572,-419 572,-413 572,-413 572,-354 572,-354 572,-348 578,-342 584,-342 584,-342 692,-342 692,-342 698,-342 704,-348 704,-354 704,-354 704,-413 704,-413 704,-419 698,-425 692,-425\"/>\n",
       "<text text-anchor=\"start\" x=\"590.5\" y=\"-409.8\" font-family=\"Helvetica,sans-Serif\" font-size=\"14.00\">Sex_male ≤ 0.5</text>\n",
       "<text text-anchor=\"start\" x=\"610\" y=\"-394.8\" font-family=\"Helvetica,sans-Serif\" font-size=\"14.00\">gini = 0.2</text>\n",
       "<text text-anchor=\"start\" x=\"585\" y=\"-379.8\" font-family=\"Helvetica,sans-Serif\" font-size=\"14.00\">samples = 21.8%</text>\n",
       "<text text-anchor=\"start\" x=\"580\" y=\"-364.8\" font-family=\"Helvetica,sans-Serif\" font-size=\"14.00\">value = [0.11, 0.89]</text>\n",
       "<text text-anchor=\"start\" x=\"589.5\" y=\"-349.8\" font-family=\"Helvetica,sans-Serif\" font-size=\"14.00\">class = survived</text>\n",
       "</g>\n",
       "<!-- 1&#45;&gt;2 -->\n",
       "<g id=\"edge2\" class=\"edge\">\n",
       "<title>1&#45;&gt;2</title>\n",
       "<path fill=\"none\" stroke=\"black\" d=\"M828.82,-471.37C793.58,-455.33 750.1,-435.53 713.54,-418.89\"/>\n",
       "<polygon fill=\"black\" stroke=\"black\" points=\"714.96,-415.69 704.41,-414.73 712.06,-422.06 714.96,-415.69\"/>\n",
       "</g>\n",
       "<!-- 11 -->\n",
       "<g id=\"node12\" class=\"node\">\n",
       "<title>11</title>\n",
       "<path fill=\"#fae4d5\" stroke=\"black\" d=\"M949,-425C949,-425 841,-425 841,-425 835,-425 829,-419 829,-413 829,-413 829,-354 829,-354 829,-348 835,-342 841,-342 841,-342 949,-342 949,-342 955,-342 961,-348 961,-354 961,-354 961,-413 961,-413 961,-419 955,-425 949,-425\"/>\n",
       "<text text-anchor=\"start\" x=\"860\" y=\"-409.8\" font-family=\"Helvetica,sans-Serif\" font-size=\"14.00\">Fare ≤ 22.9</text>\n",
       "<text text-anchor=\"start\" x=\"863\" y=\"-394.8\" font-family=\"Helvetica,sans-Serif\" font-size=\"14.00\">gini = 0.49</text>\n",
       "<text text-anchor=\"start\" x=\"842\" y=\"-379.8\" font-family=\"Helvetica,sans-Serif\" font-size=\"14.00\">samples = 18.6%</text>\n",
       "<text text-anchor=\"start\" x=\"837\" y=\"-364.8\" font-family=\"Helvetica,sans-Serif\" font-size=\"14.00\">value = [0.56, 0.44]</text>\n",
       "<text text-anchor=\"start\" x=\"845.5\" y=\"-349.8\" font-family=\"Helvetica,sans-Serif\" font-size=\"14.00\">class = perished</text>\n",
       "</g>\n",
       "<!-- 1&#45;&gt;11 -->\n",
       "<g id=\"edge11\" class=\"edge\">\n",
       "<title>1&#45;&gt;11</title>\n",
       "<path fill=\"none\" stroke=\"black\" d=\"M895,-460.91C895,-452.65 895,-443.86 895,-435.3\"/>\n",
       "<polygon fill=\"black\" stroke=\"black\" points=\"898.5,-435.02 895,-425.02 891.5,-435.02 898.5,-435.02\"/>\n",
       "</g>\n",
       "<!-- 3 -->\n",
       "<g id=\"node4\" class=\"node\">\n",
       "<title>3</title>\n",
       "<path fill=\"#4aa6e7\" stroke=\"black\" d=\"M477,-306C477,-306 369,-306 369,-306 363,-306 357,-300 357,-294 357,-294 357,-235 357,-235 357,-229 363,-223 369,-223 369,-223 477,-223 477,-223 483,-223 489,-229 489,-235 489,-235 489,-294 489,-294 489,-300 483,-306 477,-306\"/>\n",
       "<text text-anchor=\"start\" x=\"384.5\" y=\"-290.8\" font-family=\"Helvetica,sans-Serif\" font-size=\"14.00\">Fare ≤ 31.68</text>\n",
       "<text text-anchor=\"start\" x=\"391\" y=\"-275.8\" font-family=\"Helvetica,sans-Serif\" font-size=\"14.00\">gini = 0.15</text>\n",
       "<text text-anchor=\"start\" x=\"370\" y=\"-260.8\" font-family=\"Helvetica,sans-Serif\" font-size=\"14.00\">samples = 19.0%</text>\n",
       "<text text-anchor=\"start\" x=\"365\" y=\"-245.8\" font-family=\"Helvetica,sans-Serif\" font-size=\"14.00\">value = [0.08, 0.92]</text>\n",
       "<text text-anchor=\"start\" x=\"374.5\" y=\"-230.8\" font-family=\"Helvetica,sans-Serif\" font-size=\"14.00\">class = survived</text>\n",
       "</g>\n",
       "<!-- 2&#45;&gt;3 -->\n",
       "<g id=\"edge3\" class=\"edge\">\n",
       "<title>2&#45;&gt;3</title>\n",
       "<path fill=\"none\" stroke=\"black\" d=\"M571.74,-346.44C548.44,-333.76 522.08,-319.42 498.11,-306.37\"/>\n",
       "<polygon fill=\"black\" stroke=\"black\" points=\"499.5,-303.15 489.04,-301.44 496.15,-309.29 499.5,-303.15\"/>\n",
       "</g>\n",
       "<!-- 10 -->\n",
       "<g id=\"node11\" class=\"node\">\n",
       "<title>10</title>\n",
       "<path fill=\"#96cbf1\" stroke=\"black\" d=\"M692,-298.5C692,-298.5 584,-298.5 584,-298.5 578,-298.5 572,-292.5 572,-286.5 572,-286.5 572,-242.5 572,-242.5 572,-236.5 578,-230.5 584,-230.5 584,-230.5 692,-230.5 692,-230.5 698,-230.5 704,-236.5 704,-242.5 704,-242.5 704,-286.5 704,-286.5 704,-292.5 698,-298.5 692,-298.5\"/>\n",
       "<text text-anchor=\"start\" x=\"606\" y=\"-283.3\" font-family=\"Helvetica,sans-Serif\" font-size=\"14.00\">gini = 0.44</text>\n",
       "<text text-anchor=\"start\" x=\"588.5\" y=\"-268.3\" font-family=\"Helvetica,sans-Serif\" font-size=\"14.00\">samples = 2.7%</text>\n",
       "<text text-anchor=\"start\" x=\"580\" y=\"-253.3\" font-family=\"Helvetica,sans-Serif\" font-size=\"14.00\">value = [0.32, 0.68]</text>\n",
       "<text text-anchor=\"start\" x=\"589.5\" y=\"-238.3\" font-family=\"Helvetica,sans-Serif\" font-size=\"14.00\">class = survived</text>\n",
       "</g>\n",
       "<!-- 2&#45;&gt;10 -->\n",
       "<g id=\"edge10\" class=\"edge\">\n",
       "<title>2&#45;&gt;10</title>\n",
       "<path fill=\"none\" stroke=\"black\" d=\"M638,-341.91C638,-331.2 638,-319.62 638,-308.78\"/>\n",
       "<polygon fill=\"black\" stroke=\"black\" points=\"641.5,-308.67 638,-298.67 634.5,-308.67 641.5,-308.67\"/>\n",
       "</g>\n",
       "<!-- 4 -->\n",
       "<g id=\"node5\" class=\"node\">\n",
       "<title>4</title>\n",
       "<path fill=\"#5caeea\" stroke=\"black\" d=\"M263,-187C263,-187 155,-187 155,-187 149,-187 143,-181 143,-175 143,-175 143,-116 143,-116 143,-110 149,-104 155,-104 155,-104 263,-104 263,-104 269,-104 275,-110 275,-116 275,-116 275,-175 275,-175 275,-181 269,-187 263,-187\"/>\n",
       "<text text-anchor=\"start\" x=\"162\" y=\"-171.8\" font-family=\"Helvetica,sans-Serif\" font-size=\"14.00\">Title_Mrs. ≤ 0.5</text>\n",
       "<text text-anchor=\"start\" x=\"177\" y=\"-156.8\" font-family=\"Helvetica,sans-Serif\" font-size=\"14.00\">gini = 0.25</text>\n",
       "<text text-anchor=\"start\" x=\"159.5\" y=\"-141.8\" font-family=\"Helvetica,sans-Serif\" font-size=\"14.00\">samples = 8.1%</text>\n",
       "<text text-anchor=\"start\" x=\"151\" y=\"-126.8\" font-family=\"Helvetica,sans-Serif\" font-size=\"14.00\">value = [0.15, 0.85]</text>\n",
       "<text text-anchor=\"start\" x=\"160.5\" y=\"-111.8\" font-family=\"Helvetica,sans-Serif\" font-size=\"14.00\">class = survived</text>\n",
       "</g>\n",
       "<!-- 3&#45;&gt;4 -->\n",
       "<g id=\"edge4\" class=\"edge\">\n",
       "<title>3&#45;&gt;4</title>\n",
       "<path fill=\"none\" stroke=\"black\" d=\"M356.75,-227.28C333.79,-214.73 307.88,-200.56 284.24,-187.63\"/>\n",
       "<polygon fill=\"black\" stroke=\"black\" points=\"285.75,-184.47 275.3,-182.75 282.4,-190.62 285.75,-184.47\"/>\n",
       "</g>\n",
       "<!-- 7 -->\n",
       "<g id=\"node8\" class=\"node\">\n",
       "<title>7</title>\n",
       "<path fill=\"#3fa0e6\" stroke=\"black\" d=\"M477,-187C477,-187 369,-187 369,-187 363,-187 357,-181 357,-175 357,-175 357,-116 357,-116 357,-110 363,-104 369,-104 369,-104 477,-104 477,-104 483,-104 489,-110 489,-116 489,-116 489,-175 489,-175 489,-181 483,-187 477,-187\"/>\n",
       "<text text-anchor=\"start\" x=\"380.5\" y=\"-171.8\" font-family=\"Helvetica,sans-Serif\" font-size=\"14.00\">Fare ≤ 144.16</text>\n",
       "<text text-anchor=\"start\" x=\"391\" y=\"-156.8\" font-family=\"Helvetica,sans-Serif\" font-size=\"14.00\">gini = 0.06</text>\n",
       "<text text-anchor=\"start\" x=\"370\" y=\"-141.8\" font-family=\"Helvetica,sans-Serif\" font-size=\"14.00\">samples = 10.9%</text>\n",
       "<text text-anchor=\"start\" x=\"365\" y=\"-126.8\" font-family=\"Helvetica,sans-Serif\" font-size=\"14.00\">value = [0.03, 0.97]</text>\n",
       "<text text-anchor=\"start\" x=\"374.5\" y=\"-111.8\" font-family=\"Helvetica,sans-Serif\" font-size=\"14.00\">class = survived</text>\n",
       "</g>\n",
       "<!-- 3&#45;&gt;7 -->\n",
       "<g id=\"edge7\" class=\"edge\">\n",
       "<title>3&#45;&gt;7</title>\n",
       "<path fill=\"none\" stroke=\"black\" d=\"M423,-222.91C423,-214.65 423,-205.86 423,-197.3\"/>\n",
       "<polygon fill=\"black\" stroke=\"black\" points=\"426.5,-197.02 423,-187.02 419.5,-197.02 426.5,-197.02\"/>\n",
       "</g>\n",
       "<!-- 5 -->\n",
       "<g id=\"node6\" class=\"node\">\n",
       "<title>5</title>\n",
       "<path fill=\"#4da7e8\" stroke=\"black\" d=\"M120,-68C120,-68 12,-68 12,-68 6,-68 0,-62 0,-56 0,-56 0,-12 0,-12 0,-6 6,0 12,0 12,0 120,0 120,0 126,0 132,-6 132,-12 132,-12 132,-56 132,-56 132,-62 126,-68 120,-68\"/>\n",
       "<text text-anchor=\"start\" x=\"34\" y=\"-52.8\" font-family=\"Helvetica,sans-Serif\" font-size=\"14.00\">gini = 0.17</text>\n",
       "<text text-anchor=\"start\" x=\"16.5\" y=\"-37.8\" font-family=\"Helvetica,sans-Serif\" font-size=\"14.00\">samples = 3.6%</text>\n",
       "<text text-anchor=\"start\" x=\"8\" y=\"-22.8\" font-family=\"Helvetica,sans-Serif\" font-size=\"14.00\">value = [0.09, 0.91]</text>\n",
       "<text text-anchor=\"start\" x=\"17.5\" y=\"-7.8\" font-family=\"Helvetica,sans-Serif\" font-size=\"14.00\">class = survived</text>\n",
       "</g>\n",
       "<!-- 4&#45;&gt;5 -->\n",
       "<g id=\"edge5\" class=\"edge\">\n",
       "<title>4&#45;&gt;5</title>\n",
       "<path fill=\"none\" stroke=\"black\" d=\"M155.75,-103.73C143.25,-94.15 129.94,-83.96 117.51,-74.44\"/>\n",
       "<polygon fill=\"black\" stroke=\"black\" points=\"119.55,-71.6 109.49,-68.3 115.3,-77.16 119.55,-71.6\"/>\n",
       "</g>\n",
       "<!-- 6 -->\n",
       "<g id=\"node7\" class=\"node\">\n",
       "<title>6</title>\n",
       "<path fill=\"#69b5eb\" stroke=\"black\" d=\"M255.5,-68C255.5,-68 162.5,-68 162.5,-68 156.5,-68 150.5,-62 150.5,-56 150.5,-56 150.5,-12 150.5,-12 150.5,-6 156.5,0 162.5,0 162.5,0 255.5,0 255.5,0 261.5,0 267.5,-6 267.5,-12 267.5,-12 267.5,-56 267.5,-56 267.5,-62 261.5,-68 255.5,-68\"/>\n",
       "<text text-anchor=\"start\" x=\"177\" y=\"-52.8\" font-family=\"Helvetica,sans-Serif\" font-size=\"14.00\">gini = 0.31</text>\n",
       "<text text-anchor=\"start\" x=\"159.5\" y=\"-37.8\" font-family=\"Helvetica,sans-Serif\" font-size=\"14.00\">samples = 4.5%</text>\n",
       "<text text-anchor=\"start\" x=\"158.5\" y=\"-22.8\" font-family=\"Helvetica,sans-Serif\" font-size=\"14.00\">value = [0.2, 0.8]</text>\n",
       "<text text-anchor=\"start\" x=\"160.5\" y=\"-7.8\" font-family=\"Helvetica,sans-Serif\" font-size=\"14.00\">class = survived</text>\n",
       "</g>\n",
       "<!-- 4&#45;&gt;6 -->\n",
       "<g id=\"edge6\" class=\"edge\">\n",
       "<title>4&#45;&gt;6</title>\n",
       "<path fill=\"none\" stroke=\"black\" d=\"M209,-103.73C209,-95.52 209,-86.86 209,-78.56\"/>\n",
       "<polygon fill=\"black\" stroke=\"black\" points=\"212.5,-78.3 209,-68.3 205.5,-78.3 212.5,-78.3\"/>\n",
       "</g>\n",
       "<!-- 8 -->\n",
       "<g id=\"node9\" class=\"node\">\n",
       "<title>8</title>\n",
       "<path fill=\"#399de5\" stroke=\"black\" d=\"M390.5,-68C390.5,-68 297.5,-68 297.5,-68 291.5,-68 285.5,-62 285.5,-56 285.5,-56 285.5,-12 285.5,-12 285.5,-6 291.5,0 297.5,0 297.5,0 390.5,0 390.5,0 396.5,0 402.5,-6 402.5,-12 402.5,-12 402.5,-56 402.5,-56 402.5,-62 396.5,-68 390.5,-68\"/>\n",
       "<text text-anchor=\"start\" x=\"316\" y=\"-52.8\" font-family=\"Helvetica,sans-Serif\" font-size=\"14.00\">gini = 0.0</text>\n",
       "<text text-anchor=\"start\" x=\"294.5\" y=\"-37.8\" font-family=\"Helvetica,sans-Serif\" font-size=\"14.00\">samples = 8.2%</text>\n",
       "<text text-anchor=\"start\" x=\"293.5\" y=\"-22.8\" font-family=\"Helvetica,sans-Serif\" font-size=\"14.00\">value = [0.0, 1.0]</text>\n",
       "<text text-anchor=\"start\" x=\"295.5\" y=\"-7.8\" font-family=\"Helvetica,sans-Serif\" font-size=\"14.00\">class = survived</text>\n",
       "</g>\n",
       "<!-- 7&#45;&gt;8 -->\n",
       "<g id=\"edge8\" class=\"edge\">\n",
       "<title>7&#45;&gt;8</title>\n",
       "<path fill=\"none\" stroke=\"black\" d=\"M393.58,-103.73C387.2,-94.88 380.44,-85.51 374.03,-76.63\"/>\n",
       "<polygon fill=\"black\" stroke=\"black\" points=\"376.71,-74.36 368.02,-68.3 371.04,-78.46 376.71,-74.36\"/>\n",
       "</g>\n",
       "<!-- 9 -->\n",
       "<g id=\"node10\" class=\"node\">\n",
       "<title>9</title>\n",
       "<path fill=\"#54aae9\" stroke=\"black\" d=\"M541,-68C541,-68 433,-68 433,-68 427,-68 421,-62 421,-56 421,-56 421,-12 421,-12 421,-6 427,0 433,0 433,0 541,0 541,0 547,0 553,-6 553,-12 553,-12 553,-56 553,-56 553,-62 547,-68 541,-68\"/>\n",
       "<text text-anchor=\"start\" x=\"455\" y=\"-52.8\" font-family=\"Helvetica,sans-Serif\" font-size=\"14.00\">gini = 0.21</text>\n",
       "<text text-anchor=\"start\" x=\"437.5\" y=\"-37.8\" font-family=\"Helvetica,sans-Serif\" font-size=\"14.00\">samples = 2.7%</text>\n",
       "<text text-anchor=\"start\" x=\"429\" y=\"-22.8\" font-family=\"Helvetica,sans-Serif\" font-size=\"14.00\">value = [0.12, 0.88]</text>\n",
       "<text text-anchor=\"start\" x=\"438.5\" y=\"-7.8\" font-family=\"Helvetica,sans-Serif\" font-size=\"14.00\">class = survived</text>\n",
       "</g>\n",
       "<!-- 7&#45;&gt;9 -->\n",
       "<g id=\"edge9\" class=\"edge\">\n",
       "<title>7&#45;&gt;9</title>\n",
       "<path fill=\"none\" stroke=\"black\" d=\"M446.83,-103.73C451.9,-95.06 457.25,-85.9 462.35,-77.18\"/>\n",
       "<polygon fill=\"black\" stroke=\"black\" points=\"465.51,-78.7 467.54,-68.3 459.47,-75.17 465.51,-78.7\"/>\n",
       "</g>\n",
       "<!-- 12 -->\n",
       "<g id=\"node13\" class=\"node\">\n",
       "<title>12</title>\n",
       "<path fill=\"#e1f0fb\" stroke=\"black\" d=\"M843,-306C843,-306 735,-306 735,-306 729,-306 723,-300 723,-294 723,-294 723,-235 723,-235 723,-229 729,-223 735,-223 735,-223 843,-223 843,-223 849,-223 855,-229 855,-235 855,-235 855,-294 855,-294 855,-300 849,-306 843,-306\"/>\n",
       "<text text-anchor=\"start\" x=\"750.5\" y=\"-290.8\" font-family=\"Helvetica,sans-Serif\" font-size=\"14.00\">Fare ≤ 15.65</text>\n",
       "<text text-anchor=\"start\" x=\"761\" y=\"-275.8\" font-family=\"Helvetica,sans-Serif\" font-size=\"14.00\">gini = 0.5</text>\n",
       "<text text-anchor=\"start\" x=\"736\" y=\"-260.8\" font-family=\"Helvetica,sans-Serif\" font-size=\"14.00\">samples = 14.8%</text>\n",
       "<text text-anchor=\"start\" x=\"731\" y=\"-245.8\" font-family=\"Helvetica,sans-Serif\" font-size=\"14.00\">value = [0.46, 0.54]</text>\n",
       "<text text-anchor=\"start\" x=\"740.5\" y=\"-230.8\" font-family=\"Helvetica,sans-Serif\" font-size=\"14.00\">class = survived</text>\n",
       "</g>\n",
       "<!-- 11&#45;&gt;12 -->\n",
       "<g id=\"edge12\" class=\"edge\">\n",
       "<title>11&#45;&gt;12</title>\n",
       "<path fill=\"none\" stroke=\"black\" d=\"M858.22,-341.91C849.92,-332.74 841.03,-322.93 832.48,-313.49\"/>\n",
       "<polygon fill=\"black\" stroke=\"black\" points=\"835.02,-311.08 825.71,-306.02 829.83,-315.78 835.02,-311.08\"/>\n",
       "</g>\n",
       "<!-- 17 -->\n",
       "<g id=\"node18\" class=\"node\">\n",
       "<title>17</title>\n",
       "<path fill=\"#e78945\" stroke=\"black\" d=\"M993,-298.5C993,-298.5 885,-298.5 885,-298.5 879,-298.5 873,-292.5 873,-286.5 873,-286.5 873,-242.5 873,-242.5 873,-236.5 879,-230.5 885,-230.5 885,-230.5 993,-230.5 993,-230.5 999,-230.5 1005,-236.5 1005,-242.5 1005,-242.5 1005,-286.5 1005,-286.5 1005,-292.5 999,-298.5 993,-298.5\"/>\n",
       "<text text-anchor=\"start\" x=\"907\" y=\"-283.3\" font-family=\"Helvetica,sans-Serif\" font-size=\"14.00\">gini = 0.11</text>\n",
       "<text text-anchor=\"start\" x=\"889.5\" y=\"-268.3\" font-family=\"Helvetica,sans-Serif\" font-size=\"14.00\">samples = 3.8%</text>\n",
       "<text text-anchor=\"start\" x=\"881\" y=\"-253.3\" font-family=\"Helvetica,sans-Serif\" font-size=\"14.00\">value = [0.94, 0.06]</text>\n",
       "<text text-anchor=\"start\" x=\"889.5\" y=\"-238.3\" font-family=\"Helvetica,sans-Serif\" font-size=\"14.00\">class = perished</text>\n",
       "</g>\n",
       "<!-- 11&#45;&gt;17 -->\n",
       "<g id=\"edge17\" class=\"edge\">\n",
       "<title>11&#45;&gt;17</title>\n",
       "<path fill=\"none\" stroke=\"black\" d=\"M910.27,-341.91C914.37,-330.98 918.83,-319.14 922.98,-308.11\"/>\n",
       "<polygon fill=\"black\" stroke=\"black\" points=\"926.28,-309.26 926.53,-298.67 919.73,-306.79 926.28,-309.26\"/>\n",
       "</g>\n",
       "<!-- 13 -->\n",
       "<g id=\"node14\" class=\"node\">\n",
       "<title>13</title>\n",
       "<path fill=\"#fffdfb\" stroke=\"black\" d=\"M698,-187C698,-187 600,-187 600,-187 594,-187 588,-181 588,-175 588,-175 588,-116 588,-116 588,-110 594,-104 600,-104 600,-104 698,-104 698,-104 704,-104 710,-110 710,-116 710,-116 710,-175 710,-175 710,-181 704,-187 698,-187\"/>\n",
       "<text text-anchor=\"start\" x=\"614\" y=\"-171.8\" font-family=\"Helvetica,sans-Serif\" font-size=\"14.00\">Fare ≤ 13.6</text>\n",
       "<text text-anchor=\"start\" x=\"621\" y=\"-156.8\" font-family=\"Helvetica,sans-Serif\" font-size=\"14.00\">gini = 0.5</text>\n",
       "<text text-anchor=\"start\" x=\"596\" y=\"-141.8\" font-family=\"Helvetica,sans-Serif\" font-size=\"14.00\">samples = 12.1%</text>\n",
       "<text text-anchor=\"start\" x=\"598.5\" y=\"-126.8\" font-family=\"Helvetica,sans-Serif\" font-size=\"14.00\">value = [0.5, 0.5]</text>\n",
       "<text text-anchor=\"start\" x=\"599.5\" y=\"-111.8\" font-family=\"Helvetica,sans-Serif\" font-size=\"14.00\">class = perished</text>\n",
       "</g>\n",
       "<!-- 12&#45;&gt;13 -->\n",
       "<g id=\"edge13\" class=\"edge\">\n",
       "<title>12&#45;&gt;13</title>\n",
       "<path fill=\"none\" stroke=\"black\" d=\"M740.43,-222.91C729.13,-213.47 717.02,-203.34 705.42,-193.65\"/>\n",
       "<polygon fill=\"black\" stroke=\"black\" points=\"707.4,-190.75 697.49,-187.02 702.92,-196.12 707.4,-190.75\"/>\n",
       "</g>\n",
       "<!-- 16 -->\n",
       "<g id=\"node17\" class=\"node\">\n",
       "<title>16</title>\n",
       "<path fill=\"#7bbeee\" stroke=\"black\" d=\"M848,-179.5C848,-179.5 740,-179.5 740,-179.5 734,-179.5 728,-173.5 728,-167.5 728,-167.5 728,-123.5 728,-123.5 728,-117.5 734,-111.5 740,-111.5 740,-111.5 848,-111.5 848,-111.5 854,-111.5 860,-117.5 860,-123.5 860,-123.5 860,-167.5 860,-167.5 860,-173.5 854,-179.5 848,-179.5\"/>\n",
       "<text text-anchor=\"start\" x=\"762\" y=\"-164.3\" font-family=\"Helvetica,sans-Serif\" font-size=\"14.00\">gini = 0.38</text>\n",
       "<text text-anchor=\"start\" x=\"744.5\" y=\"-149.3\" font-family=\"Helvetica,sans-Serif\" font-size=\"14.00\">samples = 2.6%</text>\n",
       "<text text-anchor=\"start\" x=\"736\" y=\"-134.3\" font-family=\"Helvetica,sans-Serif\" font-size=\"14.00\">value = [0.25, 0.75]</text>\n",
       "<text text-anchor=\"start\" x=\"745.5\" y=\"-119.3\" font-family=\"Helvetica,sans-Serif\" font-size=\"14.00\">class = survived</text>\n",
       "</g>\n",
       "<!-- 12&#45;&gt;16 -->\n",
       "<g id=\"edge16\" class=\"edge\">\n",
       "<title>12&#45;&gt;16</title>\n",
       "<path fill=\"none\" stroke=\"black\" d=\"M790.73,-222.91C791.19,-212.2 791.69,-200.62 792.15,-189.78\"/>\n",
       "<polygon fill=\"black\" stroke=\"black\" points=\"795.65,-189.81 792.58,-179.67 788.66,-189.51 795.65,-189.81\"/>\n",
       "</g>\n",
       "<!-- 14 -->\n",
       "<g id=\"node15\" class=\"node\">\n",
       "<title>14</title>\n",
       "<path fill=\"#cee6f8\" stroke=\"black\" d=\"M691,-68C691,-68 583,-68 583,-68 577,-68 571,-62 571,-56 571,-56 571,-12 571,-12 571,-6 577,0 583,0 583,0 691,0 691,0 697,0 703,-6 703,-12 703,-12 703,-56 703,-56 703,-62 697,-68 691,-68\"/>\n",
       "<text text-anchor=\"start\" x=\"605\" y=\"-52.8\" font-family=\"Helvetica,sans-Serif\" font-size=\"14.00\">gini = 0.49</text>\n",
       "<text text-anchor=\"start\" x=\"587.5\" y=\"-37.8\" font-family=\"Helvetica,sans-Serif\" font-size=\"14.00\">samples = 9.2%</text>\n",
       "<text text-anchor=\"start\" x=\"579\" y=\"-22.8\" font-family=\"Helvetica,sans-Serif\" font-size=\"14.00\">value = [0.43, 0.57]</text>\n",
       "<text text-anchor=\"start\" x=\"588.5\" y=\"-7.8\" font-family=\"Helvetica,sans-Serif\" font-size=\"14.00\">class = survived</text>\n",
       "</g>\n",
       "<!-- 13&#45;&gt;14 -->\n",
       "<g id=\"edge14\" class=\"edge\">\n",
       "<title>13&#45;&gt;14</title>\n",
       "<path fill=\"none\" stroke=\"black\" d=\"M644.53,-103.73C643.62,-95.43 642.66,-86.67 641.74,-78.28\"/>\n",
       "<polygon fill=\"black\" stroke=\"black\" points=\"645.22,-77.86 640.65,-68.3 638.26,-78.62 645.22,-77.86\"/>\n",
       "</g>\n",
       "<!-- 15 -->\n",
       "<g id=\"node16\" class=\"node\">\n",
       "<title>15</title>\n",
       "<path fill=\"#eead7e\" stroke=\"black\" d=\"M841,-68C841,-68 733,-68 733,-68 727,-68 721,-62 721,-56 721,-56 721,-12 721,-12 721,-6 727,0 733,0 733,0 841,0 841,0 847,0 853,-6 853,-12 853,-12 853,-56 853,-56 853,-62 847,-68 841,-68\"/>\n",
       "<text text-anchor=\"start\" x=\"755\" y=\"-52.8\" font-family=\"Helvetica,sans-Serif\" font-size=\"14.00\">gini = 0.38</text>\n",
       "<text text-anchor=\"start\" x=\"737.5\" y=\"-37.8\" font-family=\"Helvetica,sans-Serif\" font-size=\"14.00\">samples = 3.0%</text>\n",
       "<text text-anchor=\"start\" x=\"729\" y=\"-22.8\" font-family=\"Helvetica,sans-Serif\" font-size=\"14.00\">value = [0.74, 0.26]</text>\n",
       "<text text-anchor=\"start\" x=\"737.5\" y=\"-7.8\" font-family=\"Helvetica,sans-Serif\" font-size=\"14.00\">class = perished</text>\n",
       "</g>\n",
       "<!-- 13&#45;&gt;15 -->\n",
       "<g id=\"edge15\" class=\"edge\">\n",
       "<title>13&#45;&gt;15</title>\n",
       "<path fill=\"none\" stroke=\"black\" d=\"M700.39,-103.73C712.34,-94.24 725.05,-84.16 736.95,-74.72\"/>\n",
       "<polygon fill=\"black\" stroke=\"black\" points=\"739.38,-77.26 745.03,-68.3 735.02,-71.77 739.38,-77.26\"/>\n",
       "</g>\n",
       "<!-- 19 -->\n",
       "<g id=\"node20\" class=\"node\">\n",
       "<title>19</title>\n",
       "<path fill=\"#f3c4a3\" stroke=\"black\" d=\"M1203.5,-425C1203.5,-425 1052.5,-425 1052.5,-425 1046.5,-425 1040.5,-419 1040.5,-413 1040.5,-413 1040.5,-354 1040.5,-354 1040.5,-348 1046.5,-342 1052.5,-342 1052.5,-342 1203.5,-342 1203.5,-342 1209.5,-342 1215.5,-348 1215.5,-354 1215.5,-354 1215.5,-413 1215.5,-413 1215.5,-419 1209.5,-425 1203.5,-425\"/>\n",
       "<text text-anchor=\"start\" x=\"1048.5\" y=\"-409.8\" font-family=\"Helvetica,sans-Serif\" font-size=\"14.00\">Age Range_(50,100] ≤ 0.5</text>\n",
       "<text text-anchor=\"start\" x=\"1096\" y=\"-394.8\" font-family=\"Helvetica,sans-Serif\" font-size=\"14.00\">gini = 0.45</text>\n",
       "<text text-anchor=\"start\" x=\"1075\" y=\"-379.8\" font-family=\"Helvetica,sans-Serif\" font-size=\"14.00\">samples = 12.6%</text>\n",
       "<text text-anchor=\"start\" x=\"1070\" y=\"-364.8\" font-family=\"Helvetica,sans-Serif\" font-size=\"14.00\">value = [0.65, 0.35]</text>\n",
       "<text text-anchor=\"start\" x=\"1078.5\" y=\"-349.8\" font-family=\"Helvetica,sans-Serif\" font-size=\"14.00\">class = perished</text>\n",
       "</g>\n",
       "<!-- 18&#45;&gt;19 -->\n",
       "<g id=\"edge19\" class=\"edge\">\n",
       "<title>18&#45;&gt;19</title>\n",
       "<path fill=\"none\" stroke=\"black\" d=\"M1128,-460.91C1128,-452.65 1128,-443.86 1128,-435.3\"/>\n",
       "<polygon fill=\"black\" stroke=\"black\" points=\"1131.5,-435.02 1128,-425.02 1124.5,-435.02 1131.5,-435.02\"/>\n",
       "</g>\n",
       "<!-- 26 -->\n",
       "<g id=\"node27\" class=\"node\">\n",
       "<title>26</title>\n",
       "<path fill=\"#e99356\" stroke=\"black\" d=\"M1434,-425C1434,-425 1326,-425 1326,-425 1320,-425 1314,-419 1314,-413 1314,-413 1314,-354 1314,-354 1314,-348 1320,-342 1326,-342 1326,-342 1434,-342 1434,-342 1440,-342 1446,-348 1446,-354 1446,-354 1446,-413 1446,-413 1446,-419 1440,-425 1434,-425\"/>\n",
       "<text text-anchor=\"start\" x=\"1345\" y=\"-409.8\" font-family=\"Helvetica,sans-Serif\" font-size=\"14.00\">SibSp ≤ 0.5</text>\n",
       "<text text-anchor=\"start\" x=\"1348\" y=\"-394.8\" font-family=\"Helvetica,sans-Serif\" font-size=\"14.00\">gini = 0.22</text>\n",
       "<text text-anchor=\"start\" x=\"1327\" y=\"-379.8\" font-family=\"Helvetica,sans-Serif\" font-size=\"14.00\">samples = 47.0%</text>\n",
       "<text text-anchor=\"start\" x=\"1322\" y=\"-364.8\" font-family=\"Helvetica,sans-Serif\" font-size=\"14.00\">value = [0.87, 0.13]</text>\n",
       "<text text-anchor=\"start\" x=\"1330.5\" y=\"-349.8\" font-family=\"Helvetica,sans-Serif\" font-size=\"14.00\">class = perished</text>\n",
       "</g>\n",
       "<!-- 18&#45;&gt;26 -->\n",
       "<g id=\"edge26\" class=\"edge\">\n",
       "<title>18&#45;&gt;26</title>\n",
       "<path fill=\"none\" stroke=\"black\" d=\"M1194.21,-470.76C1228.08,-455.04 1269.45,-435.83 1304.55,-419.53\"/>\n",
       "<polygon fill=\"black\" stroke=\"black\" points=\"1306.2,-422.62 1313.8,-415.24 1303.25,-416.27 1306.2,-422.62\"/>\n",
       "</g>\n",
       "<!-- 20 -->\n",
       "<g id=\"node21\" class=\"node\">\n",
       "<title>20</title>\n",
       "<path fill=\"#f6d6be\" stroke=\"black\" d=\"M1134,-306C1134,-306 1036,-306 1036,-306 1030,-306 1024,-300 1024,-294 1024,-294 1024,-235 1024,-235 1024,-229 1030,-223 1036,-223 1036,-223 1134,-223 1134,-223 1140,-223 1146,-229 1146,-235 1146,-235 1146,-294 1146,-294 1146,-300 1140,-306 1134,-306\"/>\n",
       "<text text-anchor=\"start\" x=\"1050\" y=\"-290.8\" font-family=\"Helvetica,sans-Serif\" font-size=\"14.00\">Fare ≤ 30.6</text>\n",
       "<text text-anchor=\"start\" x=\"1053\" y=\"-275.8\" font-family=\"Helvetica,sans-Serif\" font-size=\"14.00\">gini = 0.48</text>\n",
       "<text text-anchor=\"start\" x=\"1032\" y=\"-260.8\" font-family=\"Helvetica,sans-Serif\" font-size=\"14.00\">samples = 10.1%</text>\n",
       "<text text-anchor=\"start\" x=\"1034.5\" y=\"-245.8\" font-family=\"Helvetica,sans-Serif\" font-size=\"14.00\">value = [0.6, 0.4]</text>\n",
       "<text text-anchor=\"start\" x=\"1035.5\" y=\"-230.8\" font-family=\"Helvetica,sans-Serif\" font-size=\"14.00\">class = perished</text>\n",
       "</g>\n",
       "<!-- 19&#45;&gt;20 -->\n",
       "<g id=\"edge20\" class=\"edge\">\n",
       "<title>19&#45;&gt;20</title>\n",
       "<path fill=\"none\" stroke=\"black\" d=\"M1113.08,-341.91C1109.95,-333.38 1106.6,-324.28 1103.36,-315.46\"/>\n",
       "<polygon fill=\"black\" stroke=\"black\" points=\"1106.63,-314.2 1099.89,-306.02 1100.06,-316.61 1106.63,-314.2\"/>\n",
       "</g>\n",
       "<!-- 25 -->\n",
       "<g id=\"node26\" class=\"node\">\n",
       "<title>25</title>\n",
       "<path fill=\"#e99457\" stroke=\"black\" d=\"M1284,-298.5C1284,-298.5 1176,-298.5 1176,-298.5 1170,-298.5 1164,-292.5 1164,-286.5 1164,-286.5 1164,-242.5 1164,-242.5 1164,-236.5 1170,-230.5 1176,-230.5 1176,-230.5 1284,-230.5 1284,-230.5 1290,-230.5 1296,-236.5 1296,-242.5 1296,-242.5 1296,-286.5 1296,-286.5 1296,-292.5 1290,-298.5 1284,-298.5\"/>\n",
       "<text text-anchor=\"start\" x=\"1198\" y=\"-283.3\" font-family=\"Helvetica,sans-Serif\" font-size=\"14.00\">gini = 0.23</text>\n",
       "<text text-anchor=\"start\" x=\"1180.5\" y=\"-268.3\" font-family=\"Helvetica,sans-Serif\" font-size=\"14.00\">samples = 2.5%</text>\n",
       "<text text-anchor=\"start\" x=\"1172\" y=\"-253.3\" font-family=\"Helvetica,sans-Serif\" font-size=\"14.00\">value = [0.87, 0.13]</text>\n",
       "<text text-anchor=\"start\" x=\"1180.5\" y=\"-238.3\" font-family=\"Helvetica,sans-Serif\" font-size=\"14.00\">class = perished</text>\n",
       "</g>\n",
       "<!-- 19&#45;&gt;25 -->\n",
       "<g id=\"edge25\" class=\"edge\">\n",
       "<title>19&#45;&gt;25</title>\n",
       "<path fill=\"none\" stroke=\"black\" d=\"M1163.39,-341.91C1173.39,-330.43 1184.28,-317.94 1194.31,-306.44\"/>\n",
       "<polygon fill=\"black\" stroke=\"black\" points=\"1197.15,-308.5 1201.09,-298.67 1191.88,-303.9 1197.15,-308.5\"/>\n",
       "</g>\n",
       "<!-- 21 -->\n",
       "<g id=\"node22\" class=\"node\">\n",
       "<title>21</title>\n",
       "<path fill=\"#ffffff\" stroke=\"black\" d=\"M989.5,-179.5C989.5,-179.5 896.5,-179.5 896.5,-179.5 890.5,-179.5 884.5,-173.5 884.5,-167.5 884.5,-167.5 884.5,-123.5 884.5,-123.5 884.5,-117.5 890.5,-111.5 896.5,-111.5 896.5,-111.5 989.5,-111.5 989.5,-111.5 995.5,-111.5 1001.5,-117.5 1001.5,-123.5 1001.5,-123.5 1001.5,-167.5 1001.5,-167.5 1001.5,-173.5 995.5,-179.5 989.5,-179.5\"/>\n",
       "<text text-anchor=\"start\" x=\"915\" y=\"-164.3\" font-family=\"Helvetica,sans-Serif\" font-size=\"14.00\">gini = 0.5</text>\n",
       "<text text-anchor=\"start\" x=\"893.5\" y=\"-149.3\" font-family=\"Helvetica,sans-Serif\" font-size=\"14.00\">samples = 3.9%</text>\n",
       "<text text-anchor=\"start\" x=\"892.5\" y=\"-134.3\" font-family=\"Helvetica,sans-Serif\" font-size=\"14.00\">value = [0.5, 0.5]</text>\n",
       "<text text-anchor=\"start\" x=\"893.5\" y=\"-119.3\" font-family=\"Helvetica,sans-Serif\" font-size=\"14.00\">class = perished</text>\n",
       "</g>\n",
       "<!-- 20&#45;&gt;21 -->\n",
       "<g id=\"edge21\" class=\"edge\">\n",
       "<title>20&#45;&gt;21</title>\n",
       "<path fill=\"none\" stroke=\"black\" d=\"M1035.73,-222.91C1021.27,-210.99 1005.47,-197.98 991.09,-186.12\"/>\n",
       "<polygon fill=\"black\" stroke=\"black\" points=\"993.2,-183.32 983.25,-179.67 988.75,-188.73 993.2,-183.32\"/>\n",
       "</g>\n",
       "<!-- 22 -->\n",
       "<g id=\"node23\" class=\"node\">\n",
       "<title>22</title>\n",
       "<path fill=\"#f2c29f\" stroke=\"black\" d=\"M1140,-187C1140,-187 1032,-187 1032,-187 1026,-187 1020,-181 1020,-175 1020,-175 1020,-116 1020,-116 1020,-110 1026,-104 1032,-104 1032,-104 1140,-104 1140,-104 1146,-104 1152,-110 1152,-116 1152,-116 1152,-175 1152,-175 1152,-181 1146,-187 1140,-187\"/>\n",
       "<text text-anchor=\"start\" x=\"1051\" y=\"-171.8\" font-family=\"Helvetica,sans-Serif\" font-size=\"14.00\">SibSp ≤ 0.5</text>\n",
       "<text text-anchor=\"start\" x=\"1054\" y=\"-156.8\" font-family=\"Helvetica,sans-Serif\" font-size=\"14.00\">gini = 0.45</text>\n",
       "<text text-anchor=\"start\" x=\"1036.5\" y=\"-141.8\" font-family=\"Helvetica,sans-Serif\" font-size=\"14.00\">samples = 6.1%</text>\n",
       "<text text-anchor=\"start\" x=\"1028\" y=\"-126.8\" font-family=\"Helvetica,sans-Serif\" font-size=\"14.00\">value = [0.66, 0.34]</text>\n",
       "<text text-anchor=\"start\" x=\"1036.5\" y=\"-111.8\" font-family=\"Helvetica,sans-Serif\" font-size=\"14.00\">class = perished</text>\n",
       "</g>\n",
       "<!-- 20&#45;&gt;22 -->\n",
       "<g id=\"edge22\" class=\"edge\">\n",
       "<title>20&#45;&gt;22</title>\n",
       "<path fill=\"none\" stroke=\"black\" d=\"M1085.35,-222.91C1085.42,-214.65 1085.49,-205.86 1085.57,-197.3\"/>\n",
       "<polygon fill=\"black\" stroke=\"black\" points=\"1089.07,-197.05 1085.65,-187.02 1082.07,-196.99 1089.07,-197.05\"/>\n",
       "</g>\n",
       "<!-- 23 -->\n",
       "<g id=\"node24\" class=\"node\">\n",
       "<title>23</title>\n",
       "<path fill=\"#eda775\" stroke=\"black\" d=\"M991,-68C991,-68 883,-68 883,-68 877,-68 871,-62 871,-56 871,-56 871,-12 871,-12 871,-6 877,0 883,0 883,0 991,0 991,0 997,0 1003,-6 1003,-12 1003,-12 1003,-56 1003,-56 1003,-62 997,-68 991,-68\"/>\n",
       "<text text-anchor=\"start\" x=\"905\" y=\"-52.8\" font-family=\"Helvetica,sans-Serif\" font-size=\"14.00\">gini = 0.36</text>\n",
       "<text text-anchor=\"start\" x=\"887.5\" y=\"-37.8\" font-family=\"Helvetica,sans-Serif\" font-size=\"14.00\">samples = 3.3%</text>\n",
       "<text text-anchor=\"start\" x=\"879\" y=\"-22.8\" font-family=\"Helvetica,sans-Serif\" font-size=\"14.00\">value = [0.77, 0.23]</text>\n",
       "<text text-anchor=\"start\" x=\"887.5\" y=\"-7.8\" font-family=\"Helvetica,sans-Serif\" font-size=\"14.00\">class = perished</text>\n",
       "</g>\n",
       "<!-- 22&#45;&gt;23 -->\n",
       "<g id=\"edge23\" class=\"edge\">\n",
       "<title>22&#45;&gt;23</title>\n",
       "<path fill=\"none\" stroke=\"black\" d=\"M1030.52,-103.73C1017.49,-94.15 1003.62,-83.96 990.67,-74.44\"/>\n",
       "<polygon fill=\"black\" stroke=\"black\" points=\"992.44,-71.4 982.31,-68.3 988.3,-77.04 992.44,-71.4\"/>\n",
       "</g>\n",
       "<!-- 24 -->\n",
       "<g id=\"node25\" class=\"node\">\n",
       "<title>24</title>\n",
       "<path fill=\"#fbede3\" stroke=\"black\" d=\"M1141,-68C1141,-68 1033,-68 1033,-68 1027,-68 1021,-62 1021,-56 1021,-56 1021,-12 1021,-12 1021,-6 1027,0 1033,0 1033,0 1141,0 1141,0 1147,0 1153,-6 1153,-12 1153,-12 1153,-56 1153,-56 1153,-62 1147,-68 1141,-68\"/>\n",
       "<text text-anchor=\"start\" x=\"1059\" y=\"-52.8\" font-family=\"Helvetica,sans-Serif\" font-size=\"14.00\">gini = 0.5</text>\n",
       "<text text-anchor=\"start\" x=\"1037.5\" y=\"-37.8\" font-family=\"Helvetica,sans-Serif\" font-size=\"14.00\">samples = 2.8%</text>\n",
       "<text text-anchor=\"start\" x=\"1029\" y=\"-22.8\" font-family=\"Helvetica,sans-Serif\" font-size=\"14.00\">value = [0.54, 0.46]</text>\n",
       "<text text-anchor=\"start\" x=\"1037.5\" y=\"-7.8\" font-family=\"Helvetica,sans-Serif\" font-size=\"14.00\">class = perished</text>\n",
       "</g>\n",
       "<!-- 22&#45;&gt;24 -->\n",
       "<g id=\"edge24\" class=\"edge\">\n",
       "<title>22&#45;&gt;24</title>\n",
       "<path fill=\"none\" stroke=\"black\" d=\"M1086.37,-103.73C1086.45,-95.52 1086.53,-86.86 1086.6,-78.56\"/>\n",
       "<polygon fill=\"black\" stroke=\"black\" points=\"1090.1,-78.33 1086.7,-68.3 1083.1,-78.27 1090.1,-78.33\"/>\n",
       "</g>\n",
       "<!-- 27 -->\n",
       "<g id=\"node28\" class=\"node\">\n",
       "<title>27</title>\n",
       "<path fill=\"#e9965a\" stroke=\"black\" d=\"M1434,-306C1434,-306 1326,-306 1326,-306 1320,-306 1314,-300 1314,-294 1314,-294 1314,-235 1314,-235 1314,-229 1320,-223 1326,-223 1326,-223 1434,-223 1434,-223 1440,-223 1446,-229 1446,-235 1446,-235 1446,-294 1446,-294 1446,-300 1440,-306 1434,-306\"/>\n",
       "<text text-anchor=\"start\" x=\"1341.5\" y=\"-290.8\" font-family=\"Helvetica,sans-Serif\" font-size=\"14.00\">Fare ≤ 13.21</text>\n",
       "<text text-anchor=\"start\" x=\"1348\" y=\"-275.8\" font-family=\"Helvetica,sans-Serif\" font-size=\"14.00\">gini = 0.25</text>\n",
       "<text text-anchor=\"start\" x=\"1327\" y=\"-260.8\" font-family=\"Helvetica,sans-Serif\" font-size=\"14.00\">samples = 37.3%</text>\n",
       "<text text-anchor=\"start\" x=\"1322\" y=\"-245.8\" font-family=\"Helvetica,sans-Serif\" font-size=\"14.00\">value = [0.86, 0.14]</text>\n",
       "<text text-anchor=\"start\" x=\"1330.5\" y=\"-230.8\" font-family=\"Helvetica,sans-Serif\" font-size=\"14.00\">class = perished</text>\n",
       "</g>\n",
       "<!-- 26&#45;&gt;27 -->\n",
       "<g id=\"edge27\" class=\"edge\">\n",
       "<title>26&#45;&gt;27</title>\n",
       "<path fill=\"none\" stroke=\"black\" d=\"M1380,-341.91C1380,-333.65 1380,-324.86 1380,-316.3\"/>\n",
       "<polygon fill=\"black\" stroke=\"black\" points=\"1383.5,-316.02 1380,-306.02 1376.5,-316.02 1383.5,-316.02\"/>\n",
       "</g>\n",
       "<!-- 34 -->\n",
       "<g id=\"node35\" class=\"node\">\n",
       "<title>34</title>\n",
       "<path fill=\"#e78a47\" stroke=\"black\" d=\"M1877,-306C1877,-306 1769,-306 1769,-306 1763,-306 1757,-300 1757,-294 1757,-294 1757,-235 1757,-235 1757,-229 1763,-223 1769,-223 1769,-223 1877,-223 1877,-223 1883,-223 1889,-229 1889,-235 1889,-235 1889,-294 1889,-294 1889,-300 1883,-306 1877,-306\"/>\n",
       "<text text-anchor=\"start\" x=\"1784.5\" y=\"-290.8\" font-family=\"Helvetica,sans-Serif\" font-size=\"14.00\">Fare ≤ 26.12</text>\n",
       "<text text-anchor=\"start\" x=\"1791\" y=\"-275.8\" font-family=\"Helvetica,sans-Serif\" font-size=\"14.00\">gini = 0.13</text>\n",
       "<text text-anchor=\"start\" x=\"1773.5\" y=\"-260.8\" font-family=\"Helvetica,sans-Serif\" font-size=\"14.00\">samples = 9.7%</text>\n",
       "<text text-anchor=\"start\" x=\"1765\" y=\"-245.8\" font-family=\"Helvetica,sans-Serif\" font-size=\"14.00\">value = [0.93, 0.07]</text>\n",
       "<text text-anchor=\"start\" x=\"1773.5\" y=\"-230.8\" font-family=\"Helvetica,sans-Serif\" font-size=\"14.00\">class = perished</text>\n",
       "</g>\n",
       "<!-- 26&#45;&gt;34 -->\n",
       "<g id=\"edge34\" class=\"edge\">\n",
       "<title>26&#45;&gt;34</title>\n",
       "<path fill=\"none\" stroke=\"black\" d=\"M1446.32,-364.98C1526.89,-343.71 1662.5,-307.89 1747.14,-285.53\"/>\n",
       "<polygon fill=\"black\" stroke=\"black\" points=\"1748.17,-288.88 1756.95,-282.94 1746.39,-282.11 1748.17,-288.88\"/>\n",
       "</g>\n",
       "<!-- 28 -->\n",
       "<g id=\"node29\" class=\"node\">\n",
       "<title>28</title>\n",
       "<path fill=\"#e99457\" stroke=\"black\" d=\"M1434,-187C1434,-187 1326,-187 1326,-187 1320,-187 1314,-181 1314,-175 1314,-175 1314,-116 1314,-116 1314,-110 1320,-104 1326,-104 1326,-104 1434,-104 1434,-104 1440,-104 1446,-110 1446,-116 1446,-116 1446,-175 1446,-175 1446,-181 1440,-187 1434,-187\"/>\n",
       "<text text-anchor=\"start\" x=\"1345\" y=\"-171.8\" font-family=\"Helvetica,sans-Serif\" font-size=\"14.00\">Ticket ≤ 0.5</text>\n",
       "<text text-anchor=\"start\" x=\"1348\" y=\"-156.8\" font-family=\"Helvetica,sans-Serif\" font-size=\"14.00\">gini = 0.23</text>\n",
       "<text text-anchor=\"start\" x=\"1327\" y=\"-141.8\" font-family=\"Helvetica,sans-Serif\" font-size=\"14.00\">samples = 32.9%</text>\n",
       "<text text-anchor=\"start\" x=\"1322\" y=\"-126.8\" font-family=\"Helvetica,sans-Serif\" font-size=\"14.00\">value = [0.87, 0.13]</text>\n",
       "<text text-anchor=\"start\" x=\"1330.5\" y=\"-111.8\" font-family=\"Helvetica,sans-Serif\" font-size=\"14.00\">class = perished</text>\n",
       "</g>\n",
       "<!-- 27&#45;&gt;28 -->\n",
       "<g id=\"edge28\" class=\"edge\">\n",
       "<title>27&#45;&gt;28</title>\n",
       "<path fill=\"none\" stroke=\"black\" d=\"M1380,-222.91C1380,-214.65 1380,-205.86 1380,-197.3\"/>\n",
       "<polygon fill=\"black\" stroke=\"black\" points=\"1383.5,-197.02 1380,-187.02 1376.5,-197.02 1383.5,-197.02\"/>\n",
       "</g>\n",
       "<!-- 31 -->\n",
       "<g id=\"node32\" class=\"node\">\n",
       "<title>31</title>\n",
       "<path fill=\"#eda672\" stroke=\"black\" d=\"M1584,-187C1584,-187 1476,-187 1476,-187 1470,-187 1464,-181 1464,-175 1464,-175 1464,-116 1464,-116 1464,-110 1470,-104 1476,-104 1476,-104 1584,-104 1584,-104 1590,-104 1596,-110 1596,-116 1596,-116 1596,-175 1596,-175 1596,-181 1590,-187 1584,-187\"/>\n",
       "<text text-anchor=\"start\" x=\"1491.5\" y=\"-171.8\" font-family=\"Helvetica,sans-Serif\" font-size=\"14.00\">Fare ≤ 17.44</text>\n",
       "<text text-anchor=\"start\" x=\"1498\" y=\"-156.8\" font-family=\"Helvetica,sans-Serif\" font-size=\"14.00\">gini = 0.35</text>\n",
       "<text text-anchor=\"start\" x=\"1480.5\" y=\"-141.8\" font-family=\"Helvetica,sans-Serif\" font-size=\"14.00\">samples = 4.4%</text>\n",
       "<text text-anchor=\"start\" x=\"1472\" y=\"-126.8\" font-family=\"Helvetica,sans-Serif\" font-size=\"14.00\">value = [0.78, 0.22]</text>\n",
       "<text text-anchor=\"start\" x=\"1480.5\" y=\"-111.8\" font-family=\"Helvetica,sans-Serif\" font-size=\"14.00\">class = perished</text>\n",
       "</g>\n",
       "<!-- 27&#45;&gt;31 -->\n",
       "<g id=\"edge31\" class=\"edge\">\n",
       "<title>27&#45;&gt;31</title>\n",
       "<path fill=\"none\" stroke=\"black\" d=\"M1432.04,-222.91C1444.26,-213.38 1457.37,-203.15 1469.91,-193.37\"/>\n",
       "<polygon fill=\"black\" stroke=\"black\" points=\"1472.32,-195.93 1478.05,-187.02 1468.01,-190.41 1472.32,-195.93\"/>\n",
       "</g>\n",
       "<!-- 29 -->\n",
       "<g id=\"node30\" class=\"node\">\n",
       "<title>29</title>\n",
       "<path fill=\"#e89253\" stroke=\"black\" d=\"M1291,-68C1291,-68 1183,-68 1183,-68 1177,-68 1171,-62 1171,-56 1171,-56 1171,-12 1171,-12 1171,-6 1177,0 1183,0 1183,0 1291,0 1291,0 1297,0 1303,-6 1303,-12 1303,-12 1303,-56 1303,-56 1303,-62 1297,-68 1291,-68\"/>\n",
       "<text text-anchor=\"start\" x=\"1209\" y=\"-52.8\" font-family=\"Helvetica,sans-Serif\" font-size=\"14.00\">gini = 0.2</text>\n",
       "<text text-anchor=\"start\" x=\"1184\" y=\"-37.8\" font-family=\"Helvetica,sans-Serif\" font-size=\"14.00\">samples = 25.5%</text>\n",
       "<text text-anchor=\"start\" x=\"1179\" y=\"-22.8\" font-family=\"Helvetica,sans-Serif\" font-size=\"14.00\">value = [0.88, 0.12]</text>\n",
       "<text text-anchor=\"start\" x=\"1187.5\" y=\"-7.8\" font-family=\"Helvetica,sans-Serif\" font-size=\"14.00\">class = perished</text>\n",
       "</g>\n",
       "<!-- 28&#45;&gt;29 -->\n",
       "<g id=\"edge29\" class=\"edge\">\n",
       "<title>28&#45;&gt;29</title>\n",
       "<path fill=\"none\" stroke=\"black\" d=\"M1326.75,-103.73C1314.25,-94.15 1300.94,-83.96 1288.51,-74.44\"/>\n",
       "<polygon fill=\"black\" stroke=\"black\" points=\"1290.55,-71.6 1280.49,-68.3 1286.3,-77.16 1290.55,-71.6\"/>\n",
       "</g>\n",
       "<!-- 30 -->\n",
       "<g id=\"node31\" class=\"node\">\n",
       "<title>30</title>\n",
       "<path fill=\"#eb9f68\" stroke=\"black\" d=\"M1441,-68C1441,-68 1333,-68 1333,-68 1327,-68 1321,-62 1321,-56 1321,-56 1321,-12 1321,-12 1321,-6 1327,0 1333,0 1333,0 1441,0 1441,0 1447,0 1453,-6 1453,-12 1453,-12 1453,-56 1453,-56 1453,-62 1447,-68 1441,-68\"/>\n",
       "<text text-anchor=\"start\" x=\"1355\" y=\"-52.8\" font-family=\"Helvetica,sans-Serif\" font-size=\"14.00\">gini = 0.31</text>\n",
       "<text text-anchor=\"start\" x=\"1337.5\" y=\"-37.8\" font-family=\"Helvetica,sans-Serif\" font-size=\"14.00\">samples = 7.4%</text>\n",
       "<text text-anchor=\"start\" x=\"1329\" y=\"-22.8\" font-family=\"Helvetica,sans-Serif\" font-size=\"14.00\">value = [0.81, 0.19]</text>\n",
       "<text text-anchor=\"start\" x=\"1337.5\" y=\"-7.8\" font-family=\"Helvetica,sans-Serif\" font-size=\"14.00\">class = perished</text>\n",
       "</g>\n",
       "<!-- 28&#45;&gt;30 -->\n",
       "<g id=\"edge30\" class=\"edge\">\n",
       "<title>28&#45;&gt;30</title>\n",
       "<path fill=\"none\" stroke=\"black\" d=\"M1382.61,-103.73C1383.14,-95.43 1383.7,-86.67 1384.23,-78.28\"/>\n",
       "<polygon fill=\"black\" stroke=\"black\" points=\"1387.73,-78.5 1384.87,-68.3 1380.74,-78.06 1387.73,-78.5\"/>\n",
       "</g>\n",
       "<!-- 32 -->\n",
       "<g id=\"node33\" class=\"node\">\n",
       "<title>32</title>\n",
       "<path fill=\"#eca06a\" stroke=\"black\" d=\"M1576.5,-68C1576.5,-68 1483.5,-68 1483.5,-68 1477.5,-68 1471.5,-62 1471.5,-56 1471.5,-56 1471.5,-12 1471.5,-12 1471.5,-6 1477.5,0 1483.5,0 1483.5,0 1576.5,0 1576.5,0 1582.5,0 1588.5,-6 1588.5,-12 1588.5,-12 1588.5,-56 1588.5,-56 1588.5,-62 1582.5,-68 1576.5,-68\"/>\n",
       "<text text-anchor=\"start\" x=\"1498\" y=\"-52.8\" font-family=\"Helvetica,sans-Serif\" font-size=\"14.00\">gini = 0.32</text>\n",
       "<text text-anchor=\"start\" x=\"1480.5\" y=\"-37.8\" font-family=\"Helvetica,sans-Serif\" font-size=\"14.00\">samples = 2.2%</text>\n",
       "<text text-anchor=\"start\" x=\"1479.5\" y=\"-22.8\" font-family=\"Helvetica,sans-Serif\" font-size=\"14.00\">value = [0.8, 0.2]</text>\n",
       "<text text-anchor=\"start\" x=\"1480.5\" y=\"-7.8\" font-family=\"Helvetica,sans-Serif\" font-size=\"14.00\">class = perished</text>\n",
       "</g>\n",
       "<!-- 31&#45;&gt;32 -->\n",
       "<g id=\"edge32\" class=\"edge\">\n",
       "<title>31&#45;&gt;32</title>\n",
       "<path fill=\"none\" stroke=\"black\" d=\"M1530,-103.73C1530,-95.52 1530,-86.86 1530,-78.56\"/>\n",
       "<polygon fill=\"black\" stroke=\"black\" points=\"1533.5,-78.3 1530,-68.3 1526.5,-78.3 1533.5,-78.3\"/>\n",
       "</g>\n",
       "<!-- 33 -->\n",
       "<g id=\"node34\" class=\"node\">\n",
       "<title>33</title>\n",
       "<path fill=\"#eeab7b\" stroke=\"black\" d=\"M1727,-68C1727,-68 1619,-68 1619,-68 1613,-68 1607,-62 1607,-56 1607,-56 1607,-12 1607,-12 1607,-6 1613,0 1619,0 1619,0 1727,0 1727,0 1733,0 1739,-6 1739,-12 1739,-12 1739,-56 1739,-56 1739,-62 1733,-68 1727,-68\"/>\n",
       "<text text-anchor=\"start\" x=\"1641\" y=\"-52.8\" font-family=\"Helvetica,sans-Serif\" font-size=\"14.00\">gini = 0.38</text>\n",
       "<text text-anchor=\"start\" x=\"1623.5\" y=\"-37.8\" font-family=\"Helvetica,sans-Serif\" font-size=\"14.00\">samples = 2.2%</text>\n",
       "<text text-anchor=\"start\" x=\"1615\" y=\"-22.8\" font-family=\"Helvetica,sans-Serif\" font-size=\"14.00\">value = [0.75, 0.25]</text>\n",
       "<text text-anchor=\"start\" x=\"1623.5\" y=\"-7.8\" font-family=\"Helvetica,sans-Serif\" font-size=\"14.00\">class = perished</text>\n",
       "</g>\n",
       "<!-- 31&#45;&gt;33 -->\n",
       "<g id=\"edge33\" class=\"edge\">\n",
       "<title>31&#45;&gt;33</title>\n",
       "<path fill=\"none\" stroke=\"black\" d=\"M1583.25,-103.73C1595.75,-94.15 1609.06,-83.96 1621.49,-74.44\"/>\n",
       "<polygon fill=\"black\" stroke=\"black\" points=\"1623.7,-77.16 1629.51,-68.3 1619.45,-71.6 1623.7,-77.16\"/>\n",
       "</g>\n",
       "<!-- 35 -->\n",
       "<g id=\"node36\" class=\"node\">\n",
       "<title>35</title>\n",
       "<path fill=\"#e88d4c\" stroke=\"black\" d=\"M1877,-187C1877,-187 1769,-187 1769,-187 1763,-187 1757,-181 1757,-175 1757,-175 1757,-116 1757,-116 1757,-110 1763,-104 1769,-104 1769,-104 1877,-104 1877,-104 1883,-104 1889,-110 1889,-116 1889,-116 1889,-175 1889,-175 1889,-181 1883,-187 1877,-187\"/>\n",
       "<text text-anchor=\"start\" x=\"1788\" y=\"-171.8\" font-family=\"Helvetica,sans-Serif\" font-size=\"14.00\">Fare ≤ 17.6</text>\n",
       "<text text-anchor=\"start\" x=\"1791\" y=\"-156.8\" font-family=\"Helvetica,sans-Serif\" font-size=\"14.00\">gini = 0.16</text>\n",
       "<text text-anchor=\"start\" x=\"1773.5\" y=\"-141.8\" font-family=\"Helvetica,sans-Serif\" font-size=\"14.00\">samples = 7.3%</text>\n",
       "<text text-anchor=\"start\" x=\"1765\" y=\"-126.8\" font-family=\"Helvetica,sans-Serif\" font-size=\"14.00\">value = [0.91, 0.09]</text>\n",
       "<text text-anchor=\"start\" x=\"1773.5\" y=\"-111.8\" font-family=\"Helvetica,sans-Serif\" font-size=\"14.00\">class = perished</text>\n",
       "</g>\n",
       "<!-- 34&#45;&gt;35 -->\n",
       "<g id=\"edge35\" class=\"edge\">\n",
       "<title>34&#45;&gt;35</title>\n",
       "<path fill=\"none\" stroke=\"black\" d=\"M1823,-222.91C1823,-214.65 1823,-205.86 1823,-197.3\"/>\n",
       "<polygon fill=\"black\" stroke=\"black\" points=\"1826.5,-197.02 1823,-187.02 1819.5,-197.02 1826.5,-197.02\"/>\n",
       "</g>\n",
       "<!-- 38 -->\n",
       "<g id=\"node39\" class=\"node\">\n",
       "<title>38</title>\n",
       "<path fill=\"#e58139\" stroke=\"black\" d=\"M2012.5,-179.5C2012.5,-179.5 1919.5,-179.5 1919.5,-179.5 1913.5,-179.5 1907.5,-173.5 1907.5,-167.5 1907.5,-167.5 1907.5,-123.5 1907.5,-123.5 1907.5,-117.5 1913.5,-111.5 1919.5,-111.5 1919.5,-111.5 2012.5,-111.5 2012.5,-111.5 2018.5,-111.5 2024.5,-117.5 2024.5,-123.5 2024.5,-123.5 2024.5,-167.5 2024.5,-167.5 2024.5,-173.5 2018.5,-179.5 2012.5,-179.5\"/>\n",
       "<text text-anchor=\"start\" x=\"1938\" y=\"-164.3\" font-family=\"Helvetica,sans-Serif\" font-size=\"14.00\">gini = 0.0</text>\n",
       "<text text-anchor=\"start\" x=\"1916.5\" y=\"-149.3\" font-family=\"Helvetica,sans-Serif\" font-size=\"14.00\">samples = 2.4%</text>\n",
       "<text text-anchor=\"start\" x=\"1915.5\" y=\"-134.3\" font-family=\"Helvetica,sans-Serif\" font-size=\"14.00\">value = [1.0, 0.0]</text>\n",
       "<text text-anchor=\"start\" x=\"1916.5\" y=\"-119.3\" font-family=\"Helvetica,sans-Serif\" font-size=\"14.00\">class = perished</text>\n",
       "</g>\n",
       "<!-- 34&#45;&gt;38 -->\n",
       "<g id=\"edge38\" class=\"edge\">\n",
       "<title>34&#45;&gt;38</title>\n",
       "<path fill=\"none\" stroke=\"black\" d=\"M1872.61,-222.91C1887.18,-210.99 1903.09,-197.98 1917.58,-186.12\"/>\n",
       "<polygon fill=\"black\" stroke=\"black\" points=\"1919.94,-188.71 1925.46,-179.67 1915.51,-183.29 1919.94,-188.71\"/>\n",
       "</g>\n",
       "<!-- 36 -->\n",
       "<g id=\"node37\" class=\"node\">\n",
       "<title>36</title>\n",
       "<path fill=\"#e89152\" stroke=\"black\" d=\"M1877,-68C1877,-68 1769,-68 1769,-68 1763,-68 1757,-62 1757,-56 1757,-56 1757,-12 1757,-12 1757,-6 1763,0 1769,0 1769,0 1877,0 1877,0 1883,0 1889,-6 1889,-12 1889,-12 1889,-56 1889,-56 1889,-62 1883,-68 1877,-68\"/>\n",
       "<text text-anchor=\"start\" x=\"1795\" y=\"-52.8\" font-family=\"Helvetica,sans-Serif\" font-size=\"14.00\">gini = 0.2</text>\n",
       "<text text-anchor=\"start\" x=\"1773.5\" y=\"-37.8\" font-family=\"Helvetica,sans-Serif\" font-size=\"14.00\">samples = 3.9%</text>\n",
       "<text text-anchor=\"start\" x=\"1765\" y=\"-22.8\" font-family=\"Helvetica,sans-Serif\" font-size=\"14.00\">value = [0.89, 0.11]</text>\n",
       "<text text-anchor=\"start\" x=\"1773.5\" y=\"-7.8\" font-family=\"Helvetica,sans-Serif\" font-size=\"14.00\">class = perished</text>\n",
       "</g>\n",
       "<!-- 35&#45;&gt;36 -->\n",
       "<g id=\"edge36\" class=\"edge\">\n",
       "<title>35&#45;&gt;36</title>\n",
       "<path fill=\"none\" stroke=\"black\" d=\"M1823,-103.73C1823,-95.52 1823,-86.86 1823,-78.56\"/>\n",
       "<polygon fill=\"black\" stroke=\"black\" points=\"1826.5,-78.3 1823,-68.3 1819.5,-78.3 1826.5,-78.3\"/>\n",
       "</g>\n",
       "<!-- 37 -->\n",
       "<g id=\"node38\" class=\"node\">\n",
       "<title>37</title>\n",
       "<path fill=\"#e78a47\" stroke=\"black\" d=\"M2027,-68C2027,-68 1919,-68 1919,-68 1913,-68 1907,-62 1907,-56 1907,-56 1907,-12 1907,-12 1907,-6 1913,0 1919,0 1919,0 2027,0 2027,0 2033,0 2039,-6 2039,-12 2039,-12 2039,-56 2039,-56 2039,-62 2033,-68 2027,-68\"/>\n",
       "<text text-anchor=\"start\" x=\"1941\" y=\"-52.8\" font-family=\"Helvetica,sans-Serif\" font-size=\"14.00\">gini = 0.12</text>\n",
       "<text text-anchor=\"start\" x=\"1923.5\" y=\"-37.8\" font-family=\"Helvetica,sans-Serif\" font-size=\"14.00\">samples = 3.4%</text>\n",
       "<text text-anchor=\"start\" x=\"1915\" y=\"-22.8\" font-family=\"Helvetica,sans-Serif\" font-size=\"14.00\">value = [0.94, 0.06]</text>\n",
       "<text text-anchor=\"start\" x=\"1923.5\" y=\"-7.8\" font-family=\"Helvetica,sans-Serif\" font-size=\"14.00\">class = perished</text>\n",
       "</g>\n",
       "<!-- 35&#45;&gt;37 -->\n",
       "<g id=\"edge37\" class=\"edge\">\n",
       "<title>35&#45;&gt;37</title>\n",
       "<path fill=\"none\" stroke=\"black\" d=\"M1878.85,-103.73C1891.97,-94.15 1905.93,-83.96 1918.97,-74.44\"/>\n",
       "<polygon fill=\"black\" stroke=\"black\" points=\"1921.37,-77.02 1927.38,-68.3 1917.24,-71.37 1921.37,-77.02\"/>\n",
       "</g>\n",
       "</g>\n",
       "</svg>\n"
      ],
      "text/plain": [
       "<graphviz.sources.Source at 0x148d05040>"
      ]
     },
     "execution_count": 49,
     "metadata": {},
     "output_type": "execute_result"
    }
   ],
   "source": [
    "plot_tree_custom(tree_cv.best_estimator_, feature_names=predictors, class_names=['perished', 'survived'])"
   ]
  },
  {
   "cell_type": "markdown",
   "metadata": {
    "id": "Dg6kdvGDsVm6"
   },
   "source": [
    "Looking at some of the leaf nodes, it looks like women with expensive tickets almost all survived, while men with cheap tickets almost all perished."
   ]
  },
  {
   "cell_type": "markdown",
   "metadata": {
    "id": "JVjlE07T3Vz2"
   },
   "source": [
    "### Feature importance using the tree classifier"
   ]
  },
  {
   "cell_type": "markdown",
   "metadata": {
    "id": "EThqwETXUTJY"
   },
   "source": [
    "Feature importance values can be obtained from the trained classification tree.  Roughly, a feature is important in a tree if it is responsible for a lot of Gini reduction."
   ]
  },
  {
   "cell_type": "code",
   "execution_count": 50,
   "metadata": {
    "id": "mCD3VqRPy0MM"
   },
   "outputs": [
    {
     "data": {
      "image/png": "[encoded data removed]",
      "text/plain": [
       "<Figure size 600x400 with 1 Axes>"
      ]
     },
     "metadata": {},
     "output_type": "display_data"
    }
   ],
   "source": [
    "#@ 11 Plot the feature importance values from the best classification tree.\n",
    "\n",
    "# YOUR CODE HERE\n",
    "# Plot the importance of the ten most important features.  The bars should\n",
    "# be sorted by importance and feature names must be shown.\n",
    "#\n",
    "# The feature importance values are an attribute of a trained classification tree.\n",
    "# Hint: consider creating a Pandas series, and setting the index of the series.\n",
    "\n",
    "best_tree.fit(X_train, y_train)\n",
    "\n",
    "importances = best_tree.feature_importances_\n",
    "\n",
    "series = pd.Series(importances, index=predictors)\n",
    "top_features = series.sort_values(ascending=False).head(10)\n",
    "\n",
    "top_features.plot.barh()\n",
    "plt.xlabel('importance')\n",
    "plt.title('Feature importance from tree classifier')\n",
    "plt.show()"
   ]
  },
  {
   "cell_type": "markdown",
   "metadata": {
    "id": "ZIUC9ETUUk1n"
   },
   "source": [
    "From this point of view, the title of \"Mr.\" is by far the most important feature.  "
   ]
  },
  {
   "cell_type": "markdown",
   "metadata": {
    "id": "95XwgbtX3Zg1"
   },
   "source": [
    "### Feature importance using forward feature selection"
   ]
  },
  {
   "cell_type": "code",
   "execution_count": 51,
   "metadata": {
    "id": "wb0FLdgc3eXd"
   },
   "outputs": [],
   "source": [
    "#@ 12  Fill in the body of the loop\n",
    "\n",
    "def forward_selection_classif(clf, X, y, threshold=None, num_folds=5):\n",
    "    \"\"\" Perform forward feature selection with the given classifier.\n",
    "    Threshold is the improvement in accuracy for the selection\n",
    "    process to stop.\n",
    "    threshold = None causes all features to be selected.\n",
    "    \"\"\"\n",
    "\n",
    "    remaining = list(range(X.shape[1]))\n",
    "    selected = []\n",
    "    accuracies = []\n",
    "    previous_best = 0.0\n",
    "    while len(remaining) > 0:\n",
    "        # YOUR CODE HERE\n",
    "        # Use cross validation accuracy in computing the accuracy.\n",
    "        # Use cross_val_score() to perform cross validation.\n",
    "        # Use parameter num_folds to control the number of folds in cross validation.\n",
    "        # Don't forget that ross_val_score() returns multiple values.\n",
    "        # To test if the value of threshold is not None, you can write 'threshold is not None'\n",
    "        \n",
    "        # for all in x remaining\n",
    "        #     compute accuracy  for fetures in selected plus x\n",
    "        # append best x to selected\n",
    "        # remove best x from remaining\n",
    "        best_acc = 0.0\n",
    "        best_feature = None\n",
    "        \n",
    "        for i in remaining:\n",
    "            current_features = selected + [i]\n",
    "            rest_of_feat = X[:, current_features]\n",
    "            \n",
    "            acc = cross_val_score(clf, rest_of_feat, y, cv=num_folds, scoring='accuracy').mean()\n",
    "\n",
    "            if acc > best_acc:\n",
    "                best_acc = acc\n",
    "                best_feature = i\n",
    "\n",
    "        if best_feature != None:\n",
    "            selected.append(best_feature)\n",
    "            remaining.remove(best_feature)\n",
    "            accuracies.append(best_acc)\n",
    "        \n",
    "    return np.array(selected), accuracies"
   ]
  },
  {
   "cell_type": "code",
   "execution_count": 52,
   "metadata": {
    "id": "kZV1WoHS30Lt"
   },
   "outputs": [],
   "source": [
    "def plot_selected(selected, accuracies, predictors):\n",
    "    pd.Series(accuracies, index=predictors[selected]).plot.barh()\n",
    "    plt.xlim(0.5, 1.0)\n",
    "    plt.xlabel('Cross-validation accuracy')\n",
    "    plt.title('Result of forward feature selection')"
   ]
  },
  {
   "cell_type": "code",
   "execution_count": 53,
   "metadata": {
    "id": "V2r-wICh325U"
   },
   "outputs": [
    {
     "data": {
      "image/png": "[encoded data removed]",
      "text/plain": [
       "<Figure size 600x400 with 1 Axes>"
      ]
     },
     "metadata": {},
     "output_type": "display_data"
    }
   ],
   "source": [
    "selected, accuracies = forward_selection_classif(tree_cv.best_estimator_, X_train, y_train, num_folds=10)\n",
    "plot_selected(selected[:10], accuracies[:10], np.array(predictors))"
   ]
  },
  {
   "cell_type": "markdown",
   "metadata": {
    "id": "66MFUcv675pe"
   },
   "source": [
    "It is hard to see the precise accuracy values from the bar plot, so print them out."
   ]
  },
  {
   "cell_type": "code",
   "execution_count": 54,
   "metadata": {
    "id": "GyI1q1rN4Gj1"
   },
   "outputs": [
    {
     "name": "stdout",
     "output_type": "stream",
     "text": [
      "[0.7714 0.7802 0.802  0.8064 0.8086 0.8086 0.8097 0.8097 0.8097 0.8097]\n"
     ]
    }
   ],
   "source": [
    "print(np.array(accuracies[:10]).round(4))"
   ]
  },
  {
   "cell_type": "markdown",
   "metadata": {
    "id": "X4SFGFmr7_xW"
   },
   "source": [
    "### Test accuracy"
   ]
  },
  {
   "cell_type": "code",
   "execution_count": 55,
   "metadata": {
    "id": "IRNwMzKO5K_v"
   },
   "outputs": [
    {
     "name": "stdout",
     "output_type": "stream",
     "text": [
      "test accuracy: 0.806\n"
     ]
    }
   ],
   "source": [
    "#@ 13  Compute and print the test accuracy of your best tree from grid search.\n",
    "# (test accuracy means accuracy on the test set)\n",
    "# Hint: Don't forget that final test accuracy must be computed on a classifier.\n",
    "\n",
    "# YOUR CODE HERE\n",
    "# Print the test accuracy with 3 digits after the decimal point\n",
    "best_tree = tree_cv.best_estimator_\n",
    "\n",
    "acc = best_tree.score(X_test, y_test)\n",
    "\n",
    "print(f'test accuracy: {acc:.3f}')"
   ]
  },
  {
   "cell_type": "markdown",
   "metadata": {
    "id": "-y-7vzNE8ab-"
   },
   "source": [
    "### Conclusions"
   ]
  },
  {
   "cell_type": "markdown",
   "metadata": {},
   "source": [
    "Througout this homework assignment we fine tuned the parameters of a decision tree.  Our initial accuracy was around 78% but with some fine tuning we were able to get the accuracy to 80.6%."
   ]
  },
  {
   "cell_type": "markdown",
   "metadata": {
    "id": "3U-JoL_u8q7e"
   },
   "source": [
    "*Write your conclusions here.*"
   ]
  }
 ],
 "metadata": {
  "colab": {
   "provenance": []
  },
  "kernelspec": {
   "display_name": "Python 3 (ipykernel)",
   "language": "python",
   "name": "python3"
  },
  "language_info": {
   "codemirror_mode": {
    "name": "ipython",
    "version": 3
   },
   "file_extension": ".py",
   "mimetype": "text/x-python",
   "name": "python",
   "nbconvert_exporter": "python",
   "pygments_lexer": "ipython3",
   "version": "3.12.4"
  }
 },
 "nbformat": 4,
 "nbformat_minor": 4
}
